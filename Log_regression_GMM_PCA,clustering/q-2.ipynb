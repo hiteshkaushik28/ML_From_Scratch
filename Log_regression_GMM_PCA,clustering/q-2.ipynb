{
 "cells": [
  {
   "cell_type": "code",
   "execution_count": 253,
   "metadata": {},
   "outputs": [],
   "source": [
    "import numpy as np\n",
    "import math\n",
    "import matplotlib.pyplot as plt\n",
    "from matplotlib.pyplot import figure\n",
    "import pandas as pd\n",
    "eps = np.finfo(float).eps\n",
    "import operator\n",
    "from tabulate import tabulate"
   ]
  },
  {
   "cell_type": "code",
   "execution_count": 254,
   "metadata": {},
   "outputs": [],
   "source": [
    "def preprocess_data(path):\n",
    "    data = pd.read_csv(path)\n",
    "    data.drop(data.columns[[0]], axis = 1, inplace = True)\n",
    "    return data"
   ]
  },
  {
   "cell_type": "code",
   "execution_count": 255,
   "metadata": {},
   "outputs": [],
   "source": [
    "def input_output_split(data):\n",
    "    input = data.iloc[:,0:7]\n",
    "    input.insert(0,'ones',1)\n",
    "    output = data.iloc[:,7]\n",
    "    return input, output"
   ]
  },
  {
   "cell_type": "code",
   "execution_count": 256,
   "metadata": {},
   "outputs": [],
   "source": [
    "def split_data(data):\n",
    "#     train_data = dataset.sample(frac=0.8)\n",
    "#     val_data = dataset.drop(train_data.index)\n",
    "    train_data, val_data = np.split(data, [int(.8*len(data))])\n",
    "    train_data = train_data.reset_index(drop = True)\n",
    "    val_data = val_data.reset_index(drop = True)\n",
    "    return train_data, val_data"
   ]
  },
  {
   "cell_type": "code",
   "execution_count": 257,
   "metadata": {},
   "outputs": [],
   "source": [
    "def normalize(data):\n",
    "    for i in data.columns[:-2]:\n",
    "        data[i] = (data[i] - data[i].mean())/data[i].std()\n",
    "    return data"
   ]
  },
  {
   "cell_type": "code",
   "execution_count": 258,
   "metadata": {},
   "outputs": [],
   "source": [
    "def sigmoid_func(input):\n",
    "    result = 1 / (1 + np.exp(-input))\n",
    "    return result"
   ]
  },
  {
   "cell_type": "code",
   "execution_count": 259,
   "metadata": {},
   "outputs": [],
   "source": [
    "def theta_gen(alpha, epochs, input, actual_output):\n",
    "    theta = np.zeros(input.shape[1])\n",
    "    for i in range(epochs):\n",
    "        z = np.dot(input, theta)\n",
    "        h = sigmoid_func(z)\n",
    "        gradient = np.dot(input.T, (h - actual_output)) / actual_output.size\n",
    "        theta -= alpha * gradient\n",
    "    return theta"
   ]
  },
  {
   "cell_type": "code",
   "execution_count": 260,
   "metadata": {},
   "outputs": [],
   "source": [
    "def logistic_predict(input, theta):\n",
    "    temp = np.dot(input,theta)\n",
    "    return sigmoid_func(temp)"
   ]
  },
  {
   "cell_type": "code",
   "execution_count": 261,
   "metadata": {},
   "outputs": [],
   "source": [
    "def predict_with_threshold(input, threshold, theta):\n",
    "    return logistic_predict(input, theta) >= threshold"
   ]
  },
  {
   "cell_type": "code",
   "execution_count": 262,
   "metadata": {},
   "outputs": [],
   "source": [
    "def plot_graph(input1, input2, input3 = None):\n",
    "    fig, ax = plt.subplots(figsize=(12,6))\n",
    "    ax.plot(input1, input2, color=\"red\", lw=1, ls='-');\n",
    "    if(input3 != None):\n",
    "        ax.plot(input1, input3, color=\"blue\", lw=1, ls='-');\n",
    "    plt.title(\"Threshold vs Accuracy Plot\")\n",
    "    plt.xlabel(\"Threshold\")\n",
    "    plt.ylabel(\"Accuracy (%)\")\n",
    "    plt.show()"
   ]
  },
  {
   "cell_type": "code",
   "execution_count": 263,
   "metadata": {},
   "outputs": [],
   "source": [
    "def log_regression():\n",
    "    alpha = 0.01\n",
    "    epochs = 10000\n",
    "    data = preprocess_data(\"../input/AdmissionDataset/data.csv\")\n",
    "    data = normalize(data)\n",
    "    train_data, val_data = split_data(data)\n",
    "    train_in, train_out = input_output_split(train_data)\n",
    "    val_in, val_out = input_output_split(val_data)\n",
    "    theta = theta_gen(alpha, epochs, train_in, train_out)\n",
    "    \n",
    "    accuracy  = []\n",
    "    precision = []\n",
    "    recall    = []\n",
    "    threshold = []\n",
    "    for t in range(1, 10):\n",
    "        threshold.append(t / 10)\n",
    "        \n",
    "    correct = 0\n",
    "    for t in threshold:\n",
    "        correct = 0\n",
    "        actual = (val_out >= t)\n",
    "        predicted = predict_with_threshold(val_in, t, theta)\n",
    "        \n",
    "        actual_label_series = pd.Series(actual, name='Actual Output')\n",
    "        prediction_label_series = pd.Series(predicted, name='Predicted Output')\n",
    "        confusion_df = pd.crosstab(actual_label_series, prediction_label_series, margins=True)\n",
    "        print(tabulate(confusion_df, headers='keys', tablefmt='psql'))\n",
    "        \n",
    "        labels = confusion_df.keys()[:-1]\n",
    "        precision_dict = {}\n",
    "        recall_dict    = {}\n",
    "        f1_dict        = {}\n",
    "        \n",
    "        for label in labels:\n",
    "            correct += confusion_df[label][label]\n",
    "            temp_precision = float(confusion_df[label][label]) / confusion_df['All'][label]\n",
    "            precision_dict[label] = round(temp_precision * 100, 2)\n",
    "            temp_recall = float(confusion_df[label][label]) / confusion_df[label]['All']\n",
    "            recall_dict[label] = round(temp_recall * 100, 2)\n",
    "\n",
    "            if temp_recall == 0.0:\n",
    "                temp_recall = eps\n",
    "            if temp_precision == 0.0:\n",
    "                temp_precision = eps\n",
    "\n",
    "        acc = round((float(correct) / confusion_df['All']['All']) * 100, 2)\n",
    "        accuracy.append(acc)\n",
    "        precision.append(precision_dict[True])\n",
    "        recall.append(recall_dict[True])\n",
    "\n",
    "    return threshold, accuracy, precision, recall"
   ]
  },
  {
   "cell_type": "markdown",
   "metadata": {},
   "source": [
    "# <font color = \"blue\">PART 1 : Implement Logistic Regression Model</font>"
   ]
  },
  {
   "cell_type": "code",
   "execution_count": 265,
   "metadata": {
    "scrolled": true
   },
   "outputs": [
    {
     "name": "stdout",
     "output_type": "stream",
     "text": [
      "+-----------------+--------+-------+\n",
      "| Actual Output   |   True |   All |\n",
      "|-----------------+--------+-------|\n",
      "| True            |     90 |    90 |\n",
      "| All             |     90 |    90 |\n",
      "+-----------------+--------+-------+\n",
      "+-----------------+--------+-------+\n",
      "| Actual Output   |   True |   All |\n",
      "|-----------------+--------+-------|\n",
      "| True            |     90 |    90 |\n",
      "| All             |     90 |    90 |\n",
      "+-----------------+--------+-------+\n",
      "+-----------------+--------+-------+\n",
      "| Actual Output   |   True |   All |\n",
      "|-----------------+--------+-------|\n",
      "| True            |     90 |    90 |\n",
      "| All             |     90 |    90 |\n",
      "+-----------------+--------+-------+\n",
      "+-----------------+---------+--------+-------+\n",
      "| Actual Output   |   False |   True |   All |\n",
      "|-----------------+---------+--------+-------|\n",
      "| False           |       0 |      1 |     1 |\n",
      "| True            |       1 |     88 |    89 |\n",
      "| All             |       1 |     89 |    90 |\n",
      "+-----------------+---------+--------+-------+\n",
      "+-----------------+---------+--------+-------+\n",
      "| Actual Output   |   False |   True |   All |\n",
      "|-----------------+---------+--------+-------|\n",
      "| False           |       7 |      2 |     9 |\n",
      "| True            |       1 |     80 |    81 |\n",
      "| All             |       8 |     82 |    90 |\n",
      "+-----------------+---------+--------+-------+\n",
      "+-----------------+---------+--------+-------+\n",
      "| Actual Output   |   False |   True |   All |\n",
      "|-----------------+---------+--------+-------|\n",
      "| False           |      13 |      6 |    19 |\n",
      "| True            |       3 |     68 |    71 |\n",
      "| All             |      16 |     74 |    90 |\n",
      "+-----------------+---------+--------+-------+\n",
      "+-----------------+---------+--------+-------+\n",
      "| Actual Output   |   False |   True |   All |\n",
      "|-----------------+---------+--------+-------|\n",
      "| False           |      26 |      9 |    35 |\n",
      "| True            |      10 |     45 |    55 |\n",
      "| All             |      36 |     54 |    90 |\n",
      "+-----------------+---------+--------+-------+\n",
      "+-----------------+---------+--------+-------+\n",
      "| Actual Output   |   False |   True |   All |\n",
      "|-----------------+---------+--------+-------|\n",
      "| False           |      55 |      9 |    64 |\n",
      "| True            |       1 |     25 |    26 |\n",
      "| All             |      56 |     34 |    90 |\n",
      "+-----------------+---------+--------+-------+\n",
      "+-----------------+---------+--------+-------+\n",
      "| Actual Output   |   False |   True |   All |\n",
      "|-----------------+---------+--------+-------|\n",
      "| False           |      77 |      0 |    77 |\n",
      "| True            |       8 |      5 |    13 |\n",
      "| All             |      85 |      5 |    90 |\n",
      "+-----------------+---------+--------+-------+\n"
     ]
    }
   ],
   "source": [
    "threshold, accuracy, precision, recall = log_regression()"
   ]
  },
  {
   "cell_type": "code",
   "execution_count": 266,
   "metadata": {
    "scrolled": true
   },
   "outputs": [
    {
     "data": {
      "image/png": "[encoded data removed]",
      "text/plain": [
       "<Figure size 864x432 with 1 Axes>"
      ]
     },
     "metadata": {
      "needs_background": "light"
     },
     "output_type": "display_data"
    }
   ],
   "source": [
    "fig, ax = plt.subplots(figsize=(12,6))\n",
    "ax.plot(threshold, precision, color=\"black\", lw=1, ls='-',label = 'Precision');\n",
    "ax.plot(threshold, recall, color=\"red\", lw=1, ls='-',label = 'Recall');\n",
    "ax.plot(threshold, accuracy, color=\"blue\", lw=1, ls='-',label = 'Accuracy');\n",
    "plt.xlabel(\"Threshold\")\n",
    "plt.ylabel(\"Performance Percentage\")\n",
    "plt.legend()\n",
    "plt.show()"
   ]
  },
  {
   "cell_type": "markdown",
   "metadata": {},
   "source": [
    "# <font color = \"blue\">PART 2 : comparison of KNN and Logistic Regression</font>"
   ]
  },
  {
   "cell_type": "code",
   "execution_count": 237,
   "metadata": {},
   "outputs": [],
   "source": [
    "def euclid_distance(p1, p2):\n",
    "    distance = 0.0\n",
    "    length = len(p1) - 1\n",
    "#     print(length)\n",
    "    for i in range(1, length):\n",
    "        distance += (np.square(p1[i] - p2[i]))\n",
    "    return np.sqrt(distance)"
   ]
  },
  {
   "cell_type": "code",
   "execution_count": 238,
   "metadata": {},
   "outputs": [],
   "source": [
    "def find_winner(k_list):\n",
    "    temp = []\n",
    "    zeroes = 0\n",
    "    ones = 0\n",
    "    for it in k_list:\n",
    "        temp.append(it[1])\n",
    "        if it[1] == False:\n",
    "            zeroes+=1\n",
    "        else:\n",
    "            ones+=1\n",
    "    if zeroes > ones:\n",
    "        return False\n",
    "    else:\n",
    "        return True"
   ]
  },
  {
   "cell_type": "code",
   "execution_count": 239,
   "metadata": {},
   "outputs": [],
   "source": [
    "def build_KNN(k,train,validate):\n",
    "    k_list = []\n",
    "    TP = 0\n",
    "    FP = 0\n",
    "    TN = 0\n",
    "    FN = 0\n",
    "    index = 0\n",
    "    predicted = []\n",
    "    actual = []\n",
    "    itr = 0\n",
    "    for index_validate, row_validate in validate.iterrows():\n",
    "        distance_list = []\n",
    "        for index_train, row_train in train.iterrows():\n",
    "            itr += 1\n",
    "            distance_list.append((euclid_distance(row_validate,row_train), row_train[-1]))\n",
    "       \n",
    "        distance_list = sorted(distance_list, key = operator.itemgetter(0))\n",
    "        k_list = distance_list[0:k]\n",
    "        predicted_value = find_winner(k_list)\n",
    "        predicted.append(predicted_value)\n",
    "        actual_value = row_validate[-1]\n",
    "        actual.append(actual_value)\n",
    "        \n",
    "        if (predicted_value == False and actual_value == False):\n",
    "            TN += 1\n",
    "        elif (predicted_value == True and actual_value == False):\n",
    "            FP += 1\n",
    "        elif (predicted_value == True and actual_value == True):\n",
    "            TP += 1\n",
    "        else:\n",
    "            FN += 1\n",
    "    return TP, FP, TN, FN, predicted, actual"
   ]
  },
  {
   "cell_type": "code",
   "execution_count": 240,
   "metadata": {},
   "outputs": [],
   "source": [
    "def validate_KNN(k, train, validate):\n",
    "    TP, FP, TN, FN, predicted_list, actual_list = build_KNN(k, train, validate)\n",
    "    accuracy = ((TP + TN)/(TP + TN + FP + FN)) * 100\n",
    "    positive = TP + FP\n",
    "    precision = (TP / positive)\n",
    "    actual_positive = TP + FN\n",
    "    recall = TP / actual_positive\n",
    "    recall_inv = 1/recall\n",
    "    precision_inv = 1/precision\n",
    "    den = recall_inv + precision_inv\n",
    "    f1_score = (2 / den)\n",
    "#     print(\"accuracy = \",accuracy,\" precision = \", precision*100 , \" recall = \",recall*100 , \" f1_score = \", f1_score*100)\n",
    "    return(accuracy)"
   ]
  },
  {
   "cell_type": "code",
   "execution_count": 241,
   "metadata": {},
   "outputs": [],
   "source": [
    "def find_max_accuracy_and_k(train, validate):\n",
    "    accuracy_list = []\n",
    "    x_list = []\n",
    "    max_k = 0\n",
    "    max_accuracy = 0\n",
    "    for k in range(1,12,2):\n",
    "        accuracy = validate_KNN(k, train, validate)\n",
    "        accuracy_list.append(accuracy)\n",
    "        x_list.append(k)\n",
    "        if(accuracy > max_accuracy):\n",
    "            max_accuracy = accuracy\n",
    "            max_k = k\n",
    "    return max_accuracy"
   ]
  },
  {
   "cell_type": "code",
   "execution_count": 242,
   "metadata": {},
   "outputs": [],
   "source": [
    "def prepare_data(threshold, data):\n",
    "    data_knn = data.iloc[:, :-1]\n",
    "    Y_knn = data.iloc[:,-1] >= threshold\n",
    "    data_knn[\"Chance of Admit\"] = Y_knn\n",
    "\n",
    "    train, validate = np.split(data_knn,[int(.8*len(data_knn))])\n",
    "    train = train.reset_index(drop = True)\n",
    "    validate = validate.reset_index(drop = True)\n",
    "\n",
    "    return train,validate"
   ]
  },
  {
   "cell_type": "code",
   "execution_count": 243,
   "metadata": {},
   "outputs": [],
   "source": [
    "def KNN():\n",
    "    data = preprocess_data(\"../input/AdmissionDataset/data.csv\")\n",
    "    data = normalize(data)\n",
    "    threshold = []\n",
    "    for t in range(1, 10):\n",
    "        threshold.append(t/10)\n",
    "        \n",
    "    knn_accuracy = []\n",
    "    for t in threshold:\n",
    "        train, validate = prepare_data(t, data)\n",
    "        max_accuracy = find_max_accuracy_and_k(train, validate)\n",
    "        knn_accuracy.append(max_accuracy)\n",
    "    return threshold, knn_accuracy"
   ]
  },
  {
   "cell_type": "code",
   "execution_count": 244,
   "metadata": {},
   "outputs": [],
   "source": [
    "threshold, knn_accuracy = KNN()"
   ]
  },
  {
   "cell_type": "code",
   "execution_count": 245,
   "metadata": {
    "scrolled": true
   },
   "outputs": [
    {
     "data": {
      "image/png": "[encoded data removed]",
      "text/plain": [
       "<Figure size 864x432 with 1 Axes>"
      ]
     },
     "metadata": {
      "needs_background": "light"
     },
     "output_type": "display_data"
    }
   ],
   "source": [
    "plot_graph(threshold, accuracy, knn_accuracy)"
   ]
  },
  {
   "cell_type": "markdown",
   "metadata": {},
   "source": [
    "# PART 3 :"
   ]
  },
  {
   "cell_type": "markdown",
   "metadata": {},
   "source": [
    "## Report the criteria one should use while deciding the threshold value. Explain the reason behind your choice of threshold in your model."
   ]
  },
  {
   "cell_type": "markdown",
   "metadata": {},
   "source": [
    "The main visualization technique for showing the performance of a classification model is the Receiver Operating Characteristic (ROC) curve. \n",
    "* The ROC curve shows how the recall vs precision relationship changes as we vary the threshold for identifying a positive in our model. The threshold represents the value above which a data point is considered in the positive class. If we have a model for identifying a disease, our model might output a score for each patient between 0 and 1 and we can set a threshold in this range for labeling a patient as having the disease (a positive label). By altering the threshold, we can try to achieve the right precision vs recall balance.\n",
    "\n",
    "* An ROC curve plots the true positive rate on the y-axis versus the false positive rate on the x-axis. The true positive rate (TPR) is the recall and the false positive rate (FPR) is the probability of a false alarm. Both of these an be calculated from the confusion matrix.\n",
    "* I chose threshold as 0.5 as it is visible from the graph that at 0.5 the precision, accuracy, recall values are almost close to each other and there is very little variation."
   ]
  }
 ],
 "metadata": {
  "kernelspec": {
   "display_name": "Python 3",
   "language": "python",
   "name": "python3"
  },
  "language_info": {
   "codemirror_mode": {
    "name": "ipython",
    "version": 3
   },
   "file_extension": ".py",
   "mimetype": "text/x-python",
   "name": "python",
   "nbconvert_exporter": "python",
   "pygments_lexer": "ipython3",
   "version": "3.7.1"
  }
 },
 "nbformat": 4,
 "nbformat_minor": 2
}
