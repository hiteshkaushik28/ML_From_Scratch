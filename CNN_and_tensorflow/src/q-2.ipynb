{
 "cells": [
  {
   "cell_type": "markdown",
   "metadata": {},
   "source": [
    "### <font color = \"blue\">Question 1) What are the number of parameters in 1st convolutional layers</font>"
   ]
  },
  {
   "cell_type": "markdown",
   "metadata": {},
   "source": [
    "#### Total Filters = 6\n",
    "#### Size of each Filter = 5 * 5 * 4 = 100\n",
    "#### Total Parameters = 6 * 100 = 600"
   ]
  },
  {
   "cell_type": "markdown",
   "metadata": {},
   "source": [
    "### <font color = \"blue\">Question 2) What are the number of parameters in pooling operation?</font>"
   ]
  },
  {
   "cell_type": "markdown",
   "metadata": {},
   "source": [
    "#### Pooling operation doesn't involve any trainable parameters. It just outputs the maximum value of a region.\n",
    "#### Total Parameters = 0"
   ]
  },
  {
   "cell_type": "markdown",
   "metadata": {},
   "source": [
    "### <font color = \"blue\">Question 3) Which of the following operations contain most number of parameters?</font>\n",
    "#### (a) conv \n",
    "#### (b) pool\n",
    "#### (c) Fully connected layer (FC)\n",
    "#### (d) Activation Functions"
   ]
  },
  {
   "cell_type": "markdown",
   "metadata": {},
   "source": [
    "### Parameters in each layer :\n",
    "#### Layer 1 : 600\n",
    "#### Layer 2 : 0\n",
    "#### Layer 3 : 2400 (16 filters each pf size 5 * 5 * 6)\n",
    "#### Layer 4 : 0\n",
    "#### Layer 5 : 48000 (120 filters each of size 5 * 5 * 6)\n",
    "#### Layer 6 : 10080 (84 filter of size 1 * 1 * 120)\n",
    "#### Layer 7 : 840 (Gaussian connection matrix of size 84 * 10)\n",
    "### <font color = \"blue\">Answer : Maximum parameter estimation is required by Layer 5.</font>"
   ]
  },
  {
   "cell_type": "markdown",
   "metadata": {},
   "source": [
    "### Question 4) <font color = \"blue\">Which operation consume most amount of memory?</font>\n",
    "#### (a) initial convolution layers\n",
    "#### (b) fully connected layers at the end\n",
    "\n",
    "### Answer : Fully connected layers at the end consumes most amount of memory as the number of trainable parameters added with memory required for output of those layers is maximum of all."
   ]
  },
  {
   "cell_type": "code",
   "execution_count": null,
   "metadata": {},
   "outputs": [],
   "source": []
  }
 ],
 "metadata": {
  "kernelspec": {
   "display_name": "Python 3",
   "language": "python",
   "name": "python3"
  },
  "language_info": {
   "codemirror_mode": {
    "name": "ipython",
    "version": 3
   },
   "file_extension": ".py",
   "mimetype": "text/x-python",
   "name": "python",
   "nbconvert_exporter": "python",
   "pygments_lexer": "ipython3",
   "version": "3.5.2"
  }
 },
 "nbformat": 4,
 "nbformat_minor": 2
}
