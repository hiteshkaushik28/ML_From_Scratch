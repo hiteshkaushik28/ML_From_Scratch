{
 "cells": [
  {
   "cell_type": "code",
   "execution_count": 59,
   "metadata": {},
   "outputs": [],
   "source": [
    "# Import packages\n",
    "import numpy as np\n",
    "import pandas as pd\n",
    "ps = np.finfo(float).eps\n",
    "from numpy import log2 as log"
   ]
  },
  {
   "cell_type": "code",
   "execution_count": 60,
   "metadata": {},
   "outputs": [],
   "source": [
    "# Load training data\n",
    "train_data = pd.read_csv(\"train.csv\")\n",
    "train_data = train_data[['satisfaction_level', 'last_evaluation', 'number_project', 'average_montly_hours', 'time_spend_company', 'Work_accident', 'promotion_last_5years', 'sales', 'salary', 'left']]"
   ]
  },
  {
   "cell_type": "code",
   "execution_count": 61,
   "metadata": {},
   "outputs": [],
   "source": [
    "# Find unique values for a column/attribute\n",
    "def unique_vals(dataset, attribute):\n",
    "    return dataset[attribute].unique()"
   ]
  },
  {
   "cell_type": "code",
   "execution_count": 62,
   "metadata": {},
   "outputs": [],
   "source": [
    "def entropy_before_split(dataset):\n",
    "    \"\"\" Finds Entropy of dataset before any split \"\"\"\n",
    "    \n",
    "    dependent_variable = dataset.keys()[-1]\n",
    "    entropy = 0\n",
    "    labels = dataset[dependent_variable].unique()\n",
    "    for label in labels:\n",
    "        temp = dataset[dependent_variable].value_counts()[label] / len(dataset[dependent_variable])\n",
    "        entropy += -temp * log(temp)\n",
    "    return entropy"
   ]
  },
  {
   "cell_type": "code",
   "execution_count": 63,
   "metadata": {},
   "outputs": [],
   "source": [
    "def entropy_on_attribute_split(dataset, attribute):\n",
    "    \"\"\" Finds resulting entropy of dataset if it is split using attribute \"\"\"\n",
    "    entropy_after_split = 0\n",
    "    dependent_variable = dataset.keys()[-1]\n",
    "    class_labels = dataset[dependent_variable].unique()\n",
    "    attribute_labels = dataset[attribute].unique()\n",
    "    \n",
    "    for attribute_label in attribute_labels:\n",
    "        entropy = 0\n",
    "        for class_label in class_labels:\n",
    "            numer = len(dataset[attribute][dataset[attribute] == attribute_label][dataset[dependent_variable] == class_label])\n",
    "            denom = len(dataset[attribute][dataset[attribute] == attribute_label])\n",
    "            temp = numer / (denom + eps)\n",
    "            entropy += -temp * log(temp + eps)\n",
    "        temp2 = denom / len(dataset)\n",
    "        entropy_after_split += -temp2 * entropy\n",
    "    return abs(entropy_after_split)"
   ]
  },
  {
   "cell_type": "code",
   "execution_count": 68,
   "metadata": {},
   "outputs": [],
   "source": [
    "def split_criteria(dataset):\n",
    "    \"\"\" Finds the best attribute to split on \"\"\"\n",
    "    \n",
    "    # Define categorical attributes\n",
    "    attributes = [\"Work_accident\", \"promotion_last_5years\", \"sales\", \"salary\"]    \n",
    "    Info_gain = []\n",
    "    for key in dataset.keys()[:-1]:\n",
    "        if key in attributes:\n",
    "            Info_gain.append(entropy_before_split(dataset) - entropy_on_attribute_split(dataset, key))\n",
    "    return dataset.keys()[:-1][np.argmax(Info_gain)]"
   ]
  },
  {
   "cell_type": "code",
   "execution_count": 69,
   "metadata": {},
   "outputs": [
    {
     "name": "stdout",
     "output_type": "stream",
     "text": [
      "average_montly_hours\n"
     ]
    }
   ],
   "source": [
    "print (split_criteria(train_data))"
   ]
  }
 ],
 "metadata": {
  "kernelspec": {
   "display_name": "Python 3",
   "language": "python",
   "name": "python3"
  },
  "language_info": {
   "codemirror_mode": {
    "name": "ipython",
    "version": 3
   },
   "file_extension": ".py",
   "mimetype": "text/x-python",
   "name": "python",
   "nbconvert_exporter": "python",
   "pygments_lexer": "ipython3",
   "version": "3.5.2"
  }
 },
 "nbformat": 4,
 "nbformat_minor": 2
}
