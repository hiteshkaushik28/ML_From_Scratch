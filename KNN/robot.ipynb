{
 "cells": [
  {
   "cell_type": "markdown",
   "metadata": {},
   "source": [
    "## <font color = \"red\">Question 1 : Robot Dataset</font>"
   ]
  },
  {
   "cell_type": "markdown",
   "metadata": {},
   "source": [
    "## Import Essential Modules :\n",
    "**Numpy :** <font color = blue>Array based efficient computations</font><br>\n",
    "**Pandas :** <font color = blue>Manipulation of Datasets</font><br>\n",
    "**pprint :** <font color = blue>Printing Decision Trees in a linearised way</font><br>"
   ]
  },
  {
   "cell_type": "code",
   "execution_count": 3,
   "metadata": {},
   "outputs": [],
   "source": [
    "import numpy as np\n",
    "import math\n",
    "import pprint\n",
    "import operator\n",
    "import ipdb\n",
    "import matplotlib.pyplot as plt\n",
    "from matplotlib.pyplot import figure\n",
    "import pandas as pd\n",
    "eps = np.finfo(float).eps\n",
    "from numpy import log2 as log"
   ]
  },
  {
   "cell_type": "markdown",
   "metadata": {},
   "source": [
    "### Load Dataset stored in external  file in a pandas DataFrame\n",
    "<font color = blue>The dataset starts with blank column, so it is to be handled accordingly.</font>"
   ]
  },
  {
   "cell_type": "code",
   "execution_count": 4,
   "metadata": {},
   "outputs": [],
   "source": [
    "def load_preprocess_data(path):\n",
    "    dataset = pd.read_csv(path, delimiter = \" \", names = ['none', 'class_label', 'att1', 'att2', 'att3', 'att4', 'att5', 'att6', 'att7'])\n",
    "    drop_index = [0]\n",
    "    dataset.drop(dataset.columns[drop_index],axis=1,inplace=True)\n",
    "    dataset = dataset[['att1', 'att2', 'att3', 'att4', 'att5', 'att6', 'att7','class_label']]\n",
    "    dataset.drop(dataset.columns[6],axis=1,inplace=True)\n",
    "    return dataset"
   ]
  },
  {
   "cell_type": "markdown",
   "metadata": {},
   "source": [
    "### <font color = \"blue\"> The manhattan distance between two points is defined as : $d(M,P)=\\left | M_{x}\\ -\\ P_{x}\\right |\\ +\\ \\left | M_{y}\\ -\\ P_{y}\\right |$"
   ]
  },
  {
   "cell_type": "code",
   "execution_count": 5,
   "metadata": {},
   "outputs": [],
   "source": [
    "def manhattan_distance(p1, p2):\n",
    "    distance = 0.0\n",
    "    for i in range(0, len(p1) - 1):\n",
    "        distance += (np.absolute(p1[i] - p2[i]))\n",
    "    return distance"
   ]
  },
  {
   "cell_type": "markdown",
   "metadata": {},
   "source": [
    "### <font color = \"blue\"> The Euclids distance between two points is defined as : $d(M,P)= \\sqrt{\\left ( M_{x}\\ -\\ P_{x}\\right )^2\\ +\\ \\left ( M_{y}\\ -\\ P_{y}\\right)^2}$"
   ]
  },
  {
   "cell_type": "code",
   "execution_count": 6,
   "metadata": {},
   "outputs": [],
   "source": [
    "def euclid_distance(p1, p2):\n",
    "    distance = 0.0\n",
    "    for i in range(0, len(p1) - 1):\n",
    "        distance += (np.square(p1[i] - p2[i]))\n",
    "    return np.sqrt(distance)"
   ]
  },
  {
   "cell_type": "markdown",
   "metadata": {},
   "source": [
    "### <font color = \"blue\"> The Euclids distance between two points is defined as : $d(M,P)= \\sqrt[p]{\\left | M_{x}\\ -\\ P_{x}\\right |^p\\ +\\ \\left | M_{y}\\ -\\ P_{y}\\right|^p}$"
   ]
  },
  {
   "cell_type": "code",
   "execution_count": 7,
   "metadata": {},
   "outputs": [],
   "source": [
    "def minkowski_distance(p1, p2):\n",
    "    distance = 0.0\n",
    "    p = 3\n",
    "    for i in range(0, len(p1) - 1):\n",
    "        distance += np.power(abs(p1[i] - p2[i]),p) \n",
    "    distance = np.power(distance , (1/p))\n",
    "    return distance"
   ]
  },
  {
   "cell_type": "markdown",
   "metadata": {},
   "source": [
    "### <font color = \"blue\">Get Neighbours of a sample point using the distance measure specified"
   ]
  },
  {
   "cell_type": "code",
   "execution_count": 8,
   "metadata": {},
   "outputs": [],
   "source": [
    "def get_neighbours(training_set, test_instance, measure):\n",
    "    distances = []\n",
    "    if(measure == \"euclid\"):\n",
    "        for index, train_instance in training_set.iterrows():\n",
    "            dist = euclid_distance(train_instance, test_instance)\n",
    "            label = train_instance[\"class_label\"]\n",
    "            distances.append([label, dist])\n",
    "            \n",
    "    elif(measure == \"manhattan\"):\n",
    "         for index, train_instance in training_set.iterrows():\n",
    "            dist = manhattan_distance(train_instance, test_instance)\n",
    "            label = train_instance[\"class_label\"]\n",
    "            distances.append([label, dist])\n",
    "    else:\n",
    "        for index, train_instance in training_set.iterrows():\n",
    "            dist = minkowski_distance(train_instance, test_instance)\n",
    "            label = train_instance[\"class_label\"]\n",
    "            distances.append([label, dist])\n",
    "            \n",
    "    return sorted(distances, key = operator.itemgetter(1))"
   ]
  },
  {
   "cell_type": "markdown",
   "metadata": {},
   "source": [
    "### <font color = \"blue\"> This function finds the cumulative winner by considering all all K values. K lies between 2 to number of sample points."
   ]
  },
  {
   "cell_type": "code",
   "execution_count": 9,
   "metadata": {},
   "outputs": [],
   "source": [
    "def knn(training_set, test_set, measure):\n",
    "    predictions = []\n",
    "    distances = []\n",
    "    for index, test_instance in test_set.iterrows():\n",
    "        distances.append((get_neighbours(training_set, test_instance, measure)))\n",
    "        \n",
    "    temp = []\n",
    "    count_0 = 0\n",
    "    count_1 = 0\n",
    "    for i in range(0, len(distances)):\n",
    "        length = len(distances[i])\n",
    "        for j in range(0, length):\n",
    "            if(distances[i][j][0] == 0):\n",
    "                count_0 += 1\n",
    "            else:\n",
    "                count_1 += 1\n",
    "            if (count_0 >= count_1):\n",
    "                temp.append(0)\n",
    "            else:\n",
    "                temp.append(1)\n",
    "        predictions.append(temp)\n",
    "        count_0 = 0\n",
    "        count_1 = 0\n",
    "        temp = []\n",
    "    \n",
    "    return predictions\n",
    "        \n",
    "        "
   ]
  },
  {
   "cell_type": "markdown",
   "metadata": {},
   "source": [
    "### <font color = \"blue\">Utility to measure accuracy for validation dataset"
   ]
  },
  {
   "cell_type": "code",
   "execution_count": 10,
   "metadata": {},
   "outputs": [],
   "source": [
    "def accuracy(k, measure, dataset_index):\n",
    "    t_pos = 0 \n",
    "    t_neg = 0\n",
    "    f_pos = 0\n",
    "    f_neg = 0\n",
    "    predicted = []\n",
    "    \n",
    "    dataset_1 = \"./RobotDataset/Robot1\"\n",
    "    dataset_2 = \"./RobotDataset/Robot2\"\n",
    "    \n",
    "    if(dataset_index == 1):\n",
    "        dataset = load_preprocess_data(dataset_1)\n",
    "    else:\n",
    "        dataset = load_preprocess_data(dataset_2)\n",
    "    # train_data = dataset.sample(frac=0.8)\n",
    "    # val_data = dataset.drop(train_data.index)\n",
    "    train_data, val_data = np.split(dataset, [int(.8*len(dataset))])\n",
    "    \n",
    "    actual = val_data[\"class_label\"].tolist()\n",
    "    result = knn(train_data, val_data, measure)\n",
    "    for i in range(0, len(result)):\n",
    "        predicted.append(result[i][k - 1])\n",
    "        \n",
    "    for i in range(0, len(predicted)):\n",
    "        if (predicted[i] == 0 and actual[i] == 0):\n",
    "            t_neg += 1\n",
    "        elif (predicted[i] == 0 and actual[i] == 1):\n",
    "            f_neg += 1\n",
    "        elif (predicted[i] == 1 and actual[i] == 0):\n",
    "            f_pos += 1\n",
    "        else:\n",
    "            t_pos += 1\n",
    "    return t_pos, t_neg, f_pos, f_neg  "
   ]
  },
  {
   "cell_type": "markdown",
   "metadata": {},
   "source": [
    "### <font color = \"blue\"> This function calculates various performance measures"
   ]
  },
  {
   "cell_type": "code",
   "execution_count": 11,
   "metadata": {},
   "outputs": [],
   "source": [
    "def validate_robo(measure, dataset_index):\n",
    "    output = pd.DataFrame(columns = ['K', 'Accuracy', 'Precision', 'Recall', 'F1 Score'])\n",
    "    for k in range(1, 12, 2):\n",
    "        tp, tn, fp, fn = accuracy(k, measure, dataset_index)\n",
    "        total = tp + tn + fp + fn\n",
    "        accuracy_estimate = (tn + tp) / (total) * 100\n",
    "        precision_estimate = tp / (tp + fp) * 100\n",
    "        recall_estimate = (tp) / (tp + fn) * 100\n",
    "        f1_score = (1 / recall_estimate) + (1 / precision_estimate)\n",
    "        f1_score = (2 / f1_score)\n",
    "        output = output.append({'K':k, 'Accuracy':accuracy_estimate, 'Precision':precision_estimate, 'Recall':recall_estimate, 'F1 Score':f1_score}, ignore_index=True)\n",
    "    return output\n",
    "    \n",
    "        "
   ]
  },
  {
   "cell_type": "markdown",
   "metadata": {},
   "source": [
    "### <font color = \"blue\"> Utility to plot graphs"
   ]
  },
  {
   "cell_type": "code",
   "execution_count": 12,
   "metadata": {},
   "outputs": [],
   "source": [
    "def plot_graph(data):\n",
    "    plt.rcParams['figure.figsize'] = (8,4)\n",
    "    data.plot(kind='line',x = 'K',y = 'Accuracy',color = 'blue')\n",
    "    plt.show()"
   ]
  },
  {
   "cell_type": "markdown",
   "metadata": {},
   "source": [
    "## Robot 1 Dataset\n",
    "### <font color = \"blue\"> DataFrame showing various performance measures using Euclidian Distance for KNN"
   ]
  },
  {
   "cell_type": "code",
   "execution_count": 13,
   "metadata": {
    "scrolled": true
   },
   "outputs": [
    {
     "data": {
      "text/html": [
       "<div>\n",
       "<style scoped>\n",
       "    .dataframe tbody tr th:only-of-type {\n",
       "        vertical-align: middle;\n",
       "    }\n",
       "\n",
       "    .dataframe tbody tr th {\n",
       "        vertical-align: top;\n",
       "    }\n",
       "\n",
       "    .dataframe thead th {\n",
       "        text-align: right;\n",
       "    }\n",
       "</style>\n",
       "<table border=\"1\" class=\"dataframe\">\n",
       "  <thead>\n",
       "    <tr style=\"text-align: right;\">\n",
       "      <th></th>\n",
       "      <th>K</th>\n",
       "      <th>Accuracy</th>\n",
       "      <th>Precision</th>\n",
       "      <th>Recall</th>\n",
       "      <th>F1 Score</th>\n",
       "    </tr>\n",
       "  </thead>\n",
       "  <tbody>\n",
       "    <tr>\n",
       "      <th>0</th>\n",
       "      <td>1.0</td>\n",
       "      <td>56.0</td>\n",
       "      <td>81.250000</td>\n",
       "      <td>61.904762</td>\n",
       "      <td>70.270270</td>\n",
       "    </tr>\n",
       "    <tr>\n",
       "      <th>1</th>\n",
       "      <td>3.0</td>\n",
       "      <td>76.0</td>\n",
       "      <td>94.117647</td>\n",
       "      <td>76.190476</td>\n",
       "      <td>84.210526</td>\n",
       "    </tr>\n",
       "    <tr>\n",
       "      <th>2</th>\n",
       "      <td>5.0</td>\n",
       "      <td>76.0</td>\n",
       "      <td>94.117647</td>\n",
       "      <td>76.190476</td>\n",
       "      <td>84.210526</td>\n",
       "    </tr>\n",
       "    <tr>\n",
       "      <th>3</th>\n",
       "      <td>7.0</td>\n",
       "      <td>84.0</td>\n",
       "      <td>100.000000</td>\n",
       "      <td>80.952381</td>\n",
       "      <td>89.473684</td>\n",
       "    </tr>\n",
       "    <tr>\n",
       "      <th>4</th>\n",
       "      <td>9.0</td>\n",
       "      <td>80.0</td>\n",
       "      <td>100.000000</td>\n",
       "      <td>76.190476</td>\n",
       "      <td>86.486486</td>\n",
       "    </tr>\n",
       "    <tr>\n",
       "      <th>5</th>\n",
       "      <td>11.0</td>\n",
       "      <td>68.0</td>\n",
       "      <td>100.000000</td>\n",
       "      <td>61.904762</td>\n",
       "      <td>76.470588</td>\n",
       "    </tr>\n",
       "  </tbody>\n",
       "</table>\n",
       "</div>"
      ],
      "text/plain": [
       "      K  Accuracy   Precision     Recall   F1 Score\n",
       "0   1.0      56.0   81.250000  61.904762  70.270270\n",
       "1   3.0      76.0   94.117647  76.190476  84.210526\n",
       "2   5.0      76.0   94.117647  76.190476  84.210526\n",
       "3   7.0      84.0  100.000000  80.952381  89.473684\n",
       "4   9.0      80.0  100.000000  76.190476  86.486486\n",
       "5  11.0      68.0  100.000000  61.904762  76.470588"
      ]
     },
     "execution_count": 13,
     "metadata": {},
     "output_type": "execute_result"
    }
   ],
   "source": [
    "euclid_result_1 = validate_robo(\"euclid\", 1)\n",
    "euclid_result_1"
   ]
  },
  {
   "cell_type": "markdown",
   "metadata": {},
   "source": [
    "### <font color = \"blue\">Graph Plotting : Accuracy vs 'K' value using Euclidian Distance"
   ]
  },
  {
   "cell_type": "code",
   "execution_count": 14,
   "metadata": {
    "scrolled": true
   },
   "outputs": [
    {
     "data": {
      "image/png": "[encoded data removed]",
      "text/plain": [
       "<Figure size 576x288 with 1 Axes>"
      ]
     },
     "metadata": {
      "needs_background": "light"
     },
     "output_type": "display_data"
    }
   ],
   "source": [
    "plot_graph(euclid_result_1)"
   ]
  },
  {
   "cell_type": "markdown",
   "metadata": {},
   "source": [
    "### <font color = \"blue\"> Showing various performance measures using Manhattan Distance for KNN"
   ]
  },
  {
   "cell_type": "code",
   "execution_count": 15,
   "metadata": {},
   "outputs": [
    {
     "data": {
      "text/html": [
       "<div>\n",
       "<style scoped>\n",
       "    .dataframe tbody tr th:only-of-type {\n",
       "        vertical-align: middle;\n",
       "    }\n",
       "\n",
       "    .dataframe tbody tr th {\n",
       "        vertical-align: top;\n",
       "    }\n",
       "\n",
       "    .dataframe thead th {\n",
       "        text-align: right;\n",
       "    }\n",
       "</style>\n",
       "<table border=\"1\" class=\"dataframe\">\n",
       "  <thead>\n",
       "    <tr style=\"text-align: right;\">\n",
       "      <th></th>\n",
       "      <th>K</th>\n",
       "      <th>Accuracy</th>\n",
       "      <th>Precision</th>\n",
       "      <th>Recall</th>\n",
       "      <th>F1 Score</th>\n",
       "    </tr>\n",
       "  </thead>\n",
       "  <tbody>\n",
       "    <tr>\n",
       "      <th>0</th>\n",
       "      <td>1.0</td>\n",
       "      <td>48.0</td>\n",
       "      <td>78.571429</td>\n",
       "      <td>52.380952</td>\n",
       "      <td>62.857143</td>\n",
       "    </tr>\n",
       "    <tr>\n",
       "      <th>1</th>\n",
       "      <td>3.0</td>\n",
       "      <td>52.0</td>\n",
       "      <td>90.909091</td>\n",
       "      <td>47.619048</td>\n",
       "      <td>62.500000</td>\n",
       "    </tr>\n",
       "    <tr>\n",
       "      <th>2</th>\n",
       "      <td>5.0</td>\n",
       "      <td>56.0</td>\n",
       "      <td>100.000000</td>\n",
       "      <td>47.619048</td>\n",
       "      <td>64.516129</td>\n",
       "    </tr>\n",
       "    <tr>\n",
       "      <th>3</th>\n",
       "      <td>7.0</td>\n",
       "      <td>56.0</td>\n",
       "      <td>100.000000</td>\n",
       "      <td>47.619048</td>\n",
       "      <td>64.516129</td>\n",
       "    </tr>\n",
       "    <tr>\n",
       "      <th>4</th>\n",
       "      <td>9.0</td>\n",
       "      <td>56.0</td>\n",
       "      <td>100.000000</td>\n",
       "      <td>47.619048</td>\n",
       "      <td>64.516129</td>\n",
       "    </tr>\n",
       "    <tr>\n",
       "      <th>5</th>\n",
       "      <td>11.0</td>\n",
       "      <td>52.0</td>\n",
       "      <td>100.000000</td>\n",
       "      <td>42.857143</td>\n",
       "      <td>60.000000</td>\n",
       "    </tr>\n",
       "  </tbody>\n",
       "</table>\n",
       "</div>"
      ],
      "text/plain": [
       "      K  Accuracy   Precision     Recall   F1 Score\n",
       "0   1.0      48.0   78.571429  52.380952  62.857143\n",
       "1   3.0      52.0   90.909091  47.619048  62.500000\n",
       "2   5.0      56.0  100.000000  47.619048  64.516129\n",
       "3   7.0      56.0  100.000000  47.619048  64.516129\n",
       "4   9.0      56.0  100.000000  47.619048  64.516129\n",
       "5  11.0      52.0  100.000000  42.857143  60.000000"
      ]
     },
     "execution_count": 15,
     "metadata": {},
     "output_type": "execute_result"
    }
   ],
   "source": [
    "manhattan_result_1 = validate_robo(\"manhattan\", 1)\n",
    "manhattan_result_1"
   ]
  },
  {
   "cell_type": "markdown",
   "metadata": {},
   "source": [
    "### <font color = \"blue\">Graph Plotting : Accuracy vs 'K' value using Manhattan Distance"
   ]
  },
  {
   "cell_type": "code",
   "execution_count": 16,
   "metadata": {},
   "outputs": [
    {
     "data": {
      "image/png": "[encoded data removed]",
      "text/plain": [
       "<Figure size 576x288 with 1 Axes>"
      ]
     },
     "metadata": {
      "needs_background": "light"
     },
     "output_type": "display_data"
    }
   ],
   "source": [
    "plot_graph(manhattan_result_1)"
   ]
  },
  {
   "cell_type": "markdown",
   "metadata": {},
   "source": [
    "### <font color = \"blue\">DataFrame showing various performance measures using Minkowski Distance for KNN"
   ]
  },
  {
   "cell_type": "code",
   "execution_count": 17,
   "metadata": {
    "scrolled": true
   },
   "outputs": [
    {
     "data": {
      "text/html": [
       "<div>\n",
       "<style scoped>\n",
       "    .dataframe tbody tr th:only-of-type {\n",
       "        vertical-align: middle;\n",
       "    }\n",
       "\n",
       "    .dataframe tbody tr th {\n",
       "        vertical-align: top;\n",
       "    }\n",
       "\n",
       "    .dataframe thead th {\n",
       "        text-align: right;\n",
       "    }\n",
       "</style>\n",
       "<table border=\"1\" class=\"dataframe\">\n",
       "  <thead>\n",
       "    <tr style=\"text-align: right;\">\n",
       "      <th></th>\n",
       "      <th>K</th>\n",
       "      <th>Accuracy</th>\n",
       "      <th>Precision</th>\n",
       "      <th>Recall</th>\n",
       "      <th>F1 Score</th>\n",
       "    </tr>\n",
       "  </thead>\n",
       "  <tbody>\n",
       "    <tr>\n",
       "      <th>0</th>\n",
       "      <td>1.0</td>\n",
       "      <td>56.0</td>\n",
       "      <td>81.250000</td>\n",
       "      <td>61.904762</td>\n",
       "      <td>70.270270</td>\n",
       "    </tr>\n",
       "    <tr>\n",
       "      <th>1</th>\n",
       "      <td>3.0</td>\n",
       "      <td>76.0</td>\n",
       "      <td>94.117647</td>\n",
       "      <td>76.190476</td>\n",
       "      <td>84.210526</td>\n",
       "    </tr>\n",
       "    <tr>\n",
       "      <th>2</th>\n",
       "      <td>5.0</td>\n",
       "      <td>80.0</td>\n",
       "      <td>94.444444</td>\n",
       "      <td>80.952381</td>\n",
       "      <td>87.179487</td>\n",
       "    </tr>\n",
       "    <tr>\n",
       "      <th>3</th>\n",
       "      <td>7.0</td>\n",
       "      <td>96.0</td>\n",
       "      <td>100.000000</td>\n",
       "      <td>95.238095</td>\n",
       "      <td>97.560976</td>\n",
       "    </tr>\n",
       "    <tr>\n",
       "      <th>4</th>\n",
       "      <td>9.0</td>\n",
       "      <td>84.0</td>\n",
       "      <td>100.000000</td>\n",
       "      <td>80.952381</td>\n",
       "      <td>89.473684</td>\n",
       "    </tr>\n",
       "    <tr>\n",
       "      <th>5</th>\n",
       "      <td>11.0</td>\n",
       "      <td>72.0</td>\n",
       "      <td>100.000000</td>\n",
       "      <td>66.666667</td>\n",
       "      <td>80.000000</td>\n",
       "    </tr>\n",
       "  </tbody>\n",
       "</table>\n",
       "</div>"
      ],
      "text/plain": [
       "      K  Accuracy   Precision     Recall   F1 Score\n",
       "0   1.0      56.0   81.250000  61.904762  70.270270\n",
       "1   3.0      76.0   94.117647  76.190476  84.210526\n",
       "2   5.0      80.0   94.444444  80.952381  87.179487\n",
       "3   7.0      96.0  100.000000  95.238095  97.560976\n",
       "4   9.0      84.0  100.000000  80.952381  89.473684\n",
       "5  11.0      72.0  100.000000  66.666667  80.000000"
      ]
     },
     "execution_count": 17,
     "metadata": {},
     "output_type": "execute_result"
    }
   ],
   "source": [
    "minkowski_result_1 = validate_robo(\"minkowski\", 1)\n",
    "minkowski_result_1"
   ]
  },
  {
   "cell_type": "markdown",
   "metadata": {},
   "source": [
    "### <font color = \"blue\">Graph Plotting : Accuracy vs 'K' value using Minkowski Distance"
   ]
  },
  {
   "cell_type": "code",
   "execution_count": 18,
   "metadata": {
    "scrolled": true
   },
   "outputs": [
    {
     "data": {
      "image/png": "[encoded data removed]",
      "text/plain": [
       "<Figure size 576x288 with 1 Axes>"
      ]
     },
     "metadata": {
      "needs_background": "light"
     },
     "output_type": "display_data"
    }
   ],
   "source": [
    "plot_graph(minkowski_result_1)"
   ]
  },
  {
   "cell_type": "markdown",
   "metadata": {},
   "source": [
    "## Robot 2 Dataset\n",
    "### <font color = \"blue\">DataFrame showing various performance measures using Euclidian Distance for KNN"
   ]
  },
  {
   "cell_type": "code",
   "execution_count": 19,
   "metadata": {
    "scrolled": false
   },
   "outputs": [
    {
     "data": {
      "text/html": [
       "<div>\n",
       "<style scoped>\n",
       "    .dataframe tbody tr th:only-of-type {\n",
       "        vertical-align: middle;\n",
       "    }\n",
       "\n",
       "    .dataframe tbody tr th {\n",
       "        vertical-align: top;\n",
       "    }\n",
       "\n",
       "    .dataframe thead th {\n",
       "        text-align: right;\n",
       "    }\n",
       "</style>\n",
       "<table border=\"1\" class=\"dataframe\">\n",
       "  <thead>\n",
       "    <tr style=\"text-align: right;\">\n",
       "      <th></th>\n",
       "      <th>K</th>\n",
       "      <th>Accuracy</th>\n",
       "      <th>Precision</th>\n",
       "      <th>Recall</th>\n",
       "      <th>F1 Score</th>\n",
       "    </tr>\n",
       "  </thead>\n",
       "  <tbody>\n",
       "    <tr>\n",
       "      <th>0</th>\n",
       "      <td>1.0</td>\n",
       "      <td>80.0</td>\n",
       "      <td>75.0</td>\n",
       "      <td>81.818182</td>\n",
       "      <td>78.260870</td>\n",
       "    </tr>\n",
       "    <tr>\n",
       "      <th>1</th>\n",
       "      <td>3.0</td>\n",
       "      <td>92.0</td>\n",
       "      <td>100.0</td>\n",
       "      <td>81.818182</td>\n",
       "      <td>90.000000</td>\n",
       "    </tr>\n",
       "    <tr>\n",
       "      <th>2</th>\n",
       "      <td>5.0</td>\n",
       "      <td>88.0</td>\n",
       "      <td>90.0</td>\n",
       "      <td>81.818182</td>\n",
       "      <td>85.714286</td>\n",
       "    </tr>\n",
       "    <tr>\n",
       "      <th>3</th>\n",
       "      <td>7.0</td>\n",
       "      <td>92.0</td>\n",
       "      <td>100.0</td>\n",
       "      <td>81.818182</td>\n",
       "      <td>90.000000</td>\n",
       "    </tr>\n",
       "    <tr>\n",
       "      <th>4</th>\n",
       "      <td>9.0</td>\n",
       "      <td>92.0</td>\n",
       "      <td>100.0</td>\n",
       "      <td>81.818182</td>\n",
       "      <td>90.000000</td>\n",
       "    </tr>\n",
       "    <tr>\n",
       "      <th>5</th>\n",
       "      <td>11.0</td>\n",
       "      <td>84.0</td>\n",
       "      <td>100.0</td>\n",
       "      <td>63.636364</td>\n",
       "      <td>77.777778</td>\n",
       "    </tr>\n",
       "  </tbody>\n",
       "</table>\n",
       "</div>"
      ],
      "text/plain": [
       "      K  Accuracy  Precision     Recall   F1 Score\n",
       "0   1.0      80.0       75.0  81.818182  78.260870\n",
       "1   3.0      92.0      100.0  81.818182  90.000000\n",
       "2   5.0      88.0       90.0  81.818182  85.714286\n",
       "3   7.0      92.0      100.0  81.818182  90.000000\n",
       "4   9.0      92.0      100.0  81.818182  90.000000\n",
       "5  11.0      84.0      100.0  63.636364  77.777778"
      ]
     },
     "execution_count": 19,
     "metadata": {},
     "output_type": "execute_result"
    }
   ],
   "source": [
    "euclid_result_2 = validate_robo(\"euclid\", 2)\n",
    "euclid_result_2"
   ]
  },
  {
   "cell_type": "markdown",
   "metadata": {},
   "source": [
    "### <font color = \"blue\">Graph Plotting : Accuracy vs 'K' value using Euclidian Distance"
   ]
  },
  {
   "cell_type": "code",
   "execution_count": 20,
   "metadata": {
    "scrolled": true
   },
   "outputs": [
    {
     "data": {
      "image/png": "[encoded data removed]",
      "text/plain": [
       "<Figure size 576x288 with 1 Axes>"
      ]
     },
     "metadata": {
      "needs_background": "light"
     },
     "output_type": "display_data"
    }
   ],
   "source": [
    "plot_graph(euclid_result_2)"
   ]
  },
  {
   "cell_type": "markdown",
   "metadata": {},
   "source": [
    "### <font color = \"blue\">DataFrame showing various performance measures using Manhattan Distance for KNN"
   ]
  },
  {
   "cell_type": "code",
   "execution_count": 21,
   "metadata": {
    "scrolled": false
   },
   "outputs": [
    {
     "data": {
      "text/html": [
       "<div>\n",
       "<style scoped>\n",
       "    .dataframe tbody tr th:only-of-type {\n",
       "        vertical-align: middle;\n",
       "    }\n",
       "\n",
       "    .dataframe tbody tr th {\n",
       "        vertical-align: top;\n",
       "    }\n",
       "\n",
       "    .dataframe thead th {\n",
       "        text-align: right;\n",
       "    }\n",
       "</style>\n",
       "<table border=\"1\" class=\"dataframe\">\n",
       "  <thead>\n",
       "    <tr style=\"text-align: right;\">\n",
       "      <th></th>\n",
       "      <th>K</th>\n",
       "      <th>Accuracy</th>\n",
       "      <th>Precision</th>\n",
       "      <th>Recall</th>\n",
       "      <th>F1 Score</th>\n",
       "    </tr>\n",
       "  </thead>\n",
       "  <tbody>\n",
       "    <tr>\n",
       "      <th>0</th>\n",
       "      <td>1.0</td>\n",
       "      <td>84.0</td>\n",
       "      <td>88.888889</td>\n",
       "      <td>72.727273</td>\n",
       "      <td>80.000000</td>\n",
       "    </tr>\n",
       "    <tr>\n",
       "      <th>1</th>\n",
       "      <td>3.0</td>\n",
       "      <td>88.0</td>\n",
       "      <td>90.000000</td>\n",
       "      <td>81.818182</td>\n",
       "      <td>85.714286</td>\n",
       "    </tr>\n",
       "    <tr>\n",
       "      <th>2</th>\n",
       "      <td>5.0</td>\n",
       "      <td>84.0</td>\n",
       "      <td>88.888889</td>\n",
       "      <td>72.727273</td>\n",
       "      <td>80.000000</td>\n",
       "    </tr>\n",
       "    <tr>\n",
       "      <th>3</th>\n",
       "      <td>7.0</td>\n",
       "      <td>88.0</td>\n",
       "      <td>90.000000</td>\n",
       "      <td>81.818182</td>\n",
       "      <td>85.714286</td>\n",
       "    </tr>\n",
       "    <tr>\n",
       "      <th>4</th>\n",
       "      <td>9.0</td>\n",
       "      <td>88.0</td>\n",
       "      <td>90.000000</td>\n",
       "      <td>81.818182</td>\n",
       "      <td>85.714286</td>\n",
       "    </tr>\n",
       "    <tr>\n",
       "      <th>5</th>\n",
       "      <td>11.0</td>\n",
       "      <td>88.0</td>\n",
       "      <td>90.000000</td>\n",
       "      <td>81.818182</td>\n",
       "      <td>85.714286</td>\n",
       "    </tr>\n",
       "  </tbody>\n",
       "</table>\n",
       "</div>"
      ],
      "text/plain": [
       "      K  Accuracy  Precision     Recall   F1 Score\n",
       "0   1.0      84.0  88.888889  72.727273  80.000000\n",
       "1   3.0      88.0  90.000000  81.818182  85.714286\n",
       "2   5.0      84.0  88.888889  72.727273  80.000000\n",
       "3   7.0      88.0  90.000000  81.818182  85.714286\n",
       "4   9.0      88.0  90.000000  81.818182  85.714286\n",
       "5  11.0      88.0  90.000000  81.818182  85.714286"
      ]
     },
     "execution_count": 21,
     "metadata": {},
     "output_type": "execute_result"
    }
   ],
   "source": [
    "manhattan_result_2 = validate_robo(\"manhattan\", 2)\n",
    "manhattan_result_2"
   ]
  },
  {
   "cell_type": "markdown",
   "metadata": {},
   "source": [
    "### <font color = \"blue\">Graph Plotting : Accuracy vs 'K' value using Manhattan Distance"
   ]
  },
  {
   "cell_type": "code",
   "execution_count": 22,
   "metadata": {},
   "outputs": [
    {
     "data": {
      "image/png": "[encoded data removed]",
      "text/plain": [
       "<Figure size 576x288 with 1 Axes>"
      ]
     },
     "metadata": {
      "needs_background": "light"
     },
     "output_type": "display_data"
    }
   ],
   "source": [
    "plot_graph(manhattan_result_2)"
   ]
  },
  {
   "cell_type": "markdown",
   "metadata": {},
   "source": [
    "### <font color = \"blue\">DataFrame showing various performance measures using Minkowski Distance for KNN"
   ]
  },
  {
   "cell_type": "code",
   "execution_count": 23,
   "metadata": {},
   "outputs": [
    {
     "data": {
      "text/html": [
       "<div>\n",
       "<style scoped>\n",
       "    .dataframe tbody tr th:only-of-type {\n",
       "        vertical-align: middle;\n",
       "    }\n",
       "\n",
       "    .dataframe tbody tr th {\n",
       "        vertical-align: top;\n",
       "    }\n",
       "\n",
       "    .dataframe thead th {\n",
       "        text-align: right;\n",
       "    }\n",
       "</style>\n",
       "<table border=\"1\" class=\"dataframe\">\n",
       "  <thead>\n",
       "    <tr style=\"text-align: right;\">\n",
       "      <th></th>\n",
       "      <th>K</th>\n",
       "      <th>Accuracy</th>\n",
       "      <th>Precision</th>\n",
       "      <th>Recall</th>\n",
       "      <th>F1 Score</th>\n",
       "    </tr>\n",
       "  </thead>\n",
       "  <tbody>\n",
       "    <tr>\n",
       "      <th>0</th>\n",
       "      <td>1.0</td>\n",
       "      <td>80.0</td>\n",
       "      <td>75.000000</td>\n",
       "      <td>81.818182</td>\n",
       "      <td>78.260870</td>\n",
       "    </tr>\n",
       "    <tr>\n",
       "      <th>1</th>\n",
       "      <td>3.0</td>\n",
       "      <td>92.0</td>\n",
       "      <td>100.000000</td>\n",
       "      <td>81.818182</td>\n",
       "      <td>90.000000</td>\n",
       "    </tr>\n",
       "    <tr>\n",
       "      <th>2</th>\n",
       "      <td>5.0</td>\n",
       "      <td>84.0</td>\n",
       "      <td>81.818182</td>\n",
       "      <td>81.818182</td>\n",
       "      <td>81.818182</td>\n",
       "    </tr>\n",
       "    <tr>\n",
       "      <th>3</th>\n",
       "      <td>7.0</td>\n",
       "      <td>92.0</td>\n",
       "      <td>100.000000</td>\n",
       "      <td>81.818182</td>\n",
       "      <td>90.000000</td>\n",
       "    </tr>\n",
       "    <tr>\n",
       "      <th>4</th>\n",
       "      <td>9.0</td>\n",
       "      <td>92.0</td>\n",
       "      <td>100.000000</td>\n",
       "      <td>81.818182</td>\n",
       "      <td>90.000000</td>\n",
       "    </tr>\n",
       "    <tr>\n",
       "      <th>5</th>\n",
       "      <td>11.0</td>\n",
       "      <td>84.0</td>\n",
       "      <td>100.000000</td>\n",
       "      <td>63.636364</td>\n",
       "      <td>77.777778</td>\n",
       "    </tr>\n",
       "  </tbody>\n",
       "</table>\n",
       "</div>"
      ],
      "text/plain": [
       "      K  Accuracy   Precision     Recall   F1 Score\n",
       "0   1.0      80.0   75.000000  81.818182  78.260870\n",
       "1   3.0      92.0  100.000000  81.818182  90.000000\n",
       "2   5.0      84.0   81.818182  81.818182  81.818182\n",
       "3   7.0      92.0  100.000000  81.818182  90.000000\n",
       "4   9.0      92.0  100.000000  81.818182  90.000000\n",
       "5  11.0      84.0  100.000000  63.636364  77.777778"
      ]
     },
     "execution_count": 23,
     "metadata": {},
     "output_type": "execute_result"
    }
   ],
   "source": [
    "minkowski_result_2 = validate_robo(\"minkowski\", 2)\n",
    "minkowski_result_2"
   ]
  },
  {
   "cell_type": "markdown",
   "metadata": {},
   "source": [
    "### <font color = \"blue\">Graph Plotting : Accuracy vs 'K' value using Minkowski Distance"
   ]
  },
  {
   "cell_type": "code",
   "execution_count": 24,
   "metadata": {
    "scrolled": false
   },
   "outputs": [
    {
     "data": {
      "image/png": "[encoded data removed]",
      "text/plain": [
       "<Figure size 576x288 with 1 Axes>"
      ]
     },
     "metadata": {
      "needs_background": "light"
     },
     "output_type": "display_data"
    }
   ],
   "source": [
    "plot_graph(minkowski_result_2)"
   ]
  },
  {
   "cell_type": "markdown",
   "metadata": {},
   "source": [
    "## OBSERVATIONS"
   ]
  },
  {
   "cell_type": "markdown",
   "metadata": {},
   "source": [
    "### <font color = \"blue\"> Since k-NN classification is based on measuring the distance between the test data and each of the training data, the chosen distance function can affect the classification accuracy.\n",
    "### In addition, as different domain problem datasets usually contain different types of data, such as the categorical, numerical, and mixed types of data, therefore the selection should be made accordingly.\n",
    "### https://www.ncbi.nlm.nih.gov/pmc/articles/PMC4978658/ : Using the link as a reference :Experimental results show that k-NN by the Chi square distance function can make the k-NN classifier perform the best over the three different types of datasets. On the other hand, using the Euclidean distance function performs reasonably well over the categorical and numerical datasets, but not for the mixed type of datasets.\n",
    "### The small value of K will lead to a large variance in predictions. Alternatively, setting K to a large value may lead to a large model bias. Thus, K should be set to a value large enough to minimize the probability of misclassification and small enough (with respect to the number of cases in the example sample) so that the K nearest points are closer to the query point. \n"
   ]
  },
  {
   "cell_type": "markdown",
   "metadata": {},
   "source": [
    "### <h1 font color = \"blue\" align = \"center\"> *********** END *************** </font>"
   ]
  }
 ],
 "metadata": {
  "kernelspec": {
   "display_name": "Python 3",
   "language": "python",
   "name": "python3"
  },
  "language_info": {
   "codemirror_mode": {
    "name": "ipython",
    "version": 3
   },
   "file_extension": ".py",
   "mimetype": "text/x-python",
   "name": "python",
   "nbconvert_exporter": "python",
   "pygments_lexer": "ipython3",
   "version": "3.7.1"
  }
 },
 "nbformat": 4,
 "nbformat_minor": 2
}
