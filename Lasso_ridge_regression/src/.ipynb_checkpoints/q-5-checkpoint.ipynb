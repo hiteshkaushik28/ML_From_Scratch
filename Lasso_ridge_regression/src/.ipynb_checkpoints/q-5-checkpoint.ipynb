{
 "cells": [
  {
   "cell_type": "markdown",
   "metadata": {},
   "source": [
    "### Importing Essential Packages"
   ]
  },
  {
   "cell_type": "code",
   "execution_count": 33,
   "metadata": {},
   "outputs": [],
   "source": [
    "import numpy as np\n",
    "import pandas as pd\n",
    "import matplotlib.pyplot as plt\n",
    "import ipdb\n",
    "import time\n",
    "import sys"
   ]
  },
  {
   "cell_type": "markdown",
   "metadata": {},
   "source": [
    "### Reading the data and fetching the relevant information from the data"
   ]
  },
  {
   "cell_type": "code",
   "execution_count": 34,
   "metadata": {},
   "outputs": [],
   "source": [
    "data = pd.read_csv(\"../input_data/AdmissionDataset/data.csv\")\n",
    "\n",
    "#Dropping the Serial Number field of the given input table as it is not so relevant information for any prediction.\n",
    "data.drop(data.columns[[0]], axis=1, inplace=True)\n"
   ]
  },
  {
   "cell_type": "markdown",
   "metadata": {},
   "source": [
    "### Normalising the attributes so that the contours of the cost function will not form skewed elliptical shape and hence converge more quickly. "
   ]
  },
  {
   "cell_type": "code",
   "execution_count": 35,
   "metadata": {},
   "outputs": [],
   "source": [
    "#Normalizing all the attributes except for Research and Chance of Admit (as they are already in range) . \n",
    "def normalize(data):\n",
    "    for feature_name in data.columns[:-2]:\n",
    "        mean_value = data[feature_name].mean()\n",
    "        max_value = data[feature_name].max()\n",
    "        min_value = data[feature_name].min()\n",
    "        data[feature_name] = (data[feature_name] - mean_value) / (max_value - min_value)\n",
    "    return data    "
   ]
  },
  {
   "cell_type": "code",
   "execution_count": 36,
   "metadata": {},
   "outputs": [],
   "source": [
    "def find_X_and_Y(df):\n",
    "    #Adding a column 'ones' initialized with value 1 for all rows.\n",
    "    X = df.iloc[:,0:7]\n",
    "    ones = np.ones([X.shape[0],1])\n",
    "    X = np.concatenate((ones,X),axis=1)\n",
    "    Y = np.array([df.iloc[:, -1].values]).T\n",
    "    return X,Y"
   ]
  },
  {
   "cell_type": "markdown",
   "metadata": {},
   "source": [
    "### After normalizing the dataset , split the data into k chunks"
   ]
  },
  {
   "cell_type": "code",
   "execution_count": 37,
   "metadata": {},
   "outputs": [
    {
     "name": "stdout",
     "output_type": "stream",
     "text": [
      "(450, 8)\n"
     ]
    }
   ],
   "source": [
    "# print(data)\n",
    "data = normalize(data)\n",
    "X,Y = find_X_and_Y(data)\n",
    "print (data.shape)"
   ]
  },
  {
   "cell_type": "markdown",
   "metadata": {},
   "source": [
    "### Creating a dataset X that contains the first column as all 1's and which doesn't contain the final label 'Chance of Admit'(Input data)"
   ]
  },
  {
   "cell_type": "code",
   "execution_count": 38,
   "metadata": {},
   "outputs": [
    {
     "name": "stdout",
     "output_type": "stream",
     "text": [
      "(450, 9)\n"
     ]
    }
   ],
   "source": [
    "from sklearn.model_selection import KFold \n",
    "ones = np.ones([data.shape[0],1])\n",
    "data = np.concatenate((ones,data),axis=1)\n",
    "print (data.shape)"
   ]
  },
  {
   "cell_type": "markdown",
   "metadata": {},
   "source": [
    "### Initialising the values of alpha and number of iterations."
   ]
  },
  {
   "cell_type": "code",
   "execution_count": 39,
   "metadata": {},
   "outputs": [],
   "source": [
    "alpha = 0.001\n",
    "num_iter = 1000"
   ]
  },
  {
   "cell_type": "code",
   "execution_count": 40,
   "metadata": {},
   "outputs": [],
   "source": [
    "def ridge_cost(X, Y, theta, L):\n",
    "    predicted = (X @ theta.T)\n",
    "    errors = predicted - Y\n",
    "    square_errors = np.sum(np.square(errors)) + L * np.sum(np.square(theta[:,1:]))\n",
    "    return errors, square_errors, square_errors / (2 * len(X))"
   ]
  },
  {
   "cell_type": "code",
   "execution_count": 41,
   "metadata": {},
   "outputs": [],
   "source": [
    "def lasso_cost(X, Y, theta, L):\n",
    "    predicted = (X @ theta.T)\n",
    "    errors = predicted - Y\n",
    "    square_errors = np.sum(np.square(errors)) + L * np.sum(np.absolute(theta[:,1:]))\n",
    "    return errors, square_errors, square_errors / (2 * len(X))"
   ]
  },
  {
   "cell_type": "code",
   "execution_count": 42,
   "metadata": {},
   "outputs": [],
   "source": [
    "def mse(X, Y, theta):\n",
    "    errors = (X @ theta.T) - Y\n",
    "    square_errors = np.power(errors, 2)\n",
    "    return errors, square_errors, (np.sum(square_errors) / (2 * len(X)))"
   ]
  },
  {
   "cell_type": "code",
   "execution_count": 43,
   "metadata": {},
   "outputs": [],
   "source": [
    "def gradient_descent(X, Y, theta, nIterations, alpha, L , mode):\n",
    "    validation_list = []    \n",
    "    \n",
    "    for i in range(nIterations):\n",
    "#         print(\"X\", X.shape)\n",
    "#         print(\"Y\", Y.shape)\n",
    "#         print(\" theta \",theta.shape)\n",
    "        temp_X = X[:,1:]\n",
    "        temp_theta0 = theta[:,0]\n",
    "        temp_theta = theta[:,1:]\n",
    "#         print(\"temp X\", temp_X.shape)\n",
    "#         print(\"Y\", Y.shape)\n",
    "#         print(\" temp_theta \",temp_theta.shape)\n",
    "        temp_theta0 = temp_theta0 - (alpha/len(X)) * (np.array([np.sum((X[:,0].reshape(-1,1) * (X @ theta.T - Y)), axis = 0)]))\n",
    "        temp_theta = temp_theta*(1 - L*(alpha/len(X)) ) - (alpha/len(X)) * (np.array([np.sum((temp_X * (X @ theta.T - Y)), axis = 0)]))\n",
    "        theta[:,0] = temp_theta0\n",
    "        theta[:,1:] = temp_theta\n",
    "        if mode == \"ridge\":\n",
    "            current_cost = ridge_cost(X, Y, theta, L)[2]\n",
    "        if mode == \"lasso\":\n",
    "            current_cost = lasso_cost(X, Y, theta, L)[2]\n",
    "            \n",
    "        validation_list.append(current_cost)\n",
    "    return theta, validation_list"
   ]
  },
  {
   "cell_type": "code",
   "execution_count": 44,
   "metadata": {
    "scrolled": true
   },
   "outputs": [],
   "source": [
    "def validation(X,Y,X_validate,Y_validate,mode,lam):\n",
    "    lam_arr = np.arange(0,500,1)\n",
    "    validation_list = []\n",
    "    train_list = []\n",
    "    \n",
    "    print(\" lambda : \",lam)\n",
    "    theta = np.zeros([1,X.shape[1]])\n",
    "    theta,cost_list_train = gradient_descent(X,Y,theta,num_iter,alpha,lam , mode)\n",
    "    \n",
    "    current_cost_train = mse(X, Y, theta)[2] \n",
    "    current_cost = mse(X_validate, Y_validate, theta)[2] \n",
    "\n",
    "    validation_list.append(current_cost)\n",
    "    train_list.append(current_cost_train)\n",
    "    \n",
    "  \n",
    "    return lam_arr,train_list,validation_list"
   ]
  },
  {
   "cell_type": "code",
   "execution_count": 45,
   "metadata": {},
   "outputs": [],
   "source": [
    "def graph_plot(lam_arr,train_list,validation_list,mode):\n",
    "    fig, ax = plt.subplots(figsize=(12,6))\n",
    "    plt.title(mode) \n",
    "    ax.plot(lam_arr, train_list, color=\"Yellow\", lw=1, ls='-',label = 'Train');\n",
    "    ax.plot(lam_arr, validation_list, color=\"blue\", lw=1, ls='-',label = 'Validation');\n",
    "    plt.xlabel(\"Lambda\")\n",
    "    plt.ylabel(\"Error\")\n",
    "    plt.legend()\n",
    "    plt.show()"
   ]
  },
  {
   "cell_type": "code",
   "execution_count": 60,
   "metadata": {},
   "outputs": [],
   "source": [
    "def k_fold_cross_validation(k,data,X,Y):\n",
    "    \n",
    "    kf = KFold(n_splits=k) # Define the split - into 2 folds \n",
    "    kf.get_n_splits(X) # returns the number of splitting iterations in the cross-validator\n",
    "    ridge_train_cost = 0\n",
    "    ridge_test_cost = 0\n",
    "    lasso_train_cost = 0\n",
    "    lasso_test_cost = 0\n",
    "    \n",
    "    for train_index, test_index in kf.split(data):\n",
    "        \n",
    "        X_train, X_test = X[train_index], X[test_index]\n",
    "        y_train, y_test = Y[train_index], Y[test_index]\n",
    "        lam_arr,train_list,validation_list = validation(X_train,y_train,X_test,y_test,\"ridge\",40)\n",
    "\n",
    "#         graph_plot(lam_arr,train_list,validation_list,'Ridge Regression')\n",
    "        \n",
    "        ridge_train_cost += train_list[-1]\n",
    "        ridge_test_cost += validation_list[-1]\n",
    "\n",
    "\n",
    "        lasso_lam_arr,lasso_train_list,lasso_validation_list = validation(X_train,y_train,X_test,y_test,\"lasso\",40)\n",
    "#         graph_plot(lasso_lam_arr,lasso_train_list,lasso_validation_list,'Lasso Regression')\n",
    "        \n",
    "        lasso_train_cost += lasso_train_list[-1]\n",
    "        lasso_test_cost += lasso_validation_list[-1]\n",
    "    \n",
    "    print(ridge_train_cost,ridge_test_cost,lasso_train_cost,lasso_test_cost)\n",
    "    ridge_train_cost /= k\n",
    "    ridge_test_cost /= k\n",
    "    lasso_train_cost /=k\n",
    "    lasso_test_cost /=k\n",
    "    print(\"-----------------------------------------------------------------\")\n",
    "    print(ridge_train_cost,ridge_test_cost,lasso_train_cost,lasso_test_cost)\n",
    "    return ridge_test_cost,lasso_test_cost"
   ]
  },
  {
   "cell_type": "code",
   "execution_count": 61,
   "metadata": {},
   "outputs": [
    {
     "name": "stdout",
     "output_type": "stream",
     "text": [
      " lambda :  40\n",
      " lambda :  40\n",
      " lambda :  40\n",
      " lambda :  40\n",
      "0.053759187632747354 0.05380227409399774 0.053759187632747354 0.05380227409399774\n",
      "-----------------------------------------------------------------\n",
      "0.026879593816373677 0.02690113704699887 0.026879593816373677 0.02690113704699887\n"
     ]
    }
   ],
   "source": []
  },
  {
   "cell_type": "code",
   "execution_count": 72,
   "metadata": {},
   "outputs": [],
   "source": [
    "def graph_plot_with_k(k_start,k_end):\n",
    "    ridge_test_cost_list = []\n",
    "    lasso_test_cost_list = []\n",
    "    k_list = np.arange(k_start,k_end,1)\n",
    "    for i in k_list:\n",
    "        ridge_test_cost,lasso_test_cost = k_fold_cross_validation(i,data,X,Y)\n",
    "        \n",
    "        ridge_test_cost_list.append(ridge_test_cost)\n",
    "        lasso_test_cost_list.append(lasso_test_cost)\n",
    "        \n",
    "    fig, ax = plt.subplots(figsize=(12,6))\n",
    "    plt.title('Error plot with k') \n",
    "    \n",
    "    \n",
    "    ax.plot(k_list, ridge_test_cost_list, color=\"Yellow\", lw=1, ls='-',label = 'Ridge');\n",
    "    ax.plot(k_list, lasso_test_cost_list, color=\"blue\", lw=1, ls='-',label = 'Lasso');\n",
    "    plt.xlabel(\"Error\")\n",
    "    plt.ylabel(\"K\")\n",
    "    plt.legend()\n",
    "    plt.show()"
   ]
  },
  {
   "cell_type": "code",
   "execution_count": 73,
   "metadata": {},
   "outputs": [
    {
     "name": "stdout",
     "output_type": "stream",
     "text": [
      " lambda :  40\n",
      " lambda :  40\n",
      " lambda :  40\n",
      " lambda :  40\n",
      " lambda :  40\n",
      " lambda :  40\n",
      "0.0797400710024578 0.07979695823715219 0.0797400710024578 0.07979695823715219\n",
      "-----------------------------------------------------------------\n",
      "0.026580023667485932 0.02659898607905073 0.026580023667485932 0.02659898607905073\n",
      " lambda :  40\n",
      " lambda :  40\n",
      " lambda :  40\n",
      " lambda :  40\n",
      " lambda :  40\n",
      " lambda :  40\n",
      " lambda :  40\n",
      " lambda :  40\n",
      "0.10588867279183262 0.10617774006241458 0.10588867279183262 0.10617774006241458\n",
      "-----------------------------------------------------------------\n",
      "0.026472168197958154 0.026544435015603645 0.026472168197958154 0.026544435015603645\n"
     ]
    },
    {
     "data": {
      "image/png": "[encoded data removed]",
      "text/plain": [
       "<Figure size 864x432 with 1 Axes>"
      ]
     },
     "metadata": {
      "needs_background": "light"
     },
     "output_type": "display_data"
    }
   ],
   "source": [
    "graph_plot_with_k(3,5)"
   ]
  },
  {
   "cell_type": "code",
   "execution_count": null,
   "metadata": {},
   "outputs": [],
   "source": []
  },
  {
   "cell_type": "code",
   "execution_count": null,
   "metadata": {},
   "outputs": [],
   "source": []
  },
  {
   "cell_type": "code",
   "execution_count": null,
   "metadata": {},
   "outputs": [],
   "source": []
  },
  {
   "cell_type": "code",
   "execution_count": null,
   "metadata": {},
   "outputs": [],
   "source": []
  },
  {
   "cell_type": "code",
   "execution_count": null,
   "metadata": {},
   "outputs": [],
   "source": []
  },
  {
   "cell_type": "code",
   "execution_count": null,
   "metadata": {},
   "outputs": [],
   "source": []
  },
  {
   "cell_type": "code",
   "execution_count": null,
   "metadata": {},
   "outputs": [],
   "source": []
  },
  {
   "cell_type": "code",
   "execution_count": null,
   "metadata": {},
   "outputs": [],
   "source": []
  }
 ],
 "metadata": {
  "kernelspec": {
   "display_name": "Python 3",
   "language": "python",
   "name": "python3"
  },
  "language_info": {
   "codemirror_mode": {
    "name": "ipython",
    "version": 3
   },
   "file_extension": ".py",
   "mimetype": "text/x-python",
   "name": "python",
   "nbconvert_exporter": "python",
   "pygments_lexer": "ipython3",
   "version": "3.5.2"
  }
 },
 "nbformat": 4,
 "nbformat_minor": 2
}
