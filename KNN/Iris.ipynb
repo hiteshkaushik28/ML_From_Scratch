{
 "cells": [
  {
   "cell_type": "markdown",
   "metadata": {},
   "source": [
    "## <font color = \"red\">Question 1 : Iris Dataset</font>"
   ]
  },
  {
   "cell_type": "markdown",
   "metadata": {},
   "source": [
    "## Import Essential Modules :\n",
    "**Numpy :** <font color = blue>Array based efficient computations</font><br>\n",
    "**Pandas :** <font color = blue>Manipulation of Datasets</font><br>\n",
    "**pprint :** <font color = blue>Printing Decision Trees in a linearised way</font><br>"
   ]
  },
  {
   "cell_type": "code",
   "execution_count": 59,
   "metadata": {},
   "outputs": [],
   "source": [
    "import numpy as np\n",
    "import math\n",
    "from tabulate import tabulate\n",
    "import pprint\n",
    "import operator\n",
    "import ipdb\n",
    "import matplotlib.pyplot as plt\n",
    "from matplotlib.pyplot import figure\n",
    "import pandas as pd\n",
    "eps = np.finfo(float).eps\n",
    "from numpy import log2 as log"
   ]
  },
  {
   "cell_type": "markdown",
   "metadata": {},
   "source": [
    "### <font color = \"blue\">Load Dataset stored in external  file in a pandas DataFrame</font>"
   ]
  },
  {
   "cell_type": "code",
   "execution_count": 60,
   "metadata": {},
   "outputs": [],
   "source": [
    "def load_preprocess_data(path):\n",
    "    dataset = pd.read_csv(path, names = ['sepal_length', 'sepal_width', 'petal_length', 'petal_width', 'class_label'])\n",
    "    return dataset"
   ]
  },
  {
   "cell_type": "markdown",
   "metadata": {},
   "source": [
    "### <font color = \"blue\">Manhattan Distance</font>"
   ]
  },
  {
   "cell_type": "code",
   "execution_count": 62,
   "metadata": {},
   "outputs": [],
   "source": [
    "def manhattan_distance(p1, p2):\n",
    "    distance = 0.0\n",
    "    length = len(p1) - 1\n",
    "    for i in range(0, length):\n",
    "        distance += (np.absolute(p1[i] - p2[i]))\n",
    "    return distance"
   ]
  },
  {
   "cell_type": "markdown",
   "metadata": {},
   "source": [
    "### <font color = \"blue\">Euclid Distance</font>"
   ]
  },
  {
   "cell_type": "code",
   "execution_count": 63,
   "metadata": {},
   "outputs": [],
   "source": [
    "def euclid_distance(p1, p2):\n",
    "    distance = 0.0\n",
    "    length = len(p1) - 1\n",
    "    for i in range(0, length):\n",
    "        distance += (np.square(p1[i] - p2[i]))\n",
    "    return np.sqrt(distance)"
   ]
  },
  {
   "cell_type": "markdown",
   "metadata": {},
   "source": [
    "### <font color = \"blue\">Minkowski Distance</font>"
   ]
  },
  {
   "cell_type": "code",
   "execution_count": 80,
   "metadata": {},
   "outputs": [],
   "source": [
    "def minkowski_distance(p1, p2):\n",
    "    distance = 0.0\n",
    "    p = 3\n",
    "    length = len(p1) - 1\n",
    "    for i in range(0, length):\n",
    "        distance += np.power(abs(p1[i] - p2[i]),p) \n",
    "    distance = np.power(distance , (1/p))\n",
    "    return distance"
   ]
  },
  {
   "cell_type": "markdown",
   "metadata": {},
   "source": [
    "### <font color = \"blue\">Find neighbours of a test point</font>"
   ]
  },
  {
   "cell_type": "code",
   "execution_count": 65,
   "metadata": {},
   "outputs": [],
   "source": [
    "def get_neighbours(training_set, test_instance, measure):\n",
    "    distances = []\n",
    "    if(measure == \"euclid\"):\n",
    "        for index, train_instance in training_set.iterrows():\n",
    "            dist = euclid_distance(train_instance, test_instance)\n",
    "            label = train_instance[\"class_label\"]\n",
    "            distances.append([label, dist])\n",
    "            \n",
    "    elif(measure == \"manhattan\"):\n",
    "         for index, train_instance in training_set.iterrows():\n",
    "            dist = manhattan_distance(train_instance, test_instance)\n",
    "            label = train_instance[\"class_label\"]\n",
    "            distances.append([label, dist])\n",
    "    else:\n",
    "        for index, train_instance in training_set.iterrows():\n",
    "            dist = minkowski_distance(train_instance, test_instance)\n",
    "            label = train_instance[\"class_label\"]\n",
    "            distances.append([label, dist])\n",
    "            \n",
    "    return sorted(distances, key = operator.itemgetter(1))"
   ]
  },
  {
   "cell_type": "code",
   "execution_count": 66,
   "metadata": {},
   "outputs": [],
   "source": [
    "def maximum(a, b, c): \n",
    "    if (a >= b) and (a >= c): \n",
    "        label = \"Iris-setosa\"\n",
    "        \n",
    "    elif (b >= a) and (b >= c): \n",
    "        label = \"Iris-virginica\"\n",
    "        \n",
    "    else: \n",
    "        label = \"Iris-versicolor\"\n",
    "          \n",
    "    return label"
   ]
  },
  {
   "cell_type": "markdown",
   "metadata": {},
   "source": [
    "### <font color = \"blue\">This function keeps track of winner for a test point for all values of 'K' by preprocessing the data</font>"
   ]
  },
  {
   "cell_type": "code",
   "execution_count": 67,
   "metadata": {},
   "outputs": [],
   "source": [
    "def knn(training_set, test_set, measure):\n",
    "    predictions = []\n",
    "    distances = []\n",
    "    for index, test_instance in test_set.iterrows():\n",
    "        distances.append((get_neighbours(training_set, test_instance, measure)))\n",
    "#     print(distances)\n",
    "    temp = []\n",
    "    setosa = 0\n",
    "    virginica = 0\n",
    "    versicolor = 0\n",
    "    \n",
    "    for i in range(0, len(distances)):\n",
    "        \n",
    "        length = len(distances[i])\n",
    "        for j in range(0, length):\n",
    "            if(distances[i][j][0] == \"Iris-setosa\"):\n",
    "                setosa += 1\n",
    "            elif (distances[i][j][0] == \"Iris-virginica\"):\n",
    "                virginica += 1\n",
    "            else :\n",
    "                versicolor += 1        \n",
    "            max_label = maximum(setosa, virginica, versicolor)\n",
    "            temp.append(max_label)\n",
    "            \n",
    "        predictions.append(temp)\n",
    "        setosa = 0\n",
    "        virginica = 0\n",
    "        versicolor = 0\n",
    "        temp = []\n",
    "    \n",
    "    return predictions\n",
    "        \n",
    "        "
   ]
  },
  {
   "cell_type": "markdown",
   "metadata": {},
   "source": [
    "### <font color = \"blue\">Measure Accuracy, Precision, Recall, F1 Score, Confusion Matrix</font>"
   ]
  },
  {
   "cell_type": "code",
   "execution_count": 68,
   "metadata": {},
   "outputs": [],
   "source": [
    "def accuracy(k, measure):\n",
    "    t_pos = 0 \n",
    "    t_neg = 0\n",
    "    f_pos = 0\n",
    "    f_neg = 0\n",
    "    predicted = []\n",
    "    \n",
    "    dataset = load_preprocess_data(\"./Iris/Iris.csv\")\n",
    "    # train_data = dataset.sample(frac=0.8)\n",
    "    # val_data = dataset.drop(train_data.index)\n",
    "    train_data, val_data = np.split(dataset, [int(.8*len(dataset))])\n",
    "    actual = val_data[\"class_label\"].tolist()\n",
    "    result = knn(train_data, val_data, measure)\n",
    "    for i in range(0, len(result)):\n",
    "        predicted.append(result[i][k - 1])\n",
    "    \n",
    "    actual_matrix = pd.Series(actual, name='Actual/Predicted')\n",
    "    prediction_matrix = pd.Series(predicted, name='Predicted')\n",
    "    confusion_matrix = pd.crosstab(actual_matrix, prediction_matrix, margins=True)\n",
    "    return confusion_matrix "
   ]
  },
  {
   "cell_type": "markdown",
   "metadata": {},
   "source": [
    "### <font color = \"blue\">Measure Precision, Recall F1 Score for Setosa</font>"
   ]
  },
  {
   "cell_type": "code",
   "execution_count": 69,
   "metadata": {},
   "outputs": [],
   "source": [
    "def measure_setosa(matrix):\n",
    "    t_pos = matrix.iat[0 , 0]\n",
    "    a_pos = matrix.iat[0, 3]\n",
    "    p_pos = matrix.iat[3, 0]\n",
    "    recall = (t_pos / a_pos) * 100\n",
    "    precision = (t_pos / p_pos) * 100\n",
    "    f1_score = (1 / recall) + (1 / precision)\n",
    "    f1_score = (2 / f1_score)\n",
    "    return (precision , recall , f1_score )"
   ]
  },
  {
   "cell_type": "markdown",
   "metadata": {},
   "source": [
    "### <font color = \"blue\">Measure Precision, Recall F1 Score for Versicolor</font>"
   ]
  },
  {
   "cell_type": "code",
   "execution_count": 70,
   "metadata": {},
   "outputs": [],
   "source": [
    "def measure_versicolor(matrix):\n",
    "    t_pos = matrix.iat[1, 1]\n",
    "    a_pos = matrix.iat[1, 3]\n",
    "    p_pos = matrix.iat[3, 1]\n",
    "    recall = (t_pos / a_pos) * 100\n",
    "    precision = (t_pos / p_pos) * 100\n",
    "    f1_score = (1 / recall) + (1 / precision)\n",
    "    f1_score = (2 / f1_score)\n",
    "    return (precision , recall , f1_score )"
   ]
  },
  {
   "cell_type": "markdown",
   "metadata": {},
   "source": [
    "### <font color = \"blue\">Measure Precision, Recall F1 Score for Virginica</font>"
   ]
  },
  {
   "cell_type": "code",
   "execution_count": 71,
   "metadata": {},
   "outputs": [],
   "source": [
    "def measure_virginica(matrix):\n",
    "    t_pos = matrix.iat[2, 2]\n",
    "    a_pos = matrix.iat[2, 3]\n",
    "    p_pos = matrix.iat[3, 2]\n",
    "    recall = (t_pos / a_pos) * 100\n",
    "    precision = (t_pos / p_pos) * 100\n",
    "    f1_score = (1 / recall) + (1 / precision)\n",
    "    f1_score = (2 / f1_score)\n",
    "    return (precision , recall , f1_score )"
   ]
  },
  {
   "cell_type": "markdown",
   "metadata": {},
   "source": [
    "### <font color = \"blue\">Validate output for test data, print confusion matrix</font>"
   ]
  },
  {
   "cell_type": "code",
   "execution_count": 72,
   "metadata": {},
   "outputs": [],
   "source": [
    "def validate_robo(measure):\n",
    "    output = pd.DataFrame(columns = ['K', 'Accuracy', 'Precision Setosa', 'Precision VersiColor', 'Precision Virginica', 'Recall Setosa', 'Recall VersiColor', 'Recall Virginica','F1 Score Setosa', 'F1 Score VersiColor', 'F1 Score Virginica'])\n",
    "    for k in range(1, 12, 2):\n",
    "        matrix = accuracy(k, measure)\n",
    "        print(\"K = \",k)\n",
    "        print(tabulate(matrix, headers='keys', tablefmt='psql'))\n",
    "        print(\"\\n=====================================================================================\\n\")\n",
    "        total = (matrix.iat[3,3])\n",
    "        true_val = matrix.iat[0 , 0] + matrix.iat[1, 1] + matrix.iat[2, 2]\n",
    "        acc = true_val / total\n",
    "        precision_setosa , recall_setosa , f1_score_setosa = measure_setosa(matrix)\n",
    "        precision_versicolor , recall_versicolor , f1_score_versicolor = measure_versicolor(matrix)\n",
    "        precision_virginica , recall_virginica , f1_score_virginica = measure_virginica(matrix)\n",
    "        output = output.append({'K':k, 'Accuracy':acc, 'Precision Setosa':precision_setosa, 'Precision VersiColor':precision_versicolor, 'Precision Virginica':precision_virginica, 'Recall Setosa':recall_setosa, 'Recall VersiColor':recall_versicolor, 'Recall Virginica':recall_virginica,'F1 Score Setosa':f1_score_setosa, 'F1 Score VersiColor':f1_score_versicolor, 'F1 Score Virginica':f1_score_virginica}, ignore_index=True)\n",
    "    return output  "
   ]
  },
  {
   "cell_type": "markdown",
   "metadata": {},
   "source": [
    "### <font color = \"blue\">Utility to plot graphs</font>"
   ]
  },
  {
   "cell_type": "code",
   "execution_count": 73,
   "metadata": {},
   "outputs": [],
   "source": [
    "def plot_graph(data, title):\n",
    "    plt.rcParams['figure.figsize'] = (8,4)\n",
    "    data.plot(kind='line',x = 'K',y = 'Accuracy',color = 'blue')\n",
    "    plt.title(title)\n",
    "    plt.show()"
   ]
  },
  {
   "cell_type": "markdown",
   "metadata": {},
   "source": [
    "## Iris Dataset\n",
    "### DataFrame showing various performance measures using Euclidian Distance for KNN"
   ]
  },
  {
   "cell_type": "code",
   "execution_count": 74,
   "metadata": {
    "scrolled": true
   },
   "outputs": [
    {
     "name": "stdout",
     "output_type": "stream",
     "text": [
      "K =  1\n",
      "+--------------------+---------------+-------------------+------------------+-------+\n",
      "| Actual/Predicted   |   Iris-setosa |   Iris-versicolor |   Iris-virginica |   All |\n",
      "|--------------------+---------------+-------------------+------------------+-------|\n",
      "| Iris-setosa        |            11 |                 0 |                0 |    11 |\n",
      "| Iris-versicolor    |             0 |                 9 |                1 |    10 |\n",
      "| Iris-virginica     |             0 |                 0 |                6 |     6 |\n",
      "| All                |            11 |                 9 |                7 |    27 |\n",
      "+--------------------+---------------+-------------------+------------------+-------+\n",
      "\n",
      "=====================================================================================\n",
      "\n",
      "K =  3\n",
      "+--------------------+---------------+-------------------+------------------+-------+\n",
      "| Actual/Predicted   |   Iris-setosa |   Iris-versicolor |   Iris-virginica |   All |\n",
      "|--------------------+---------------+-------------------+------------------+-------|\n",
      "| Iris-setosa        |            11 |                 0 |                0 |    11 |\n",
      "| Iris-versicolor    |             0 |                 9 |                1 |    10 |\n",
      "| Iris-virginica     |             0 |                 0 |                6 |     6 |\n",
      "| All                |            11 |                 9 |                7 |    27 |\n",
      "+--------------------+---------------+-------------------+------------------+-------+\n",
      "\n",
      "=====================================================================================\n",
      "\n",
      "K =  5\n",
      "+--------------------+---------------+-------------------+------------------+-------+\n",
      "| Actual/Predicted   |   Iris-setosa |   Iris-versicolor |   Iris-virginica |   All |\n",
      "|--------------------+---------------+-------------------+------------------+-------|\n",
      "| Iris-setosa        |            11 |                 0 |                0 |    11 |\n",
      "| Iris-versicolor    |             0 |                 9 |                1 |    10 |\n",
      "| Iris-virginica     |             0 |                 0 |                6 |     6 |\n",
      "| All                |            11 |                 9 |                7 |    27 |\n",
      "+--------------------+---------------+-------------------+------------------+-------+\n",
      "\n",
      "=====================================================================================\n",
      "\n",
      "K =  7\n",
      "+--------------------+---------------+-------------------+------------------+-------+\n",
      "| Actual/Predicted   |   Iris-setosa |   Iris-versicolor |   Iris-virginica |   All |\n",
      "|--------------------+---------------+-------------------+------------------+-------|\n",
      "| Iris-setosa        |            11 |                 0 |                0 |    11 |\n",
      "| Iris-versicolor    |             0 |                 9 |                1 |    10 |\n",
      "| Iris-virginica     |             0 |                 0 |                6 |     6 |\n",
      "| All                |            11 |                 9 |                7 |    27 |\n",
      "+--------------------+---------------+-------------------+------------------+-------+\n",
      "\n",
      "=====================================================================================\n",
      "\n",
      "K =  9\n",
      "+--------------------+---------------+-------------------+------------------+-------+\n",
      "| Actual/Predicted   |   Iris-setosa |   Iris-versicolor |   Iris-virginica |   All |\n",
      "|--------------------+---------------+-------------------+------------------+-------|\n",
      "| Iris-setosa        |            11 |                 0 |                0 |    11 |\n",
      "| Iris-versicolor    |             0 |                10 |                0 |    10 |\n",
      "| Iris-virginica     |             0 |                 0 |                6 |     6 |\n",
      "| All                |            11 |                10 |                6 |    27 |\n",
      "+--------------------+---------------+-------------------+------------------+-------+\n",
      "\n",
      "=====================================================================================\n",
      "\n",
      "K =  11\n",
      "+--------------------+---------------+-------------------+------------------+-------+\n",
      "| Actual/Predicted   |   Iris-setosa |   Iris-versicolor |   Iris-virginica |   All |\n",
      "|--------------------+---------------+-------------------+------------------+-------|\n",
      "| Iris-setosa        |            11 |                 0 |                0 |    11 |\n",
      "| Iris-versicolor    |             0 |                10 |                0 |    10 |\n",
      "| Iris-virginica     |             0 |                 0 |                6 |     6 |\n",
      "| All                |            11 |                10 |                6 |    27 |\n",
      "+--------------------+---------------+-------------------+------------------+-------+\n",
      "\n",
      "=====================================================================================\n",
      "\n"
     ]
    },
    {
     "data": {
      "text/html": [
       "<div>\n",
       "<style scoped>\n",
       "    .dataframe tbody tr th:only-of-type {\n",
       "        vertical-align: middle;\n",
       "    }\n",
       "\n",
       "    .dataframe tbody tr th {\n",
       "        vertical-align: top;\n",
       "    }\n",
       "\n",
       "    .dataframe thead th {\n",
       "        text-align: right;\n",
       "    }\n",
       "</style>\n",
       "<table border=\"1\" class=\"dataframe\">\n",
       "  <thead>\n",
       "    <tr style=\"text-align: right;\">\n",
       "      <th></th>\n",
       "      <th>K</th>\n",
       "      <th>Accuracy</th>\n",
       "      <th>Precision Setosa</th>\n",
       "      <th>Precision VersiColor</th>\n",
       "      <th>Precision Virginica</th>\n",
       "      <th>Recall Setosa</th>\n",
       "      <th>Recall VersiColor</th>\n",
       "      <th>Recall Virginica</th>\n",
       "      <th>F1 Score Setosa</th>\n",
       "      <th>F1 Score VersiColor</th>\n",
       "      <th>F1 Score Virginica</th>\n",
       "    </tr>\n",
       "  </thead>\n",
       "  <tbody>\n",
       "    <tr>\n",
       "      <th>0</th>\n",
       "      <td>1.0</td>\n",
       "      <td>0.962963</td>\n",
       "      <td>100.0</td>\n",
       "      <td>100.0</td>\n",
       "      <td>85.714286</td>\n",
       "      <td>100.0</td>\n",
       "      <td>90.0</td>\n",
       "      <td>100.0</td>\n",
       "      <td>100.0</td>\n",
       "      <td>94.736842</td>\n",
       "      <td>92.307692</td>\n",
       "    </tr>\n",
       "    <tr>\n",
       "      <th>1</th>\n",
       "      <td>3.0</td>\n",
       "      <td>0.962963</td>\n",
       "      <td>100.0</td>\n",
       "      <td>100.0</td>\n",
       "      <td>85.714286</td>\n",
       "      <td>100.0</td>\n",
       "      <td>90.0</td>\n",
       "      <td>100.0</td>\n",
       "      <td>100.0</td>\n",
       "      <td>94.736842</td>\n",
       "      <td>92.307692</td>\n",
       "    </tr>\n",
       "    <tr>\n",
       "      <th>2</th>\n",
       "      <td>5.0</td>\n",
       "      <td>0.962963</td>\n",
       "      <td>100.0</td>\n",
       "      <td>100.0</td>\n",
       "      <td>85.714286</td>\n",
       "      <td>100.0</td>\n",
       "      <td>90.0</td>\n",
       "      <td>100.0</td>\n",
       "      <td>100.0</td>\n",
       "      <td>94.736842</td>\n",
       "      <td>92.307692</td>\n",
       "    </tr>\n",
       "    <tr>\n",
       "      <th>3</th>\n",
       "      <td>7.0</td>\n",
       "      <td>0.962963</td>\n",
       "      <td>100.0</td>\n",
       "      <td>100.0</td>\n",
       "      <td>85.714286</td>\n",
       "      <td>100.0</td>\n",
       "      <td>90.0</td>\n",
       "      <td>100.0</td>\n",
       "      <td>100.0</td>\n",
       "      <td>94.736842</td>\n",
       "      <td>92.307692</td>\n",
       "    </tr>\n",
       "    <tr>\n",
       "      <th>4</th>\n",
       "      <td>9.0</td>\n",
       "      <td>1.000000</td>\n",
       "      <td>100.0</td>\n",
       "      <td>100.0</td>\n",
       "      <td>100.000000</td>\n",
       "      <td>100.0</td>\n",
       "      <td>100.0</td>\n",
       "      <td>100.0</td>\n",
       "      <td>100.0</td>\n",
       "      <td>100.000000</td>\n",
       "      <td>100.000000</td>\n",
       "    </tr>\n",
       "    <tr>\n",
       "      <th>5</th>\n",
       "      <td>11.0</td>\n",
       "      <td>1.000000</td>\n",
       "      <td>100.0</td>\n",
       "      <td>100.0</td>\n",
       "      <td>100.000000</td>\n",
       "      <td>100.0</td>\n",
       "      <td>100.0</td>\n",
       "      <td>100.0</td>\n",
       "      <td>100.0</td>\n",
       "      <td>100.000000</td>\n",
       "      <td>100.000000</td>\n",
       "    </tr>\n",
       "  </tbody>\n",
       "</table>\n",
       "</div>"
      ],
      "text/plain": [
       "      K  Accuracy  Precision Setosa  Precision VersiColor  \\\n",
       "0   1.0  0.962963             100.0                 100.0   \n",
       "1   3.0  0.962963             100.0                 100.0   \n",
       "2   5.0  0.962963             100.0                 100.0   \n",
       "3   7.0  0.962963             100.0                 100.0   \n",
       "4   9.0  1.000000             100.0                 100.0   \n",
       "5  11.0  1.000000             100.0                 100.0   \n",
       "\n",
       "   Precision Virginica  Recall Setosa  Recall VersiColor  Recall Virginica  \\\n",
       "0            85.714286          100.0               90.0             100.0   \n",
       "1            85.714286          100.0               90.0             100.0   \n",
       "2            85.714286          100.0               90.0             100.0   \n",
       "3            85.714286          100.0               90.0             100.0   \n",
       "4           100.000000          100.0              100.0             100.0   \n",
       "5           100.000000          100.0              100.0             100.0   \n",
       "\n",
       "   F1 Score Setosa  F1 Score VersiColor  F1 Score Virginica  \n",
       "0            100.0            94.736842           92.307692  \n",
       "1            100.0            94.736842           92.307692  \n",
       "2            100.0            94.736842           92.307692  \n",
       "3            100.0            94.736842           92.307692  \n",
       "4            100.0           100.000000          100.000000  \n",
       "5            100.0           100.000000          100.000000  "
      ]
     },
     "execution_count": 74,
     "metadata": {},
     "output_type": "execute_result"
    }
   ],
   "source": [
    "euclid_result = validate_robo(\"euclid\")\n",
    "euclid_result"
   ]
  },
  {
   "cell_type": "markdown",
   "metadata": {},
   "source": [
    "### Graph Plotting : Accuracy vs 'K' value using Euclidian Distance"
   ]
  },
  {
   "cell_type": "code",
   "execution_count": 75,
   "metadata": {
    "scrolled": false
   },
   "outputs": [
    {
     "data": {
      "image/png": "[encoded data removed]",
      "text/plain": [
       "<Figure size 576x288 with 1 Axes>"
      ]
     },
     "metadata": {
      "needs_background": "light"
     },
     "output_type": "display_data"
    }
   ],
   "source": [
    "plot_graph(euclid_result, \"Accuracy vs K value using Euclidian Distance\")"
   ]
  },
  {
   "cell_type": "markdown",
   "metadata": {},
   "source": [
    "### DataFrame showing various performance measures using Manhattan Distance for KNN"
   ]
  },
  {
   "cell_type": "code",
   "execution_count": 76,
   "metadata": {},
   "outputs": [
    {
     "name": "stdout",
     "output_type": "stream",
     "text": [
      "K =  1\n",
      "+--------------------+---------------+-------------------+------------------+-------+\n",
      "| Actual/Predicted   |   Iris-setosa |   Iris-versicolor |   Iris-virginica |   All |\n",
      "|--------------------+---------------+-------------------+------------------+-------|\n",
      "| Iris-setosa        |            11 |                 0 |                0 |    11 |\n",
      "| Iris-versicolor    |             0 |                 9 |                1 |    10 |\n",
      "| Iris-virginica     |             0 |                 0 |                6 |     6 |\n",
      "| All                |            11 |                 9 |                7 |    27 |\n",
      "+--------------------+---------------+-------------------+------------------+-------+\n",
      "\n",
      "=====================================================================================\n",
      "\n",
      "K =  3\n",
      "+--------------------+---------------+-------------------+------------------+-------+\n",
      "| Actual/Predicted   |   Iris-setosa |   Iris-versicolor |   Iris-virginica |   All |\n",
      "|--------------------+---------------+-------------------+------------------+-------|\n",
      "| Iris-setosa        |            11 |                 0 |                0 |    11 |\n",
      "| Iris-versicolor    |             0 |                 9 |                1 |    10 |\n",
      "| Iris-virginica     |             0 |                 0 |                6 |     6 |\n",
      "| All                |            11 |                 9 |                7 |    27 |\n",
      "+--------------------+---------------+-------------------+------------------+-------+\n",
      "\n",
      "=====================================================================================\n",
      "\n",
      "K =  5\n",
      "+--------------------+---------------+-------------------+------------------+-------+\n",
      "| Actual/Predicted   |   Iris-setosa |   Iris-versicolor |   Iris-virginica |   All |\n",
      "|--------------------+---------------+-------------------+------------------+-------|\n",
      "| Iris-setosa        |            11 |                 0 |                0 |    11 |\n",
      "| Iris-versicolor    |             0 |                 8 |                2 |    10 |\n",
      "| Iris-virginica     |             0 |                 0 |                6 |     6 |\n",
      "| All                |            11 |                 8 |                8 |    27 |\n",
      "+--------------------+---------------+-------------------+------------------+-------+\n",
      "\n",
      "=====================================================================================\n",
      "\n",
      "K =  7\n",
      "+--------------------+---------------+-------------------+------------------+-------+\n",
      "| Actual/Predicted   |   Iris-setosa |   Iris-versicolor |   Iris-virginica |   All |\n",
      "|--------------------+---------------+-------------------+------------------+-------|\n",
      "| Iris-setosa        |            11 |                 0 |                0 |    11 |\n",
      "| Iris-versicolor    |             0 |                 8 |                2 |    10 |\n",
      "| Iris-virginica     |             0 |                 0 |                6 |     6 |\n",
      "| All                |            11 |                 8 |                8 |    27 |\n",
      "+--------------------+---------------+-------------------+------------------+-------+\n",
      "\n",
      "=====================================================================================\n",
      "\n",
      "K =  9\n",
      "+--------------------+---------------+-------------------+------------------+-------+\n",
      "| Actual/Predicted   |   Iris-setosa |   Iris-versicolor |   Iris-virginica |   All |\n",
      "|--------------------+---------------+-------------------+------------------+-------|\n",
      "| Iris-setosa        |            11 |                 0 |                0 |    11 |\n",
      "| Iris-versicolor    |             0 |                 9 |                1 |    10 |\n",
      "| Iris-virginica     |             0 |                 0 |                6 |     6 |\n",
      "| All                |            11 |                 9 |                7 |    27 |\n",
      "+--------------------+---------------+-------------------+------------------+-------+\n",
      "\n",
      "=====================================================================================\n",
      "\n",
      "K =  11\n",
      "+--------------------+---------------+-------------------+------------------+-------+\n",
      "| Actual/Predicted   |   Iris-setosa |   Iris-versicolor |   Iris-virginica |   All |\n",
      "|--------------------+---------------+-------------------+------------------+-------|\n",
      "| Iris-setosa        |            11 |                 0 |                0 |    11 |\n",
      "| Iris-versicolor    |             0 |                 8 |                2 |    10 |\n",
      "| Iris-virginica     |             0 |                 0 |                6 |     6 |\n",
      "| All                |            11 |                 8 |                8 |    27 |\n",
      "+--------------------+---------------+-------------------+------------------+-------+\n",
      "\n",
      "=====================================================================================\n",
      "\n"
     ]
    },
    {
     "data": {
      "text/html": [
       "<div>\n",
       "<style scoped>\n",
       "    .dataframe tbody tr th:only-of-type {\n",
       "        vertical-align: middle;\n",
       "    }\n",
       "\n",
       "    .dataframe tbody tr th {\n",
       "        vertical-align: top;\n",
       "    }\n",
       "\n",
       "    .dataframe thead th {\n",
       "        text-align: right;\n",
       "    }\n",
       "</style>\n",
       "<table border=\"1\" class=\"dataframe\">\n",
       "  <thead>\n",
       "    <tr style=\"text-align: right;\">\n",
       "      <th></th>\n",
       "      <th>K</th>\n",
       "      <th>Accuracy</th>\n",
       "      <th>Precision Setosa</th>\n",
       "      <th>Precision VersiColor</th>\n",
       "      <th>Precision Virginica</th>\n",
       "      <th>Recall Setosa</th>\n",
       "      <th>Recall VersiColor</th>\n",
       "      <th>Recall Virginica</th>\n",
       "      <th>F1 Score Setosa</th>\n",
       "      <th>F1 Score VersiColor</th>\n",
       "      <th>F1 Score Virginica</th>\n",
       "    </tr>\n",
       "  </thead>\n",
       "  <tbody>\n",
       "    <tr>\n",
       "      <th>0</th>\n",
       "      <td>1.0</td>\n",
       "      <td>0.962963</td>\n",
       "      <td>100.0</td>\n",
       "      <td>100.0</td>\n",
       "      <td>85.714286</td>\n",
       "      <td>100.0</td>\n",
       "      <td>90.0</td>\n",
       "      <td>100.0</td>\n",
       "      <td>100.0</td>\n",
       "      <td>94.736842</td>\n",
       "      <td>92.307692</td>\n",
       "    </tr>\n",
       "    <tr>\n",
       "      <th>1</th>\n",
       "      <td>3.0</td>\n",
       "      <td>0.962963</td>\n",
       "      <td>100.0</td>\n",
       "      <td>100.0</td>\n",
       "      <td>85.714286</td>\n",
       "      <td>100.0</td>\n",
       "      <td>90.0</td>\n",
       "      <td>100.0</td>\n",
       "      <td>100.0</td>\n",
       "      <td>94.736842</td>\n",
       "      <td>92.307692</td>\n",
       "    </tr>\n",
       "    <tr>\n",
       "      <th>2</th>\n",
       "      <td>5.0</td>\n",
       "      <td>0.925926</td>\n",
       "      <td>100.0</td>\n",
       "      <td>100.0</td>\n",
       "      <td>75.000000</td>\n",
       "      <td>100.0</td>\n",
       "      <td>80.0</td>\n",
       "      <td>100.0</td>\n",
       "      <td>100.0</td>\n",
       "      <td>88.888889</td>\n",
       "      <td>85.714286</td>\n",
       "    </tr>\n",
       "    <tr>\n",
       "      <th>3</th>\n",
       "      <td>7.0</td>\n",
       "      <td>0.925926</td>\n",
       "      <td>100.0</td>\n",
       "      <td>100.0</td>\n",
       "      <td>75.000000</td>\n",
       "      <td>100.0</td>\n",
       "      <td>80.0</td>\n",
       "      <td>100.0</td>\n",
       "      <td>100.0</td>\n",
       "      <td>88.888889</td>\n",
       "      <td>85.714286</td>\n",
       "    </tr>\n",
       "    <tr>\n",
       "      <th>4</th>\n",
       "      <td>9.0</td>\n",
       "      <td>0.962963</td>\n",
       "      <td>100.0</td>\n",
       "      <td>100.0</td>\n",
       "      <td>85.714286</td>\n",
       "      <td>100.0</td>\n",
       "      <td>90.0</td>\n",
       "      <td>100.0</td>\n",
       "      <td>100.0</td>\n",
       "      <td>94.736842</td>\n",
       "      <td>92.307692</td>\n",
       "    </tr>\n",
       "    <tr>\n",
       "      <th>5</th>\n",
       "      <td>11.0</td>\n",
       "      <td>0.925926</td>\n",
       "      <td>100.0</td>\n",
       "      <td>100.0</td>\n",
       "      <td>75.000000</td>\n",
       "      <td>100.0</td>\n",
       "      <td>80.0</td>\n",
       "      <td>100.0</td>\n",
       "      <td>100.0</td>\n",
       "      <td>88.888889</td>\n",
       "      <td>85.714286</td>\n",
       "    </tr>\n",
       "  </tbody>\n",
       "</table>\n",
       "</div>"
      ],
      "text/plain": [
       "      K  Accuracy  Precision Setosa  Precision VersiColor  \\\n",
       "0   1.0  0.962963             100.0                 100.0   \n",
       "1   3.0  0.962963             100.0                 100.0   \n",
       "2   5.0  0.925926             100.0                 100.0   \n",
       "3   7.0  0.925926             100.0                 100.0   \n",
       "4   9.0  0.962963             100.0                 100.0   \n",
       "5  11.0  0.925926             100.0                 100.0   \n",
       "\n",
       "   Precision Virginica  Recall Setosa  Recall VersiColor  Recall Virginica  \\\n",
       "0            85.714286          100.0               90.0             100.0   \n",
       "1            85.714286          100.0               90.0             100.0   \n",
       "2            75.000000          100.0               80.0             100.0   \n",
       "3            75.000000          100.0               80.0             100.0   \n",
       "4            85.714286          100.0               90.0             100.0   \n",
       "5            75.000000          100.0               80.0             100.0   \n",
       "\n",
       "   F1 Score Setosa  F1 Score VersiColor  F1 Score Virginica  \n",
       "0            100.0            94.736842           92.307692  \n",
       "1            100.0            94.736842           92.307692  \n",
       "2            100.0            88.888889           85.714286  \n",
       "3            100.0            88.888889           85.714286  \n",
       "4            100.0            94.736842           92.307692  \n",
       "5            100.0            88.888889           85.714286  "
      ]
     },
     "execution_count": 76,
     "metadata": {},
     "output_type": "execute_result"
    }
   ],
   "source": [
    "manhattan_result = validate_robo(\"manhattan\")\n",
    "manhattan_result"
   ]
  },
  {
   "cell_type": "markdown",
   "metadata": {},
   "source": [
    "### Graph Plotting : Accuracy vs 'K' value using Manhattan Distance"
   ]
  },
  {
   "cell_type": "code",
   "execution_count": 77,
   "metadata": {},
   "outputs": [
    {
     "data": {
      "image/png": "[encoded data removed]",
      "text/plain": [
       "<Figure size 576x288 with 1 Axes>"
      ]
     },
     "metadata": {
      "needs_background": "light"
     },
     "output_type": "display_data"
    }
   ],
   "source": [
    "plot_graph(manhattan_result, \"Accuracy vs K value using Manhattan Distance\")"
   ]
  },
  {
   "cell_type": "markdown",
   "metadata": {},
   "source": [
    "### DataFrame showing various performance measures using Minkowski Distance for KNN"
   ]
  },
  {
   "cell_type": "code",
   "execution_count": 78,
   "metadata": {
    "scrolled": true
   },
   "outputs": [
    {
     "name": "stdout",
     "output_type": "stream",
     "text": [
      "K =  1\n",
      "+--------------------+---------------+-------------------+------------------+-------+\n",
      "| Actual/Predicted   |   Iris-setosa |   Iris-versicolor |   Iris-virginica |   All |\n",
      "|--------------------+---------------+-------------------+------------------+-------|\n",
      "| Iris-setosa        |            11 |                 0 |                0 |    11 |\n",
      "| Iris-versicolor    |             0 |                 9 |                1 |    10 |\n",
      "| Iris-virginica     |             0 |                 0 |                6 |     6 |\n",
      "| All                |            11 |                 9 |                7 |    27 |\n",
      "+--------------------+---------------+-------------------+------------------+-------+\n",
      "\n",
      "=====================================================================================\n",
      "\n",
      "K =  3\n",
      "+--------------------+---------------+-------------------+------------------+-------+\n",
      "| Actual/Predicted   |   Iris-setosa |   Iris-versicolor |   Iris-virginica |   All |\n",
      "|--------------------+---------------+-------------------+------------------+-------|\n",
      "| Iris-setosa        |            11 |                 0 |                0 |    11 |\n",
      "| Iris-versicolor    |             0 |                 9 |                1 |    10 |\n",
      "| Iris-virginica     |             0 |                 0 |                6 |     6 |\n",
      "| All                |            11 |                 9 |                7 |    27 |\n",
      "+--------------------+---------------+-------------------+------------------+-------+\n",
      "\n",
      "=====================================================================================\n",
      "\n",
      "K =  5\n",
      "+--------------------+---------------+-------------------+------------------+-------+\n",
      "| Actual/Predicted   |   Iris-setosa |   Iris-versicolor |   Iris-virginica |   All |\n",
      "|--------------------+---------------+-------------------+------------------+-------|\n",
      "| Iris-setosa        |            11 |                 0 |                0 |    11 |\n",
      "| Iris-versicolor    |             0 |                 9 |                1 |    10 |\n",
      "| Iris-virginica     |             0 |                 0 |                6 |     6 |\n",
      "| All                |            11 |                 9 |                7 |    27 |\n",
      "+--------------------+---------------+-------------------+------------------+-------+\n",
      "\n",
      "=====================================================================================\n",
      "\n",
      "K =  7\n",
      "+--------------------+---------------+-------------------+------------------+-------+\n",
      "| Actual/Predicted   |   Iris-setosa |   Iris-versicolor |   Iris-virginica |   All |\n",
      "|--------------------+---------------+-------------------+------------------+-------|\n",
      "| Iris-setosa        |            11 |                 0 |                0 |    11 |\n",
      "| Iris-versicolor    |             0 |                10 |                0 |    10 |\n",
      "| Iris-virginica     |             0 |                 0 |                6 |     6 |\n",
      "| All                |            11 |                10 |                6 |    27 |\n",
      "+--------------------+---------------+-------------------+------------------+-------+\n",
      "\n",
      "=====================================================================================\n",
      "\n",
      "K =  9\n",
      "+--------------------+---------------+-------------------+------------------+-------+\n",
      "| Actual/Predicted   |   Iris-setosa |   Iris-versicolor |   Iris-virginica |   All |\n",
      "|--------------------+---------------+-------------------+------------------+-------|\n",
      "| Iris-setosa        |            11 |                 0 |                0 |    11 |\n",
      "| Iris-versicolor    |             0 |                10 |                0 |    10 |\n",
      "| Iris-virginica     |             0 |                 0 |                6 |     6 |\n",
      "| All                |            11 |                10 |                6 |    27 |\n",
      "+--------------------+---------------+-------------------+------------------+-------+\n",
      "\n",
      "=====================================================================================\n",
      "\n",
      "K =  11\n",
      "+--------------------+---------------+-------------------+------------------+-------+\n",
      "| Actual/Predicted   |   Iris-setosa |   Iris-versicolor |   Iris-virginica |   All |\n",
      "|--------------------+---------------+-------------------+------------------+-------|\n",
      "| Iris-setosa        |            11 |                 0 |                0 |    11 |\n",
      "| Iris-versicolor    |             0 |                10 |                0 |    10 |\n",
      "| Iris-virginica     |             0 |                 0 |                6 |     6 |\n",
      "| All                |            11 |                10 |                6 |    27 |\n",
      "+--------------------+---------------+-------------------+------------------+-------+\n",
      "\n",
      "=====================================================================================\n",
      "\n"
     ]
    },
    {
     "data": {
      "text/html": [
       "<div>\n",
       "<style scoped>\n",
       "    .dataframe tbody tr th:only-of-type {\n",
       "        vertical-align: middle;\n",
       "    }\n",
       "\n",
       "    .dataframe tbody tr th {\n",
       "        vertical-align: top;\n",
       "    }\n",
       "\n",
       "    .dataframe thead th {\n",
       "        text-align: right;\n",
       "    }\n",
       "</style>\n",
       "<table border=\"1\" class=\"dataframe\">\n",
       "  <thead>\n",
       "    <tr style=\"text-align: right;\">\n",
       "      <th></th>\n",
       "      <th>K</th>\n",
       "      <th>Accuracy</th>\n",
       "      <th>Precision Setosa</th>\n",
       "      <th>Precision VersiColor</th>\n",
       "      <th>Precision Virginica</th>\n",
       "      <th>Recall Setosa</th>\n",
       "      <th>Recall VersiColor</th>\n",
       "      <th>Recall Virginica</th>\n",
       "      <th>F1 Score Setosa</th>\n",
       "      <th>F1 Score VersiColor</th>\n",
       "      <th>F1 Score Virginica</th>\n",
       "    </tr>\n",
       "  </thead>\n",
       "  <tbody>\n",
       "    <tr>\n",
       "      <th>0</th>\n",
       "      <td>1.0</td>\n",
       "      <td>0.962963</td>\n",
       "      <td>100.0</td>\n",
       "      <td>100.0</td>\n",
       "      <td>85.714286</td>\n",
       "      <td>100.0</td>\n",
       "      <td>90.0</td>\n",
       "      <td>100.0</td>\n",
       "      <td>100.0</td>\n",
       "      <td>94.736842</td>\n",
       "      <td>92.307692</td>\n",
       "    </tr>\n",
       "    <tr>\n",
       "      <th>1</th>\n",
       "      <td>3.0</td>\n",
       "      <td>0.962963</td>\n",
       "      <td>100.0</td>\n",
       "      <td>100.0</td>\n",
       "      <td>85.714286</td>\n",
       "      <td>100.0</td>\n",
       "      <td>90.0</td>\n",
       "      <td>100.0</td>\n",
       "      <td>100.0</td>\n",
       "      <td>94.736842</td>\n",
       "      <td>92.307692</td>\n",
       "    </tr>\n",
       "    <tr>\n",
       "      <th>2</th>\n",
       "      <td>5.0</td>\n",
       "      <td>0.962963</td>\n",
       "      <td>100.0</td>\n",
       "      <td>100.0</td>\n",
       "      <td>85.714286</td>\n",
       "      <td>100.0</td>\n",
       "      <td>90.0</td>\n",
       "      <td>100.0</td>\n",
       "      <td>100.0</td>\n",
       "      <td>94.736842</td>\n",
       "      <td>92.307692</td>\n",
       "    </tr>\n",
       "    <tr>\n",
       "      <th>3</th>\n",
       "      <td>7.0</td>\n",
       "      <td>1.000000</td>\n",
       "      <td>100.0</td>\n",
       "      <td>100.0</td>\n",
       "      <td>100.000000</td>\n",
       "      <td>100.0</td>\n",
       "      <td>100.0</td>\n",
       "      <td>100.0</td>\n",
       "      <td>100.0</td>\n",
       "      <td>100.000000</td>\n",
       "      <td>100.000000</td>\n",
       "    </tr>\n",
       "    <tr>\n",
       "      <th>4</th>\n",
       "      <td>9.0</td>\n",
       "      <td>1.000000</td>\n",
       "      <td>100.0</td>\n",
       "      <td>100.0</td>\n",
       "      <td>100.000000</td>\n",
       "      <td>100.0</td>\n",
       "      <td>100.0</td>\n",
       "      <td>100.0</td>\n",
       "      <td>100.0</td>\n",
       "      <td>100.000000</td>\n",
       "      <td>100.000000</td>\n",
       "    </tr>\n",
       "    <tr>\n",
       "      <th>5</th>\n",
       "      <td>11.0</td>\n",
       "      <td>1.000000</td>\n",
       "      <td>100.0</td>\n",
       "      <td>100.0</td>\n",
       "      <td>100.000000</td>\n",
       "      <td>100.0</td>\n",
       "      <td>100.0</td>\n",
       "      <td>100.0</td>\n",
       "      <td>100.0</td>\n",
       "      <td>100.000000</td>\n",
       "      <td>100.000000</td>\n",
       "    </tr>\n",
       "  </tbody>\n",
       "</table>\n",
       "</div>"
      ],
      "text/plain": [
       "      K  Accuracy  Precision Setosa  Precision VersiColor  \\\n",
       "0   1.0  0.962963             100.0                 100.0   \n",
       "1   3.0  0.962963             100.0                 100.0   \n",
       "2   5.0  0.962963             100.0                 100.0   \n",
       "3   7.0  1.000000             100.0                 100.0   \n",
       "4   9.0  1.000000             100.0                 100.0   \n",
       "5  11.0  1.000000             100.0                 100.0   \n",
       "\n",
       "   Precision Virginica  Recall Setosa  Recall VersiColor  Recall Virginica  \\\n",
       "0            85.714286          100.0               90.0             100.0   \n",
       "1            85.714286          100.0               90.0             100.0   \n",
       "2            85.714286          100.0               90.0             100.0   \n",
       "3           100.000000          100.0              100.0             100.0   \n",
       "4           100.000000          100.0              100.0             100.0   \n",
       "5           100.000000          100.0              100.0             100.0   \n",
       "\n",
       "   F1 Score Setosa  F1 Score VersiColor  F1 Score Virginica  \n",
       "0            100.0            94.736842           92.307692  \n",
       "1            100.0            94.736842           92.307692  \n",
       "2            100.0            94.736842           92.307692  \n",
       "3            100.0           100.000000          100.000000  \n",
       "4            100.0           100.000000          100.000000  \n",
       "5            100.0           100.000000          100.000000  "
      ]
     },
     "execution_count": 78,
     "metadata": {},
     "output_type": "execute_result"
    }
   ],
   "source": [
    "minkowski_result = validate_robo(\"minkowski\")\n",
    "minkowski_result"
   ]
  },
  {
   "cell_type": "markdown",
   "metadata": {},
   "source": [
    "### <font color = \"blue\">Graph Plotting : Accuracy vs 'K' value using Minkowski Distance</font>"
   ]
  },
  {
   "cell_type": "code",
   "execution_count": 79,
   "metadata": {
    "scrolled": false
   },
   "outputs": [
    {
     "data": {
      "image/png": "[encoded data removed]",
      "text/plain": [
       "<Figure size 576x288 with 1 Axes>"
      ]
     },
     "metadata": {
      "needs_background": "light"
     },
     "output_type": "display_data"
    }
   ],
   "source": [
    "plot_graph(minkowski_result, \"Accuracy vs K value using Minkowski Distance\")"
   ]
  },
  {
   "cell_type": "markdown",
   "metadata": {},
   "source": [
    "### <h1 font color = \"blue\" align = \"center\"> *********** THE END *************** </font>"
   ]
  },
  {
   "cell_type": "code",
   "execution_count": null,
   "metadata": {},
   "outputs": [],
   "source": []
  }
 ],
 "metadata": {
  "kernelspec": {
   "display_name": "Python 3",
   "language": "python",
   "name": "python3"
  },
  "language_info": {
   "codemirror_mode": {
    "name": "ipython",
    "version": 3
   },
   "file_extension": ".py",
   "mimetype": "text/x-python",
   "name": "python",
   "nbconvert_exporter": "python",
   "pygments_lexer": "ipython3",
   "version": "3.7.1"
  }
 },
 "nbformat": 4,
 "nbformat_minor": 2
}
