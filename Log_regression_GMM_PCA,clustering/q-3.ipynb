{
 "cells": [
  {
   "cell_type": "code",
   "execution_count": 60,
   "metadata": {},
   "outputs": [],
   "source": [
    "import numpy as np\n",
    "import pandas as pd\n",
    "import matplotlib.pyplot as plt\n",
    "import ipdb\n",
    "from tabulate import tabulate\n",
    "import time\n",
    "import operator\n",
    "import sys\n",
    "from sklearn.metrics import accuracy_score\n",
    "eps = np.finfo(float).eps\n",
    "from itertools import combinations "
   ]
  },
  {
   "cell_type": "code",
   "execution_count": 10,
   "metadata": {},
   "outputs": [],
   "source": [
    "def preprocess_data(path):\n",
    "    data = pd.read_csv(path, delimiter = ';')\n",
    "    return data"
   ]
  },
  {
   "cell_type": "code",
   "execution_count": 44,
   "metadata": {},
   "outputs": [],
   "source": [
    "# preprocess_data(\"/home/kaushik/Coursework/SEM2/SMAI/Assignments/Assignment_3/input/wine-quality/data.csv\")"
   ]
  },
  {
   "cell_type": "code",
   "execution_count": 11,
   "metadata": {},
   "outputs": [],
   "source": [
    "def normalize(data):\n",
    "    for i in data.columns[:-1]:\n",
    "        data[i] = (data[i] - data[i].mean())/data[i].std()\n",
    "    return data"
   ]
  },
  {
   "cell_type": "code",
   "execution_count": 12,
   "metadata": {},
   "outputs": [],
   "source": [
    "def split_data(data):\n",
    "    train_data, val_data = np.split(data, [int(.8*len(data))])\n",
    "    train_data = train_data.reset_index(drop = True)\n",
    "    val_data = val_data.reset_index(drop = True)\n",
    "    return train_data, val_data"
   ]
  },
  {
   "cell_type": "code",
   "execution_count": 16,
   "metadata": {},
   "outputs": [],
   "source": [
    "def input_output_split(data):\n",
    "    input = data.iloc[:,0:11]\n",
    "    input.insert(0,'ones',1)\n",
    "    output = data.iloc[:,11]\n",
    "    return input, output"
   ]
  },
  {
   "cell_type": "code",
   "execution_count": 17,
   "metadata": {},
   "outputs": [],
   "source": [
    "def sigmoid_func(input):\n",
    "    result = 1 / (1 + np.exp(-input))\n",
    "    return result"
   ]
  },
  {
   "cell_type": "code",
   "execution_count": 22,
   "metadata": {},
   "outputs": [],
   "source": [
    "def theta_gen(alpha, epochs, input, actual_output):\n",
    "    theta = np.zeros(input.shape[1])\n",
    "    for i in range(epochs):\n",
    "        z = np.dot(input, theta)\n",
    "        h = sigmoid_func(z)\n",
    "        gradient = np.dot(input.T, (h - actual_output)) / actual_output.size\n",
    "        theta -= alpha * gradient\n",
    "    return theta"
   ]
  },
  {
   "cell_type": "code",
   "execution_count": 37,
   "metadata": {},
   "outputs": [],
   "source": [
    "def accuracy(predicted, test_data):\n",
    "    print(\"Accuracy:\", str(100 * np.mean(predicted == test_data)) + \"%\")"
   ]
  },
  {
   "cell_type": "code",
   "execution_count": 38,
   "metadata": {},
   "outputs": [],
   "source": [
    "def one_vs_all():\n",
    "    alpha = 0.01\n",
    "    epochs = 10000\n",
    "    data = preprocess_data(\"/home/kaushik/Coursework/SEM2/SMAI/Assignments/Assignment_3/input/wine-quality/data.csv\")\n",
    "    data = normalize(data)\n",
    "    train_data, val_data = split_data(data)\n",
    "    train_in, train_out = input_output_split(train_data)\n",
    "    val_in, val_out = input_output_split(val_data)\n",
    "    num = 11\n",
    "    \n",
    "    classifiers = np.zeros(shape = (num, train_in.shape[1]))\n",
    "    for c in range(0, num):\n",
    "        label = (train_out == c).astype(int)\n",
    "        classifiers[c, :] = theta_gen(alpha, epochs, train_in, label)\n",
    "    \n",
    "    temp = np.dot(val_in, classifiers.T)\n",
    "    res = sigmoid_func(temp)\n",
    "    prediction = res.argmax(axis = 1)\n",
    "    return prediction, val_out"
   ]
  },
  {
   "cell_type": "code",
   "execution_count": 39,
   "metadata": {},
   "outputs": [],
   "source": [
    "predicted, test_data = one_vs_all()"
   ]
  },
  {
   "cell_type": "code",
   "execution_count": 40,
   "metadata": {},
   "outputs": [
    {
     "name": "stdout",
     "output_type": "stream",
     "text": [
      "Accuracy: 53.06122448979592%\n"
     ]
    }
   ],
   "source": [
    "accuracy(predicted, test_data)"
   ]
  },
  {
   "cell_type": "code",
   "execution_count": 93,
   "metadata": {},
   "outputs": [],
   "source": [
    "# def one_vs_one():\n",
    "#     alpha = 0.01\n",
    "#     epochs = 10000\n",
    "#     data = preprocess_data(\"/home/kaushik/Coursework/SEM2/SMAI/Assignments/Assignment_3/input/wine-quality/data.csv\")\n",
    "#     data = normalize(data)\n",
    "#     train_data, val_data = split_data(data)\n",
    "# #     train_in, train_out = input_output_split(train_data)\n",
    "# #     val_in, val_out = input_output_split(val_data)\n",
    "#     for i in range(11):\n",
    "#         for j in range (i+1, 11):\n",
    "#             x_train = train_data[]\n",
    "            "
   ]
  },
  {
   "cell_type": "code",
   "execution_count": 94,
   "metadata": {},
   "outputs": [],
   "source": [
    "# one_vs_one()"
   ]
  },
  {
   "cell_type": "code",
   "execution_count": null,
   "metadata": {},
   "outputs": [],
   "source": []
  }
 ],
 "metadata": {
  "kernelspec": {
   "display_name": "Python 3",
   "language": "python",
   "name": "python3"
  },
  "language_info": {
   "codemirror_mode": {
    "name": "ipython",
    "version": 3
   },
   "file_extension": ".py",
   "mimetype": "text/x-python",
   "name": "python",
   "nbconvert_exporter": "python",
   "pygments_lexer": "ipython3",
   "version": "3.7.1"
  }
 },
 "nbformat": 4,
 "nbformat_minor": 2
}
