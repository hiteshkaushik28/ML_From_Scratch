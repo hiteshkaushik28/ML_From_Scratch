{
 "cells": [
  {
   "cell_type": "code",
   "execution_count": 68,
   "metadata": {},
   "outputs": [],
   "source": [
    "# Import packages\n",
    "import numpy as np\n",
    "import pandas as pd\n",
    "ps = np.finfo(float).eps\n",
    "from numpy import log2 as log"
   ]
  },
  {
   "cell_type": "code",
   "execution_count": 69,
   "metadata": {},
   "outputs": [],
   "source": [
    "# Load training data, split into train and validation sets\n",
    "data = pd.read_csv(\"train.csv\")\n",
    "data = train_data[['satisfaction_level', 'last_evaluation', 'number_project', 'average_montly_hours', 'time_spend_company', 'Work_accident', 'promotion_last_5years', 'sales', 'salary', 'left']]\n",
    "train_data = data.sample(frac=0.8,random_state=200)\n",
    "val_data = data.drop(train_data.index)"
   ]
  },
  {
   "cell_type": "code",
   "execution_count": 70,
   "metadata": {},
   "outputs": [],
   "source": [
    "# Find unique values for a column/attribute\n",
    "def unique_vals(dataset, attribute):\n",
    "    return dataset[attribute].unique()"
   ]
  },
  {
   "cell_type": "code",
   "execution_count": 71,
   "metadata": {},
   "outputs": [],
   "source": [
    "def entropy_before_split(dataset):\n",
    "    \"\"\" Finds Entropy of dataset before any split \"\"\"\n",
    "    \n",
    "    dependent_variable = dataset.keys()[-1]\n",
    "    entropy = 0\n",
    "    labels = dataset[dependent_variable].unique()\n",
    "    for label in labels:\n",
    "        temp = dataset[dependent_variable].value_counts()[label] / len(dataset[dependent_variable])\n",
    "        entropy += -temp * log(temp)\n",
    "    return entropy"
   ]
  },
  {
   "cell_type": "code",
   "execution_count": 72,
   "metadata": {},
   "outputs": [],
   "source": [
    "def entropy_on_attribute_split(dataset, attribute):\n",
    "    \"\"\" Finds resulting entropy of dataset if it is split using attribute \"\"\"\n",
    "    entropy_after_split = 0\n",
    "    dependent_variable = dataset.keys()[-1]\n",
    "    class_labels = dataset[dependent_variable].unique()\n",
    "    attribute_labels = dataset[attribute].unique()\n",
    "    \n",
    "    for attribute_label in attribute_labels:\n",
    "        entropy = 0\n",
    "        for class_label in class_labels:\n",
    "            numer = len(dataset[attribute][dataset[attribute] == attribute_label][dataset[dependent_variable] == class_label])\n",
    "            denom = len(dataset[attribute][dataset[attribute] == attribute_label])\n",
    "            temp = numer / (denom + ps)\n",
    "            entropy += -temp * log(temp + ps)\n",
    "        temp2 = denom / len(dataset)\n",
    "        entropy_after_split += -temp2 * entropy\n",
    "    return abs(entropy_after_split)"
   ]
  },
  {
   "cell_type": "code",
   "execution_count": 73,
   "metadata": {},
   "outputs": [],
   "source": [
    "def split_criteria(dataset):\n",
    "    \"\"\" Finds the best attribute to split on \"\"\"\n",
    "    \n",
    "    # Define categorical attributes\n",
    "    attributes = [\"Work_accident\", \"promotion_last_5years\", \"sales\", \"salary\"]    \n",
    "    Info_gain = {\"Work_accident\" : 0, \"promotion_last_5years\" : 0, \"sales\" : 0, \"salary\" : 0}\n",
    "    for key in dataset.keys()[:-1]:\n",
    "        if key in attributes:\n",
    "            Info_gain[key] = entropy_before_split(dataset) - entropy_on_attribute_split(dataset, key)\n",
    "    return max(Info_gain, key=lambda k: Info_gain[k])"
   ]
  },
  {
   "cell_type": "code",
   "execution_count": 75,
   "metadata": {},
   "outputs": [],
   "source": [
    "def split_dataset(dataset, feature, label):\n",
    "    \"\"\" This splits the dataset on given feature and all of its values \"\"\"\n",
    "    return dataset[dataset[feature] == label].reset_index(drop = True)"
   ]
  },
  {
   "cell_type": "code",
   "execution_count": null,
   "metadata": {},
   "outputs": [],
   "source": [
    "def Decision_tree(train_data):\n",
    "    \"\"\" Builds tree recursively \"\"\"\n",
    "    D_tree = {}\n",
    "    dependent_variable = train_data.keys()[-1]\n",
    "    root = split_criteria(train_data)\n",
    "    labels = train_data[root].unique()\n",
    "    D_tree[node] = {}\n",
    "    \n",
    "    for label in labels:\n",
    "        split_data = split_dataset(train_data, )\n",
    "    "
   ]
  },
  {
   "cell_type": "code",
   "execution_count": null,
   "metadata": {},
   "outputs": [],
   "source": []
  }
 ],
 "metadata": {
  "kernelspec": {
   "display_name": "Python 3",
   "language": "python",
   "name": "python3"
  },
  "language_info": {
   "codemirror_mode": {
    "name": "ipython",
    "version": 3
   },
   "file_extension": ".py",
   "mimetype": "text/x-python",
   "name": "python",
   "nbconvert_exporter": "python",
   "pygments_lexer": "ipython3",
   "version": "3.5.2"
  }
 },
 "nbformat": 4,
 "nbformat_minor": 2
}
