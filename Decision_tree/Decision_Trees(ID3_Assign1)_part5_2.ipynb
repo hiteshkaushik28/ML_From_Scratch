{
 "cells": [
  {
   "cell_type": "markdown",
   "metadata": {},
   "source": [
    "# Part 5_b : Plot the training and validation error with respect to number of nodes in the decision tree.\n",
    "<font color = blue>The idea is to store count of 0's and 1's at every node in the tree. <br>While predicting test data, whenever we reach a node whose total count (count of 0 + count of 1) is less than or equal to number of nodes in the tree, we can safely return the most probable answer at that node.<br> By doing this, we ensure that we are not going further down into the tree and.</blue>"
   ]
  },
  {
   "cell_type": "code",
   "execution_count": 77,
   "metadata": {},
   "outputs": [],
   "source": [
    "# Import packages\n",
    "import numpy as np\n",
    "import pprint\n",
    "import ipdb\n",
    "import pandas as pd\n",
    "import matplotlib.pyplot as plt\n",
    "eps = np.finfo(float).eps\n",
    "from numpy import log2 as log"
   ]
  },
  {
   "cell_type": "code",
   "execution_count": 78,
   "metadata": {
    "scrolled": true
   },
   "outputs": [],
   "source": [
    "# Load training data, split into train and validation sets\n",
    "data = pd.read_csv(\"train.csv\")\n",
    "train_data = data.sample(frac=0.8)\n",
    "val_data = data.drop(train_data.index)\n",
    "discrete_attributes = [\"Work_accident\", \"promotion_last_5years\", \"sales\", \"salary\"]    \n",
    "real_attributes = [\"satisfaction_level\", \"last_evaluation\", \"number_project\", \"average_montly_hours\", \"time_spend_company\"]"
   ]
  },
  {
   "cell_type": "code",
   "execution_count": 79,
   "metadata": {},
   "outputs": [],
   "source": [
    "def entropy_before_split(train_data):\n",
    "    \"\"\" Finds Entropy of dataset before any split \"\"\"\n",
    "    \n",
    "    dependent_variable = \"left\"\n",
    "    entropy = 0\n",
    "    labels = train_data[dependent_variable].unique()\n",
    "    for label in labels:\n",
    "        temp = train_data[dependent_variable].value_counts()[label] / len(train_data[dependent_variable])\n",
    "        entropy += -temp * log(temp + eps)\n",
    "    return entropy"
   ]
  },
  {
   "cell_type": "code",
   "execution_count": 80,
   "metadata": {},
   "outputs": [],
   "source": [
    "def entropy_on_real_attribute_split(train_data, attribute):\n",
    "    \"\"\" Finds resulting entropy of dataset if it is split using attribute \"\"\"\n",
    "    \n",
    "    dependent_variable = \"left\"\n",
    "    class_labels = train_data[dependent_variable].unique()\n",
    "    attribute_labels = train_data[attribute].unique()\n",
    "    max_entropy = None\n",
    "    split_point = None\n",
    "    \n",
    "    for attribute_label in attribute_labels:\n",
    "        entropy = 0\n",
    "        entropy_after_split = 0\n",
    "        \n",
    "        for class_label in class_labels:\n",
    "            numer = len(train_data[attribute][train_data[attribute] <= attribute_label][train_data[dependent_variable] == class_label])\n",
    "            denom = len(train_data[attribute][train_data[attribute] <= attribute_label])\n",
    "            temp = numer / (denom + eps)\n",
    "            entropy += -temp * log(temp + eps)\n",
    "        temp2 = denom / len(train_data)\n",
    "        entropy_after_split += -temp2 * entropy\n",
    "        \n",
    "        entropy = 0    \n",
    "        for class_label in class_labels:\n",
    "            numer = len(train_data[attribute][train_data[attribute] > attribute_label][train_data[dependent_variable] == class_label])\n",
    "            denom = len(train_data[attribute][train_data[attribute] > attribute_label])\n",
    "            temp = numer / (denom + eps)\n",
    "            entropy += -temp * log(temp + eps)\n",
    "        temp2 = denom / len(train_data)\n",
    "        entropy_after_split += -temp2 * entropy\n",
    "            \n",
    "        if (max_entropy == None or (max_entropy > abs(entropy_after_split))):\n",
    "            max_entropy = abs(entropy_after_split)\n",
    "            split_point = attribute_label\n",
    "        \n",
    "    return max_entropy, split_point"
   ]
  },
  {
   "cell_type": "code",
   "execution_count": 81,
   "metadata": {},
   "outputs": [],
   "source": [
    "def entropy_on_discrete_attribute_split(train_data, attribute):\n",
    "    \"\"\" Finds resulting entropy of dataset if it is split using attribute \"\"\"\n",
    "    entropy_after_split = 0\n",
    "    dependent_variable = \"left\"\n",
    "    class_labels = train_data[dependent_variable].unique()\n",
    "    attribute_labels = train_data[attribute].unique()\n",
    "\n",
    "    for attribute_label in attribute_labels:\n",
    "        entropy = 0\n",
    "        for class_label in class_labels:\n",
    "            numer = len(train_data[attribute][train_data[attribute] == attribute_label][train_data[dependent_variable] == class_label])\n",
    "            denom = len(train_data[attribute][train_data[attribute] == attribute_label])\n",
    "            temp = numer / (denom + eps)\n",
    "            entropy += -temp * log(temp + eps)\n",
    "        temp2 = denom / len(train_data)\n",
    "        entropy_after_split += -temp2 * entropy\n",
    "    return abs(entropy_after_split)"
   ]
  },
  {
   "cell_type": "code",
   "execution_count": 82,
   "metadata": {},
   "outputs": [],
   "source": [
    "def split_criteria(train_data):\n",
    "    \"\"\" Finds the best attribute to split on \"\"\"\n",
    "    \n",
    "    Info_gain_discrete = {}\n",
    "    initialEntropy = entropy_before_split(train_data)\n",
    "    Info_gain = None\n",
    "    split_point = None\n",
    "    max_gain_attribute = None\n",
    "    \n",
    "    for key in discrete_attributes:\n",
    "        Info_gain_discrete[key] = initialEntropy - entropy_on_discrete_attribute_split(train_data, key)\n",
    "        \n",
    "    for key in real_attributes:\n",
    "        max_entropy, max_entropy_val = entropy_on_real_attribute_split(train_data, key)\n",
    "        if (Info_gain == None or initialEntropy - max_entropy > Info_gain):\n",
    "            Info_gain = initialEntropy - max_entropy\n",
    "            split_point = max_entropy_val\n",
    "            max_gain_attribute = key\n",
    "             \n",
    "    first = max(Info_gain_discrete, key=lambda k: Info_gain_discrete[k])\n",
    "    if Info_gain_discrete[first] > Info_gain:\n",
    "        Info_gain = Info_gain_discrete[first]\n",
    "        max_gain_attribute = first\n",
    "    return Info_gain, max_gain_attribute, split_point"
   ]
  },
  {
   "cell_type": "code",
   "execution_count": 83,
   "metadata": {},
   "outputs": [],
   "source": [
    "def split_dataset_smaller(train_data, feature, split_point):\n",
    "    return train_data[train_data[feature] <= split_point].reset_index(drop = True)"
   ]
  },
  {
   "cell_type": "code",
   "execution_count": 84,
   "metadata": {},
   "outputs": [],
   "source": [
    "def split_dataset_greater(train_data, feature, split_point):\n",
    "      return train_data[train_data[feature] > split_point].reset_index(drop = True)"
   ]
  },
  {
   "cell_type": "code",
   "execution_count": 85,
   "metadata": {},
   "outputs": [],
   "source": [
    "def split_dataset(train_data, feature, label):\n",
    "    \"\"\" This splits the dataset on given feature and all of its values \"\"\"\n",
    "    return train_data[train_data[feature] == label].reset_index(drop = True)"
   ]
  },
  {
   "cell_type": "code",
   "execution_count": 86,
   "metadata": {},
   "outputs": [],
   "source": [
    "def most_probable(t_data):\n",
    "    dependent_variable = \"left\"\n",
    "    count_left = len(t_data[t_data[dependent_variable] == 0])\n",
    "    count_right = len(t_data[t_data[dependent_variable] == 1])\n",
    "    if count_left > count_right:\n",
    "        return 0, count_left, count_right\n",
    "    else:\n",
    "        return 1, count_left, count_right"
   ]
  },
  {
   "cell_type": "markdown",
   "metadata": {},
   "source": [
    "#### At each node we store total count of 0's and 1's"
   ]
  },
  {
   "cell_type": "code",
   "execution_count": 87,
   "metadata": {},
   "outputs": [],
   "source": [
    "def Decision_tree(t_data):\n",
    "    \"\"\" Builds tree recursively \"\"\"\n",
    "    \n",
    "    D_tree = {}\n",
    "    dependent_variable = \"left\"\n",
    "    Info_gain, root, split_point = split_criteria(t_data)\n",
    "    \n",
    "    ans, zero_count, one_count = most_probable(t_data)\n",
    "    \n",
    "    if Info_gain == 0.0:\n",
    "        return ans\n",
    "    \n",
    "    D_tree[root] = {}\n",
    "    D_tree[\"zero_count\"] = zero_count\n",
    "    D_tree[\"one_count\"] = one_count \n",
    "    \n",
    "    if root in (discrete_attributes):\n",
    "        labels = t_data[root].unique()\n",
    "        for label in labels:\n",
    "            split_data = split_dataset(t_data, root, label)\n",
    "            unique_labels = split_data[dependent_variable].unique()\n",
    "            if len(unique_labels) == 1:\n",
    "                D_tree[root][label] = unique_labels[0]\n",
    "            else:\n",
    "                D_tree[root][label] = Decision_tree(split_data)\n",
    "        return D_tree\n",
    "\n",
    "    else:\n",
    "        split_data = split_dataset_smaller(t_data, root, split_point)\n",
    "        unique_labels = split_data[dependent_variable].unique()\n",
    "        if len(unique_labels) == 1:\n",
    "            D_tree[root][split_point] = unique_labels[0]\n",
    "        else:\n",
    "            D_tree[root][split_point] = Decision_tree(split_data)\n",
    "            \n",
    "        split_data = split_dataset_greater(t_data, root, split_point)\n",
    "        unique_labels = split_data[dependent_variable].unique()\n",
    "        if len(unique_labels) == 1:\n",
    "            D_tree[root][split_point + 0.000000001] = unique_labels[0]\n",
    "        else:\n",
    "            D_tree[root][split_point + 0.000000001] = Decision_tree(split_data)\n",
    "    \n",
    "        return D_tree\n",
    "    "
   ]
  },
  {
   "cell_type": "markdown",
   "metadata": {},
   "source": [
    "#### While predicting, whenever total count is within the total number of nodes, we return the most probable answer from that node. This stops the algorithm from going further down into the tree."
   ]
  },
  {
   "cell_type": "code",
   "execution_count": 88,
   "metadata": {},
   "outputs": [],
   "source": [
    "def predict(inst, tree, node_count):\n",
    "    \n",
    "    zero_count = tree[\"zero_count\"]\n",
    "    one_count = tree[\"one_count\"]\n",
    "    \n",
    "    if zero_count + one_count <= node_count :\n",
    "        if zero_count >= one_count:\n",
    "            return 0\n",
    "        else:\n",
    "            return 1\n",
    "\n",
    "    tree_keys = list(tree.keys())\n",
    "\n",
    "    index = 0\n",
    "    if (tree_keys[0] == \"one_count\") or (tree_keys[0]==\"zero_count\"):\n",
    "        if (tree_keys[1]==\"one_count\") or (tree_keys[1]==\"zero_count\"):\n",
    "            nodes = tree_keys[2]\n",
    "        else:\n",
    "            nodes = tree_keys[1]\n",
    "    else:\n",
    "        nodes = tree_keys[0]\n",
    "        \n",
    "        \n",
    "    value = inst[nodes]\n",
    "    if nodes in discrete_attributes:\n",
    "        if value in list((tree[nodes]).keys()):\n",
    "            tree = tree[nodes][value]\n",
    "        else:\n",
    "            zeros = 0\n",
    "            ones = 0\n",
    "            for i in tree[nodes].keys():\n",
    "                if tree[nodes][i] == 0:\n",
    "                    zeros += 1\n",
    "                elif tree[nodes][i] == 1:\n",
    "                    ones += 1\n",
    "            if zeros > ones:\n",
    "                return 0\n",
    "            else:\n",
    "                return 1\n",
    "\n",
    "    elif nodes in real_attributes:\n",
    "        first_key = list(tree[nodes].keys())[0]\n",
    "        if value <= first_key :\n",
    "            tree = tree[nodes][first_key]\n",
    "        else:\n",
    "            second_key = list(tree[nodes].keys())[1]\n",
    "            tree = tree[nodes][second_key]\n",
    "    prediction = 0\n",
    "\n",
    "    if type(tree) is dict:\n",
    "        prediction = predict(inst, tree, node_count)\n",
    "    else:\n",
    "        prediction = tree\n",
    "    \n",
    "        \n",
    "    return prediction"
   ]
  },
  {
   "cell_type": "code",
   "execution_count": 89,
   "metadata": {
    "scrolled": false
   },
   "outputs": [],
   "source": [
    "def validate_tree(val_data, tree, count):\n",
    "    predicted = []\n",
    "    for index, row in val_data.iterrows():\n",
    "        predicted.append(predict(row, tree, count))\n",
    "    actual = val_data[\"left\"].tolist()\n",
    "    true_pos = 0\n",
    "    true_neg = 0\n",
    "    false_pos = 0\n",
    "    false_neg = 0\n",
    "    \n",
    "    for i in range(0, len(predicted)):\n",
    "        if (predicted[i] == 0 and actual[i] == 0):\n",
    "            true_neg += 1\n",
    "        elif (predicted[i] == 0 and actual[i] == 1):\n",
    "            false_neg += 1\n",
    "        elif (predicted[i] == 1 and actual[i] == 0):\n",
    "            false_pos += 1\n",
    "        else:\n",
    "            true_pos += 1\n",
    "    return true_pos, true_neg, false_pos, false_neg \n",
    "    \n",
    "        "
   ]
  },
  {
   "cell_type": "code",
   "execution_count": 90,
   "metadata": {},
   "outputs": [],
   "source": [
    "def accuracy(val_data, tree, count):\n",
    "    true_pos, true_neg, false_pos, false_neg = validate_tree(val_data, tree, count)\n",
    "    total_instances = true_neg + true_pos + false_neg + false_pos\n",
    "    accuracy_estimate = (true_neg + true_pos) / (total_instances + eps)\n",
    "    precision_estimate = true_pos / (true_pos + false_pos + eps)\n",
    "    recall_estimate = (true_pos) / (true_pos + false_neg + eps)\n",
    "    f1_score = (1 / recall_estimate) + (1 / precision_estimate + eps)\n",
    "    f1_score = 2 / (f1_score + eps)\n",
    "    return accuracy_estimate, precision_estimate, recall_estimate"
   ]
  },
  {
   "cell_type": "code",
   "execution_count": 91,
   "metadata": {},
   "outputs": [],
   "source": [
    "def plot(tree):\n",
    "#     tree = Decision_tree(train_data)\n",
    "    validation_error = []\n",
    "    node_count = range(10000, 200, -200)\n",
    "    for count in node_count:\n",
    "        accuracy_estimate, precision_estimate, recall_estimate = accuracy(val_data, tree, count)\n",
    "        validation_error.append(1 - accuracy_estimate)\n",
    "    \n",
    "    fig, axes = plt.subplots(figsize=(12,6))\n",
    "    axes.plot(node_count, validation_error, color=\"black\", lw=1, ls='-', marker='s', markersize=4, \n",
    "        markerfacecolor=\"green\", markeredgewidth=1, markeredgecolor=\"black\");\n",
    "\n",
    "    plt.title(\"Validation Error vs Tree Size\")\n",
    "    plt.ylabel(\"Validation Error\")\n",
    "    plt.xlabel(\"Tree Size\")\n",
    "    name=\"compare_validation_vs_size.png\"\n",
    "    plt.savefig(name,bbox_inches='tight')\n",
    "    plt.show()"
   ]
  },
  {
   "cell_type": "code",
   "execution_count": 92,
   "metadata": {
    "scrolled": true
   },
   "outputs": [
    {
     "name": "stderr",
     "output_type": "stream",
     "text": [
      "/home/kaushik/.local/lib/python3.5/site-packages/ipykernel_launcher.py:7: RuntimeWarning: divide by zero encountered in double_scalars\n",
      "  import sys\n"
     ]
    },
    {
     "data": {
      "image/png": "[encoded data removed]",
      "text/plain": [
       "<Figure size 864x432 with 1 Axes>"
      ]
     },
     "metadata": {
      "needs_background": "light"
     },
     "output_type": "display_data"
    }
   ],
   "source": [
    "tree = Decision_tree(train_data)\n",
    "plot(tree)"
   ]
  },
  {
   "cell_type": "code",
   "execution_count": null,
   "metadata": {},
   "outputs": [],
   "source": []
  }
 ],
 "metadata": {
  "kernelspec": {
   "display_name": "Python 3",
   "language": "python",
   "name": "python3"
  },
  "language_info": {
   "codemirror_mode": {
    "name": "ipython",
    "version": 3
   },
   "file_extension": ".py",
   "mimetype": "text/x-python",
   "name": "python",
   "nbconvert_exporter": "python",
   "pygments_lexer": "ipython3",
   "version": "3.5.2"
  }
 },
 "nbformat": 4,
 "nbformat_minor": 2
}
