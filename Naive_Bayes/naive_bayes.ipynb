{
 "cells": [
  {
   "cell_type": "markdown",
   "metadata": {},
   "source": [
    "## QUESTION 2 : IMPLEMENT A NAIVE BAYES CLASSIFIER"
   ]
  },
  {
   "cell_type": "markdown",
   "metadata": {},
   "source": [
    "### <font color = \"blue\"> Import Required Modules"
   ]
  },
  {
   "cell_type": "code",
   "execution_count": 6,
   "metadata": {},
   "outputs": [],
   "source": [
    "import numpy as np\n",
    "import math\n",
    "from tabulate import tabulate\n",
    "import pprint\n",
    "import operator\n",
    "import ipdb\n",
    "import matplotlib.pyplot as plt\n",
    "from matplotlib.pyplot import figure\n",
    "import pandas as pd\n",
    "eps = np.finfo(float).eps\n",
    "from numpy import log2 as log"
   ]
  },
  {
   "cell_type": "markdown",
   "metadata": {},
   "source": [
    "### <font color = \"blue\"> Utility to preprocess dataset"
   ]
  },
  {
   "cell_type": "code",
   "execution_count": 7,
   "metadata": {},
   "outputs": [],
   "source": [
    "def load_preprocess_data(path):\n",
    "    dataset = pd.read_csv(path, names = ['ID', 'Age', 'Experience', 'Income', 'ZIP', 'Family_size', 'Spending', 'Education', 'Mortgage', 'Loan_accept', 'Securities_account', 'CD', 'Internet_banking', 'Credit_card'])\n",
    "    dataset = dataset[['ID', 'Age', 'Experience', 'Income', 'ZIP', 'Family_size', 'Spending', 'Education', 'Mortgage', 'Securities_account', 'CD', 'Internet_banking', 'Credit_card', 'Loan_accept']]\n",
    "    dropIndex = [0]\n",
    "    dataset.drop(dataset.columns[dropIndex],axis=1,inplace=True)\n",
    "    dataset = dataset.drop(dataset.index[0])\n",
    "    return dataset"
   ]
  },
  {
   "cell_type": "markdown",
   "metadata": {},
   "source": [
    "### <font color = \"blue\">Utility to split data into training and testing set using 80:20 split"
   ]
  },
  {
   "cell_type": "code",
   "execution_count": 8,
   "metadata": {},
   "outputs": [],
   "source": [
    "def split_data(dataset):\n",
    "#     train_data = dataset.sample(frac=0.8)\n",
    "#     val_data = dataset.drop(train_data.index)\n",
    "    train_data, val_data = np.split(dataset, [int(.8*len(dataset))])\n",
    "    return train_data, val_data"
   ]
  },
  {
   "cell_type": "markdown",
   "metadata": {},
   "source": [
    "### <font color = \"blue\"> Utility to segregate attributes into categorical and numerical sets"
   ]
  },
  {
   "cell_type": "code",
   "execution_count": 9,
   "metadata": {},
   "outputs": [],
   "source": [
    "def get_attribute_list():\n",
    "    categorical_attributes= ['Education', 'Securities_account', 'CD', 'Internet_banking', 'Credit_card']\n",
    "    numerical_attributes = ['Age', 'Experience', 'Income', 'ZIP', 'Family_size', 'Spending', 'Mortgage']\n",
    "    return categorical_attributes, numerical_attributes"
   ]
  },
  {
   "cell_type": "code",
   "execution_count": 10,
   "metadata": {},
   "outputs": [],
   "source": [
    "def count(data, attribute, label, target):\n",
    "    condition = (data[attribute] == label) & (data['Loan_accept'] == target)\n",
    "    return len(data[condition])\n"
   ]
  },
  {
   "cell_type": "markdown",
   "metadata": {},
   "source": [
    "### <font color = \"blue\"> This function calculates mean and standard deviation of a feature according to different output labels"
   ]
  },
  {
   "cell_type": "code",
   "execution_count": 11,
   "metadata": {},
   "outputs": [],
   "source": [
    "def numeric_probability(col, data):\n",
    "    mean_of_0 = data[col][data['Loan_accept'] == 0].mean()\n",
    "    mean_of_1 = data[col][data['Loan_accept'] == 1].mean()\n",
    "    std_deviation_of_0 = data[col][data['Loan_accept'] == 0].std()\n",
    "    std_deviation_of_1 = data[col][data['Loan_accept'] == 1].std()\n",
    "    return mean_of_0, std_deviation_of_0, mean_of_1, std_deviation_of_1"
   ]
  },
  {
   "cell_type": "markdown",
   "metadata": {},
   "source": [
    "### <font color = \"blue\">This function creates a dictionary where it stores probabilities of different combination of feature values and output labels"
   ]
  },
  {
   "cell_type": "code",
   "execution_count": 12,
   "metadata": {},
   "outputs": [],
   "source": [
    "def get_probabilities(train_data):\n",
    "    categorical_attributes, numerical_attributes = get_attribute_list()\n",
    "    cat_probabilities = {0.0 : {}, 1.0 : {}}\n",
    "    \n",
    "    zeroes = count(train_data,'Loan_accept', 0, 0)\n",
    "    ones = count(train_data,'Loan_accept', 1, 1)\n",
    "    prob_zero = zeroes / len(train_data)\n",
    "    prob_one = ones / len(train_data)\n",
    "    \n",
    "    columns = ['Mean_of_0', 'StdDeviation_of_0', 'Mean_of_1', 'StdDeviation_of_1']\n",
    "    numeric_prob_matrix = pd.DataFrame(columns = columns)\n",
    "    \n",
    "    for col in numerical_attributes:\n",
    "        a, b, c, d = numeric_probability(col, train_data)\n",
    "        numeric_prob_matrix = numeric_prob_matrix.append({'Mean_of_0' : a, 'StdDeviation_of_0' : b, 'Mean_of_1' : c, 'StdDeviation_of_1' : d}, ignore_index=True)\n",
    "\n",
    "    for col in categorical_attributes:\n",
    "        cat_probabilities[0.0][col] = {}\n",
    "        cat_probabilities[1.0][col] = {}\n",
    "        \n",
    "        labels = train_data[col].unique()\n",
    "        for label in labels:\n",
    "            count_ct_zero = count(train_data, col, label, 0.0)\n",
    "            count_ct_one = count(train_data, col, label, 1.0)\n",
    "            \n",
    "            cat_probabilities[0.0][col][label] = count_ct_zero / zeroes\n",
    "            cat_probabilities[1.0][col][label] = count_ct_one / ones\n",
    "            \n",
    "    return prob_zero, prob_one, cat_probabilities, numeric_prob_matrix"
   ]
  },
  {
   "cell_type": "markdown",
   "metadata": {},
   "source": [
    "### <font color = \"blue\">Returns the gaussian probability value of a set of data points"
   ]
  },
  {
   "cell_type": "code",
   "execution_count": 13,
   "metadata": {},
   "outputs": [],
   "source": [
    "def Gaussian_probability(val, mean, stdev):\n",
    "    exp = math.exp(-(math.pow(val-mean,2)/(2*math.pow(stdev,2))))\n",
    "    return (1 / (math.sqrt(2*math.pi) * stdev)) * exp"
   ]
  },
  {
   "cell_type": "markdown",
   "metadata": {},
   "source": [
    "### <font color = \"blue\"> Function to predict the class using max probability"
   ]
  },
  {
   "cell_type": "code",
   "execution_count": 14,
   "metadata": {},
   "outputs": [],
   "source": [
    "def predict(train_data, val_data):\n",
    "    categorical_attributes, numerical_attributes = get_attribute_list()\n",
    "    prob_zero, prob_one, cat_probability, numeric_matrix = get_probabilities(train_data)\n",
    "    predicted= []\n",
    "    \n",
    "    attr_list = list(val_data.columns.values)[:-1]\n",
    "    for index, row in val_data.iterrows():\n",
    "        res_0 = 0.0\n",
    "        res_1 = 0.0\n",
    "        i = 0\n",
    "        \n",
    "        for attribute in attr_list:\n",
    "            if(attribute in categorical_attributes):\n",
    "                prob_0 = cat_probability[0.0][attribute][row[attribute]]\n",
    "                prob_1 = cat_probability[1.0][attribute][row[attribute]]\n",
    "            else:\n",
    "                mean_0 = numeric_matrix.iloc[i]['Mean_of_0']\n",
    "                std_0 = numeric_matrix.iloc[i]['StdDeviation_of_0']\n",
    "                mean_1 = numeric_matrix.iloc[i]['Mean_of_1']\n",
    "                std_1 = numeric_matrix.iloc[i]['StdDeviation_of_1']\n",
    "\n",
    "                prob_0 = Gaussian_probability(row[attribute], mean_0, std_0)\n",
    "                prob_1 = Gaussian_probability(row[attribute], mean_1, std_1)\n",
    "                i += 1\n",
    "            \n",
    "            res_0 += math.log(prob_0)\n",
    "            res_1 += math.log(prob_1)\n",
    "            \n",
    "        res_0 += math.log(prob_zero)\n",
    "        res_1 += math.log(prob_one)\n",
    "        if(res_0 >= res_1):\n",
    "            predicted.append(0.0)\n",
    "        else:\n",
    "            predicted.append(1.0)\n",
    "            \n",
    "    return predicted\n",
    "\n",
    "            \n",
    "            "
   ]
  },
  {
   "cell_type": "markdown",
   "metadata": {},
   "source": [
    "### <font color = \"blue\"> Function to predict the accuracy of the classifier"
   ]
  },
  {
   "cell_type": "code",
   "execution_count": 15,
   "metadata": {},
   "outputs": [],
   "source": [
    "def accuracy(train_data, val_data):\n",
    "    true, false = 0, 0\n",
    "    predicted = predict(train_data, val_data)\n",
    "    length = len(predicted)\n",
    "    actual = list(val_data['Loan_accept'])\n",
    "    \n",
    "    for i in range (0, length):\n",
    "        if(predicted[i] == actual[i]):\n",
    "            true += 1\n",
    "        else:\n",
    "            false += 1        \n",
    "    return ((true / length) * 100)"
   ]
  },
  {
   "cell_type": "code",
   "execution_count": 21,
   "metadata": {},
   "outputs": [],
   "source": [
    "def main():\n",
    "    path = \"../Input/LoanDataset/data.csv\"\n",
    "    dataset = load_preprocess_data(path)\n",
    "    train_data, val_data = split_data(dataset)\n",
    "    print(\"Model Accuracy = \",accuracy(train_data, val_data))"
   ]
  },
  {
   "cell_type": "code",
   "execution_count": 22,
   "metadata": {},
   "outputs": [
    {
     "name": "stdout",
     "output_type": "stream",
     "text": [
      "Model Accuracy =  91.55555555555556\n"
     ]
    }
   ],
   "source": [
    "main()"
   ]
  },
  {
   "cell_type": "markdown",
   "metadata": {},
   "source": [
    "## Observations:\n",
    "### <font color = \"blue\">1. All the colums except mortgage value follows Guassian distribution. \n",
    "### <font color = \"blue\">2. Initially I thought that the feature \"ZIP\" will not play a major role in prediction. However using it in calculating the probabilities resulted in increase in the accuracy of the model from 89% to 91.55%. This probably suggests that area also affects the chances of availing loans."
   ]
  }
 ],
 "metadata": {
  "kernelspec": {
   "display_name": "Python 3",
   "language": "python",
   "name": "python3"
  },
  "language_info": {
   "codemirror_mode": {
    "name": "ipython",
    "version": 3
   },
   "file_extension": ".py",
   "mimetype": "text/x-python",
   "name": "python",
   "nbconvert_exporter": "python",
   "pygments_lexer": "ipython3",
   "version": "3.7.1"
  }
 },
 "nbformat": 4,
 "nbformat_minor": 2
}
