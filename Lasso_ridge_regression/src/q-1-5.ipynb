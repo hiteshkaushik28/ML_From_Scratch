{
 "cells": [
  {
   "cell_type": "markdown",
   "metadata": {},
   "source": [
    "## QUESTION1, part-5: Implement Linear Regression Model to Predict Chances of Admit"
   ]
  },
  {
   "cell_type": "markdown",
   "metadata": {},
   "source": [
    "### <font color = \"blue\"> Import Required Modules"
   ]
  },
  {
   "cell_type": "code",
   "execution_count": 32,
   "metadata": {},
   "outputs": [],
   "source": [
    "import numpy as np\n",
    "import sys\n",
    "import math\n",
    "from tabulate import tabulate\n",
    "import pprint\n",
    "import operator\n",
    "import ipdb\n",
    "import matplotlib.pyplot as plt\n",
    "from matplotlib.pyplot import figure\n",
    "import pandas as pd\n",
    "eps = np.finfo(float).eps\n",
    "from numpy import log2 as log\n",
    "from sklearn.model_selection import KFold "
   ]
  },
  {
   "cell_type": "markdown",
   "metadata": {},
   "source": [
    "### <font color = \"blue\"> Utility to load and clean dataset"
   ]
  },
  {
   "cell_type": "code",
   "execution_count": 203,
   "metadata": {},
   "outputs": [],
   "source": [
    "def load_preprocess_data(path):\n",
    "    dataset = pd.read_csv(path)\n",
    "    dataset.drop(dataset.columns[[0]], axis=1, inplace=True)\n",
    "    for i in dataset.columns[:-2]:\n",
    "        dataset[i] = (dataset[i] - dataset[i].mean())/dataset[i].std()\n",
    "    dataset.insert(0, 'Ones', 1)\n",
    "    return dataset"
   ]
  },
  {
   "cell_type": "markdown",
   "metadata": {},
   "source": [
    "### <font color = \"blue\"> Utility to split data into training and validation using 80:20 ratio"
   ]
  },
  {
   "cell_type": "code",
   "execution_count": 14,
   "metadata": {},
   "outputs": [],
   "source": [
    "def split_data(dataset):\n",
    "#     train_data = dataset.sample(frac=0.8)\n",
    "#     val_data = dataset.drop(train_data.index)\n",
    "    train_data, val_data = np.split(dataset, [int(.8*len(dataset))])\n",
    "    return train_data, val_data"
   ]
  },
  {
   "cell_type": "markdown",
   "metadata": {},
   "source": [
    "### <font color = \"blue\">Utility to normalise the dataset features"
   ]
  },
  {
   "cell_type": "code",
   "execution_count": 15,
   "metadata": {},
   "outputs": [],
   "source": [
    "def normalize(data):\n",
    "    for i in data.columns[:-2]:\n",
    "        data[i] = (data[i] - data[i].mean())/data[i].std()\n",
    "    return data"
   ]
  },
  {
   "cell_type": "markdown",
   "metadata": {},
   "source": [
    "### <font color = \"blue\">The Mean Square Error Loss Function"
   ]
  },
  {
   "cell_type": "code",
   "execution_count": 16,
   "metadata": {},
   "outputs": [],
   "source": [
    "def mean_square(X,y,theta):\n",
    "#     tobesummed = np.power(((X @ theta.T)-y),2)\n",
    "#     return np.sum(tobesummed)/(2 * len(X))\n",
    "    return np.mean(((X @ theta.T)-y)**2)"
   ]
  },
  {
   "cell_type": "markdown",
   "metadata": {},
   "source": [
    "### <font color = \"blue\"> Implementation of Gradient Descent - it is used to minimise the model loss."
   ]
  },
  {
   "cell_type": "code",
   "execution_count": 179,
   "metadata": {},
   "outputs": [],
   "source": [
    "def gradientDescent(X,y,theta,iters,alpha, reg_param):\n",
    "    print(X)\n",
    "#     y =y.reshape((y.shape[0],1))\n",
    "    for i in range(iters):\n",
    "#         gradient = np.sum(X * (X @ theta.T - y), axis=0) / len(X)\n",
    "        gradient = np.dot(X.T,np.dot(X, theta.T) - y) / len(X)\n",
    "#         gradient = gradient.reshape((8,))\n",
    "#         print(gradient.shape)\n",
    "#         print((np.dot(X, theta.T) -y).shape)\n",
    "        theta[0] -= (alpha * gradient[0])\n",
    "        theta[1:] = (theta[1:] * (1 - alpha * (reg_param / len(X)))) - alpha * gradient[1:]\n",
    "#     print(theta)\n",
    "    return theta"
   ]
  },
  {
   "cell_type": "markdown",
   "metadata": {},
   "source": [
    "### <font color = \"blue\">Utility to set up required matrices for Linear Regression"
   ]
  },
  {
   "cell_type": "code",
   "execution_count": 180,
   "metadata": {},
   "outputs": [],
   "source": [
    "def setup_matrices(dataset):\n",
    "    dataset = normalize(dataset)\n",
    "    train_data, val_data = split_data(dataset)\n",
    "    val_data.insert(0, 'Ones', 1)\n",
    "    cols = train_data.shape[1]\n",
    "    X = train_data.iloc[:, 0 : cols - 1]\n",
    "    ones = np.ones([X.shape[0], 1])\n",
    "    X = np.concatenate((ones, X), axis=1)\n",
    "    y = train_data.iloc[:, cols - 1 : cols].values\n",
    "    theta = np.zeros([1, 8])\n",
    "    return X, y, theta, val_data"
   ]
  },
  {
   "cell_type": "code",
   "execution_count": 181,
   "metadata": {},
   "outputs": [],
   "source": [
    "def predict(row, theta):\n",
    "    length = theta.shape[1]\n",
    "    value = 0\n",
    "    for i in range(0, length):\n",
    "        value += theta[0][i] * row[i]\n",
    "    return value"
   ]
  },
  {
   "cell_type": "code",
   "execution_count": 182,
   "metadata": {},
   "outputs": [],
   "source": [
    "def data_validation(validate,theta):\n",
    "    predicted = []\n",
    "    for index, row in validate.iterrows():\n",
    "        predicted.append(predict(row, theta))\n",
    "    return predicted"
   ]
  },
  {
   "cell_type": "code",
   "execution_count": 183,
   "metadata": {},
   "outputs": [],
   "source": [
    "def mean_squared_error(predicted , actual):\n",
    "    return np.mean((np.array(actual) - np.array(predicted))**2)"
   ]
  },
  {
   "cell_type": "markdown",
   "metadata": {},
   "source": [
    "### <font color = \"blue\"> Main Function "
   ]
  },
  {
   "cell_type": "code",
   "execution_count": 230,
   "metadata": {},
   "outputs": [],
   "source": [
    "def main():\n",
    "    dataset = load_preprocess_data(\"../Input/AdmissionDataset/data.csv\")\n",
    "    X = dataset.iloc[:,0:-1].values\n",
    "    Y = dataset.iloc[:,-1].values\n",
    "    alpha = 0.01\n",
    "    iters = 1000\n",
    "    Lamda = 120\n",
    "\n",
    "    k_list = []\n",
    "    mean_error = []\n",
    "    for k in range (2,15):\n",
    "        kf = KFold(n_splits = k)\n",
    "        temp_error = []\n",
    "        for train_index, test_index in kf.split(X):\n",
    "            X_Train, X_Val = X[train_index], X[test_index]\n",
    "            Y_Train, Y_Val = Y[train_index], Y[test_index]\n",
    "            theta = np.zeros(X_Train.shape[1])\n",
    "            for i in range(iters):\n",
    "                h = np.dot(X_Train,theta)\n",
    "                gradient = np.dot(X_Train.T,(h - Y_Train)) / Y_Train.size\n",
    "                theta[0] -= alpha * gradient[0]\n",
    "                theta[1:] = (theta[1:] * (1 - (alpha * (Lamda/Y_Train.size)))) - (alpha * gradient[1:])\n",
    "            Predicted_Output = np.dot(X_Val,theta)\n",
    "            error = mean_squared_error(Predicted_Output,Y_Val)\n",
    "            temp_error.append(error)\n",
    "        mean_error.append(np.mean(np.array(temp_error)))\n",
    "        k_list.append(k)\n",
    "    return k_list, mean_error"
   ]
  },
  {
   "cell_type": "code",
   "execution_count": 231,
   "metadata": {},
   "outputs": [],
   "source": [
    "def plot(xdata, ydata, title):\n",
    "    fig, ax = plt.subplots(figsize=(8,6))  \n",
    "    plt.title(title)\n",
    "    ax.plot(xdata, ydata, color = \"blue\", label = \"Test Error\")\n",
    "    plt.xlabel(\"K value\")\n",
    "    plt.ylabel(\"Test Error\")\n",
    "    plt.legend()\n",
    "    plt.show()"
   ]
  },
  {
   "cell_type": "code",
   "execution_count": 232,
   "metadata": {},
   "outputs": [
    {
     "data": {
      "image/png": "[encoded data removed]",
      "text/plain": [
       "<Figure size 576x432 with 1 Axes>"
      ]
     },
     "metadata": {
      "needs_background": "light"
     },
     "output_type": "display_data"
    }
   ],
   "source": [
    "kval, error = main()\n",
    "fig, ax = plt.subplots(figsize=(8,6))  \n",
    "ax.plot(kval, error, color = \"blue\", label = \"Test Error\")\n",
    "plt.xlabel(\"K value\")\n",
    "plt.ylabel(\"Test Error\")\n",
    "plt.legend()\n",
    "plt.show()"
   ]
  },
  {
   "cell_type": "code",
   "execution_count": 234,
   "metadata": {},
   "outputs": [
    {
     "name": "stdout",
     "output_type": "stream",
     "text": [
      "Test Error :  0.003973969123576061\n"
     ]
    }
   ],
   "source": [
    "dataset = load_preprocess_data(\"../Input/AdmissionDataset/data.csv\")\n",
    "X = dataset.iloc[:,0:-1].values\n",
    "Y = dataset.iloc[:,-1].values\n",
    "alpha = 0.01\n",
    "iters = 1000\n",
    "Lamda = 120\n",
    "\n",
    "kf = KFold(n_splits = X.shape[0])\n",
    "temp_error = []\n",
    "for train_index, test_index in kf.split(X):\n",
    "    X_Train, X_Val = X[train_index], X[test_index]\n",
    "    Y_Train, Y_Val = Y[train_index], Y[test_index]\n",
    "    theta = np.zeros(X_Train.shape[1])\n",
    "    for i in range(iters):\n",
    "        h = np.dot(X_Train,theta)\n",
    "        gradient = np.dot(X_Train.T,(h - Y_Train)) / Y_Train.size\n",
    "        theta[0] -= alpha * gradient[0]\n",
    "        theta[1:] = (theta[1:] * (1 - (alpha * (Lamda/Y_Train.size)))) - (alpha * gradient[1:])\n",
    "    Predicted_Output = np.dot(X_Val,theta)\n",
    "    error = mean_squared_error(Predicted_Output,Y_Val)\n",
    "    temp_error.append(error)\n",
    "print(\"Test Error : \", np.mean(np.array(temp_error)))    "
   ]
  },
  {
   "cell_type": "code",
   "execution_count": null,
   "metadata": {},
   "outputs": [],
   "source": []
  }
 ],
 "metadata": {
  "kernelspec": {
   "display_name": "Python 3",
   "language": "python",
   "name": "python3"
  },
  "language_info": {
   "codemirror_mode": {
    "name": "ipython",
    "version": 3
   },
   "file_extension": ".py",
   "mimetype": "text/x-python",
   "name": "python",
   "nbconvert_exporter": "python",
   "pygments_lexer": "ipython3",
   "version": "3.5.2"
  }
 },
 "nbformat": 4,
 "nbformat_minor": 2
}
