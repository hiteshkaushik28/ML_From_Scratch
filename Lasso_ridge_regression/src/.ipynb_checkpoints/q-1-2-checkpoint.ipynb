{
 "cells": [
  {
   "cell_type": "markdown",
   "metadata": {},
   "source": [
    "## QUESTION 1, part-2 : Implement Linear Regression Model to Predict Chances of Admit"
   ]
  },
  {
   "cell_type": "markdown",
   "metadata": {},
   "source": [
    "### <font color = \"blue\"> Import Required Modules"
   ]
  },
  {
   "cell_type": "code",
   "execution_count": 50,
   "metadata": {},
   "outputs": [],
   "source": [
    "import numpy as np\n",
    "import sys\n",
    "import math\n",
    "from tabulate import tabulate\n",
    "import pprint\n",
    "import operator\n",
    "import ipdb\n",
    "import matplotlib.pyplot as plt\n",
    "from matplotlib.pyplot import figure\n",
    "import pandas as pd\n",
    "eps = np.finfo(float).eps\n",
    "from numpy import log2 as log"
   ]
  },
  {
   "cell_type": "markdown",
   "metadata": {},
   "source": [
    "### <font color = \"blue\"> Utility to load and clean dataset"
   ]
  },
  {
   "cell_type": "code",
   "execution_count": 51,
   "metadata": {},
   "outputs": [],
   "source": [
    "def load_preprocess_data(path):\n",
    "    dataset = pd.read_csv(path)\n",
    "    dropIndex = [0]\n",
    "    dataset.drop(dataset.columns[dropIndex],axis=1,inplace=True)\n",
    "    return dataset"
   ]
  },
  {
   "cell_type": "markdown",
   "metadata": {},
   "source": [
    "### <font color = \"blue\"> Utility to split data into training and validation using 80:20 ratio"
   ]
  },
  {
   "cell_type": "code",
   "execution_count": 53,
   "metadata": {},
   "outputs": [],
   "source": [
    "def split_data(dataset):\n",
    "#     train_data = dataset.sample(frac=0.8)\n",
    "#     val_data = dataset.drop(train_data.index)\n",
    "    train_data, val_data = np.split(dataset, [int(.8*len(dataset))])\n",
    "    return train_data, val_data"
   ]
  },
  {
   "cell_type": "markdown",
   "metadata": {},
   "source": [
    "### <font color = \"blue\">Utility to normalise the dataset features"
   ]
  },
  {
   "cell_type": "code",
   "execution_count": 54,
   "metadata": {},
   "outputs": [],
   "source": [
    "def normalize(data):\n",
    "    for i in data.columns[:-2]:\n",
    "        data[i] = (data[i] - data[i].mean())/data[i].std()\n",
    "    return data"
   ]
  },
  {
   "cell_type": "markdown",
   "metadata": {},
   "source": [
    "### <font color = \"blue\">The Mean Square Error Loss Function"
   ]
  },
  {
   "cell_type": "code",
   "execution_count": 59,
   "metadata": {},
   "outputs": [],
   "source": [
    "def mean_square(X,y,theta):\n",
    "#     tobesummed = np.power(((X @ theta.T)-y),2)\n",
    "#     return np.sum(tobesummed)/(2 * len(X))\n",
    "    return np.mean(((X @ theta.T)-y)**2)"
   ]
  },
  {
   "cell_type": "markdown",
   "metadata": {},
   "source": [
    "### <font color = \"blue\"> Implementation of Gradient Descent - it is used to minimise the model loss."
   ]
  },
  {
   "cell_type": "code",
   "execution_count": 60,
   "metadata": {},
   "outputs": [],
   "source": [
    "def gradientDescent(X,y,theta,iters,alpha, reg_param):\n",
    "    for i in range(iters):\n",
    "        gradient = np.sum(X * (X @ theta.T - y), axis=0) / len(X)\n",
    "        theta[:, 0] -= (alpha * gradient[0])\n",
    "        theta[:, 1 :] = (theta[:, 1:] * (1 - alpha * (reg_param / len(X)))) - alpha * gradient[1:]\n",
    "    return theta"
   ]
  },
  {
   "cell_type": "markdown",
   "metadata": {},
   "source": [
    "### <font color = \"blue\">Utility to set up required matrices for Linear Regression"
   ]
  },
  {
   "cell_type": "code",
   "execution_count": 61,
   "metadata": {},
   "outputs": [],
   "source": [
    "def setup_matrices(dataset):\n",
    "    dataset = normalize(dataset)\n",
    "    train_data, val_data = split_data(dataset)\n",
    "    val_data.insert(0, 'Ones', 1)\n",
    "    cols = train_data.shape[1]\n",
    "    X = train_data.iloc[:, 0 : cols - 1]\n",
    "    ones = np.ones([X.shape[0], 1])\n",
    "    X = np.concatenate((ones, X), axis=1)\n",
    "    y = train_data.iloc[:, cols - 1 : cols].values\n",
    "    theta = np.zeros([1, 8])\n",
    "    return X, y, theta, val_data"
   ]
  },
  {
   "cell_type": "markdown",
   "metadata": {},
   "source": [
    "### <font color = \"blue\">This function is used for plotting various graphs"
   ]
  },
  {
   "cell_type": "code",
   "execution_count": 62,
   "metadata": {},
   "outputs": [],
   "source": [
    "def plot_graph(iters, cost_matrix):\n",
    "    fig, ax = plt.subplots()  \n",
    "    plt.grid(True)\n",
    "    ax.plot(np.arange(iters), cost_matrix, 'r')  \n",
    "    ax.set_xlabel('Iterations')  \n",
    "    ax.set_ylabel('Cost')  \n",
    "    ax.set_title('Error vs. Training Epoch') "
   ]
  },
  {
   "cell_type": "markdown",
   "metadata": {},
   "source": [
    "### <font color = \"blue\"> Prediction function for validation or test dataset"
   ]
  },
  {
   "cell_type": "code",
   "execution_count": 63,
   "metadata": {},
   "outputs": [],
   "source": [
    "def predict(row, theta):\n",
    "    length = theta.shape[1]\n",
    "    value = 0\n",
    "    for i in range(0, length):\n",
    "        value += theta[0][i] * row[i]\n",
    "    return value"
   ]
  },
  {
   "cell_type": "code",
   "execution_count": 64,
   "metadata": {},
   "outputs": [],
   "source": [
    "def data_validation(validate,theta):\n",
    "    predicted = []\n",
    "    actual = []\n",
    "    for index, row in validate.iterrows():\n",
    "        predicted.append(predict(row, theta))\n",
    "        actual.append(row[-1])\n",
    "    return predicted , actual"
   ]
  },
  {
   "cell_type": "code",
   "execution_count": 65,
   "metadata": {},
   "outputs": [],
   "source": [
    "def mean_squared_error(predicted , actual):\n",
    "    return np.mean((np.array(actual) - np.array(predicted))**2)"
   ]
  },
  {
   "cell_type": "markdown",
   "metadata": {},
   "source": [
    "### <font color = \"blue\"> Main Function "
   ]
  },
  {
   "cell_type": "code",
   "execution_count": 78,
   "metadata": {},
   "outputs": [],
   "source": [
    "def main(reg_param):\n",
    "    dataset = load_preprocess_data(\"../Input/AdmissionDataset/data.csv\")\n",
    "    alpha = 0.05\n",
    "    iters = 250\n",
    "    \n",
    "    feature_matrix, actual_output, theta, val_data = setup_matrices(dataset)\n",
    "    final_theta = gradientDescent(feature_matrix, actual_output, theta, iters, alpha, reg_param)\n",
    "    train_error = mean_square(feature_matrix, actual_output, final_theta)\n",
    "    predicted, actual = data_validation(val_data, final_theta)\n",
    "    test_error = mean_squared_error(predicted, actual)\n",
    "    return train_error, test_error"
   ]
  },
  {
   "cell_type": "code",
   "execution_count": 79,
   "metadata": {},
   "outputs": [],
   "source": [
    "def plot(xdata, y1data, y2data, title):\n",
    "    fig, ax = plt.subplots(figsize=(8,6))  \n",
    "    plt.title(title)\n",
    "    ax.plot(xdata, y1data, color = \"blue\", label = \"Train Error\")\n",
    "    ax.plot(xdata, y2data, color = \"red\", label = \"Test Error\") \n",
    "    plt.xlabel(\"Regularization Coefficient\")\n",
    "    plt.ylabel(\"Train /Test Error\")\n",
    "    plt.legend()\n",
    "    plt.show()"
   ]
  },
  {
   "cell_type": "markdown",
   "metadata": {},
   "source": [
    "## Graph Plot : Ridge Regression"
   ]
  },
  {
   "cell_type": "code",
   "execution_count": 80,
   "metadata": {
    "scrolled": false
   },
   "outputs": [
    {
     "data": {
      "image/png": "[encoded data removed]",
      "text/plain": [
       "<Figure size 576x432 with 1 Axes>"
      ]
     },
     "metadata": {
      "needs_background": "light"
     },
     "output_type": "display_data"
    }
   ],
   "source": [
    "train_ridge_loss = []\n",
    "test_ridge_loss = []\n",
    "reg_list = []\n",
    "for lam in range(0, 1000):\n",
    "    train_error, test_error = main(lam)\n",
    "    train_ridge_loss.append(train_error)\n",
    "    test_ridge_loss.append(test_error)\n",
    "    reg_list.append(lam)\n",
    "plot(reg_list, train_ridge_loss, test_ridge_loss, \"Ridge Regression\")"
   ]
  },
  {
   "cell_type": "code",
   "execution_count": null,
   "metadata": {},
   "outputs": [],
   "source": []
  }
 ],
 "metadata": {
  "kernelspec": {
   "display_name": "Python 3",
   "language": "python",
   "name": "python3"
  },
  "language_info": {
   "codemirror_mode": {
    "name": "ipython",
    "version": 3
   },
   "file_extension": ".py",
   "mimetype": "text/x-python",
   "name": "python",
   "nbconvert_exporter": "python",
   "pygments_lexer": "ipython3",
   "version": "3.5.2"
  }
 },
 "nbformat": 4,
 "nbformat_minor": 2
}
