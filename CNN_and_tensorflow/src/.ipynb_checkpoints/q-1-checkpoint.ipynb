{
 "cells": [
  {
   "cell_type": "code",
   "execution_count": 125,
   "metadata": {
    "colab": {
     "base_uri": "https://localhost:8080/",
     "height": 122
    },
    "colab_type": "code",
    "executionInfo": {
     "elapsed": 40863,
     "status": "ok",
     "timestamp": 1551775098568,
     "user": {
      "displayName": "Hitesh Kaushik",
      "photoUrl": "",
      "userId": "12393140368704698022"
     },
     "user_tz": -330
    },
    "id": "MOWCVsPqou95",
    "outputId": "0e5ad3bc-16bc-47b7-e844-e0a3b59c99af"
   },
   "outputs": [],
   "source": [
    "# from google.colab import drive\n",
    "# drive.mount('/content/gdrive', force_remount=True)"
   ]
  },
  {
   "cell_type": "markdown",
   "metadata": {
    "colab_type": "text",
    "id": "LK2vp5FRKJJA"
   },
   "source": [
    "# Import Required Modules"
   ]
  },
  {
   "cell_type": "code",
   "execution_count": 126,
   "metadata": {
    "colab": {},
    "colab_type": "code",
    "id": "xm9dJZyKpv2j",
    "scrolled": true
   },
   "outputs": [],
   "source": [
    "import numpy as np\n",
    "import math\n",
    "import matplotlib.pyplot as plt\n",
    "from matplotlib.pyplot import figure\n",
    "import pandas as pd\n",
    "eps = np.finfo(float).eps\n",
    "import operator\n",
    "from tabulate import tabulate\n",
    "from sklearn.preprocessing import StandardScaler\n",
    "from sklearn.model_selection import train_test_split\n",
    "import pprint\n",
    "import random\n",
    "import sys\n",
    "import csv"
   ]
  },
  {
   "cell_type": "code",
   "execution_count": 127,
   "metadata": {},
   "outputs": [
    {
     "data": {
      "text/plain": [
       "array([3., 3.])"
      ]
     },
     "execution_count": 127,
     "metadata": {},
     "output_type": "execute_result"
    }
   ],
   "source": [
    "temp = np.zeros((3, 2))\n",
    "temp1 = np.ones((3, 1))\n",
    "res = temp - temp1\n",
    "# res\n",
    "res = np.square(res)\n",
    "np.sum(res, axis = 0)"
   ]
  },
  {
   "cell_type": "code",
   "execution_count": 185,
   "metadata": {
    "colab": {},
    "colab_type": "code",
    "id": "IwhAXo5GqJ4Z"
   },
   "outputs": [],
   "source": [
    "class CNN(object):\n",
    "    def convolve(input, filter, stride, activationFunc):\n",
    "        img_dim1, img_dim2, img_channels = input.shape\n",
    "        filt_dim1, filt_dim2, num_filters = filter\n",
    "        filters = generateFilters(filt_dim1, filt_dim2, num_filters, img_channels)\n",
    "        convolved_dim = int((img_dim1 - filt_dim1) / stride) + 1\n",
    "        conv_output = np.zeros((convolved_dim, convolved_dim, num_filters))\n",
    "    \n",
    "        for k in range(0, num_filters):\n",
    "            y = 0\n",
    "            for i in range(0, img_dim1 - filt_dim1 + 1, stride):\n",
    "                x = 0\n",
    "                for j in range(0, img_dim2 - filt_dim2 + 1, stride):\n",
    "                    conv_output[y, x, k] = np.sum(filters[:, :, :, k] * input[i : i + filt_dim1, j : j + filt_dim2, :])\n",
    "                    x += 1\n",
    "                y += 1\n",
    "        \n",
    "        return activationFunc(conv_output)\n",
    "    \n",
    "    def pooling(input, filter_size = 2, stride = 1):\n",
    "        img_dim1_prev, img_dim2_prev, img_channels = input.shape\n",
    "        pooled_dim1 = int((img_dim1_prev - filter_size) / stride) + 1\n",
    "        pooled_dim2 = int((img_dim2_prev - filter_size) / stride) + 1\n",
    "        \n",
    "        pooled_output = np.zeros((pooled_dim1, pooled_dim2, img_channels))\n",
    "        \n",
    "        for k in range(0, img_channels):\n",
    "            y = 0\n",
    "            for i in range(0, img_dim2_prev - filter_size + 1, stride):\n",
    "                x = 0\n",
    "                for j in range(0, img_dim1_prev - filter_size + 1, stride):\n",
    "                    pooled_output[y, x, k] = np.max(input[i : i + filter_size, j : j + filter_size, k])\n",
    "                    x += 1\n",
    "                y += 1\n",
    "        return pooled_output\n",
    "    \n",
    "    def fullyConnected(inp, dim1, dim2, activationFunc, Gaussian = None):\n",
    "        if(Gaussian == None):\n",
    "            fc_filter = np.random.randn(dim1, dim2)\n",
    "            output = np.dot(fc_filter, inp)\n",
    "            output = activationFunc(output)\n",
    "            return output\n",
    "        else:\n",
    "            fc_filter = np.random.randn(dim2, dim1)\n",
    "            output = fc_filter - inp\n",
    "            output = np.square(output)\n",
    "            output = np.sum(output, axis = 0)\n",
    "            return output\n",
    "    "
   ]
  },
  {
   "cell_type": "code",
   "execution_count": 129,
   "metadata": {
    "colab": {},
    "colab_type": "code",
    "id": "DLPAWjlzurxD"
   },
   "outputs": [],
   "source": [
    "def ReLU(inp):\n",
    "    temp = np.maximum(0, inp)\n",
    "    return temp"
   ]
  },
  {
   "cell_type": "code",
   "execution_count": 130,
   "metadata": {},
   "outputs": [],
   "source": [
    "def sigmoid(inp):\n",
    "    sigm = 1. / (1. + np.exp(-inp))\n",
    "    return sigm"
   ]
  },
  {
   "cell_type": "code",
   "execution_count": 131,
   "metadata": {},
   "outputs": [],
   "source": [
    "def tanh(inp):\n",
    "    return np.tanh(inp)"
   ]
  },
  {
   "cell_type": "code",
   "execution_count": 132,
   "metadata": {
    "colab": {},
    "colab_type": "code",
    "id": "qwuUE0sIjZd3"
   },
   "outputs": [],
   "source": [
    "def generateFilters(filt_dim1, filt_dim2, num_filters, img_channels):\n",
    "    filters = np.zeros((filt_dim1, filt_dim2, img_channels, num_filters))\n",
    "    for i in range(num_filters):\n",
    "        f = np.random.randn(filt_dim1, filt_dim2, img_channels)\n",
    "        filters[:, :, :, i] = f\n",
    "    return filters"
   ]
  },
  {
   "cell_type": "code",
   "execution_count": 133,
   "metadata": {
    "colab": {},
    "colab_type": "code",
    "id": "1GWbU4gntSJf"
   },
   "outputs": [],
   "source": [
    "def plot(input, rows, cols, label):\n",
    "    %matplotlib inline\n",
    "    print(label)\n",
    "    print(\"Output Shape : \", input.shape)\n",
    "    f, ax = plt.subplots(rows, cols, figsize=(7,7), constrained_layout=True)\n",
    "    itr = 0\n",
    "    for i in range(rows):\n",
    "        for j in range(cols):\n",
    "            ax[i, j].imshow(input[:, :, itr])\n",
    "            itr += 1\n",
    "    \n",
    "    "
   ]
  },
  {
   "cell_type": "code",
   "execution_count": 134,
   "metadata": {
    "colab": {},
    "colab_type": "code",
    "id": "ihA4Nml09u2j"
   },
   "outputs": [],
   "source": [
    "def softmax(matrix):\n",
    "    shift_x = matrix - np.max(matrix)\n",
    "    exps = np.exp(shift_x)\n",
    "    return exps / np.array([np.sum(exps)])"
   ]
  },
  {
   "cell_type": "markdown",
   "metadata": {},
   "source": [
    "## Input RGB Image"
   ]
  },
  {
   "cell_type": "code",
   "execution_count": 135,
   "metadata": {
    "colab": {
     "base_uri": "https://localhost:8080/",
     "height": 381
    },
    "colab_type": "code",
    "executionInfo": {
     "elapsed": 1754,
     "status": "ok",
     "timestamp": 1551795524634,
     "user": {
      "displayName": "Hitesh Kaushik",
      "photoUrl": "",
      "userId": "12393140368704698022"
     },
     "user_tz": -330
    },
    "id": "Zz9JqPrfcwrK",
    "outputId": "a1781472-da56-4eb4-b889-b7c4fd9242e9",
    "scrolled": true
   },
   "outputs": [
    {
     "name": "stdout",
     "output_type": "stream",
     "text": [
      "(32, 32, 4)\n"
     ]
    },
    {
     "data": {
      "text/plain": [
       "<matplotlib.image.AxesImage at 0x7f7f734895f8>"
      ]
     },
     "execution_count": 135,
     "metadata": {},
     "output_type": "execute_result"
    },
    {
     "data": {
      "image/png": "[encoded data removed]",
      "text/plain": [
       "<Figure size 432x288 with 1 Axes>"
      ]
     },
     "metadata": {
      "needs_background": "light"
     },
     "output_type": "display_data"
    }
   ],
   "source": [
    "img = plt.imread(\"image_1.ico\") \n",
    "print(img.shape)\n",
    "plt.imshow(img)"
   ]
  },
  {
   "cell_type": "markdown",
   "metadata": {},
   "source": [
    "# CNN Forward Propagation Using ReLU"
   ]
  },
  {
   "cell_type": "markdown",
   "metadata": {},
   "source": [
    "## <font color = \"blue\">First Layer (Convolution)</font>"
   ]
  },
  {
   "cell_type": "code",
   "execution_count": 186,
   "metadata": {
    "colab": {
     "base_uri": "https://localhost:8080/",
     "height": 563
    },
    "colab_type": "code",
    "executionInfo": {
     "elapsed": 2621,
     "status": "ok",
     "timestamp": 1551795530018,
     "user": {
      "displayName": "Hitesh Kaushik",
      "photoUrl": "",
      "userId": "12393140368704698022"
     },
     "user_tz": -330
    },
    "id": "e-LZ_VMr5Rjw",
    "outputId": "66eedd9c-1607-4d92-8f32-5da5c6b1920f",
    "scrolled": true
   },
   "outputs": [
    {
     "name": "stdout",
     "output_type": "stream",
     "text": [
      "Output After First Layer(Convolution) : \n",
      "Output Shape :  (28, 28, 6)\n"
     ]
    },
    {
     "data": {
      "image/png": "[encoded data removed]",
      "text/plain": [
       "<Figure size 504x504 with 6 Axes>"
      ]
     },
     "metadata": {
      "needs_background": "light"
     },
     "output_type": "display_data"
    }
   ],
   "source": [
    "layer1_conv = CNN.convolve(img, [5, 5, 6], 1, ReLU)\n",
    "plot(layer1_conv, 3, 2, \"Output After First Layer(Convolution) : \")"
   ]
  },
  {
   "cell_type": "markdown",
   "metadata": {},
   "source": [
    "## <font color = \"blue\">Second Layer (Max Pooling)</font>"
   ]
  },
  {
   "cell_type": "code",
   "execution_count": 187,
   "metadata": {
    "colab": {
     "base_uri": "https://localhost:8080/",
     "height": 665
    },
    "colab_type": "code",
    "executionInfo": {
     "elapsed": 2810,
     "status": "ok",
     "timestamp": 1551795283733,
     "user": {
      "displayName": "Hitesh Kaushik",
      "photoUrl": "",
      "userId": "12393140368704698022"
     },
     "user_tz": -330
    },
    "id": "MepnchdlAlNJ",
    "outputId": "4fa6cb81-6ecc-4ea2-ed3c-554dac64aa8c"
   },
   "outputs": [
    {
     "name": "stdout",
     "output_type": "stream",
     "text": [
      "Output After Second Layer(Max Pool) : \n",
      "Output Shape :  (14, 14, 6)\n"
     ]
    },
    {
     "data": {
      "image/png": "[encoded data removed]",
      "text/plain": [
       "<Figure size 504x504 with 6 Axes>"
      ]
     },
     "metadata": {
      "needs_background": "light"
     },
     "output_type": "display_data"
    }
   ],
   "source": [
    "layer2_max_pool = CNN.pooling(layer1_conv, 2, 2)\n",
    "plot(layer2_max_pool, 3, 2, \"Output After Second Layer(Max Pool) : \")"
   ]
  },
  {
   "cell_type": "markdown",
   "metadata": {},
   "source": [
    "## <font color = \"blue\">Third Layer (Convolution)</font>"
   ]
  },
  {
   "cell_type": "code",
   "execution_count": 188,
   "metadata": {
    "colab": {
     "base_uri": "https://localhost:8080/",
     "height": 831
    },
    "colab_type": "code",
    "executionInfo": {
     "elapsed": 5353,
     "status": "ok",
     "timestamp": 1551795290396,
     "user": {
      "displayName": "Hitesh Kaushik",
      "photoUrl": "",
      "userId": "12393140368704698022"
     },
     "user_tz": -330
    },
    "id": "xKWGbjjp1AQt",
    "outputId": "b567f49c-6b1a-4a5d-8499-c11033a456d8"
   },
   "outputs": [
    {
     "name": "stdout",
     "output_type": "stream",
     "text": [
      "Output After Third Layer(Convolution) : \n",
      "Output Shape :  (10, 10, 16)\n"
     ]
    },
    {
     "data": {
      "image/png": "[encoded data removed]",
      "text/plain": [
       "<Figure size 504x504 with 16 Axes>"
      ]
     },
     "metadata": {
      "needs_background": "light"
     },
     "output_type": "display_data"
    }
   ],
   "source": [
    "layer3_conv = CNN.convolve(layer2_max_pool, [5, 5, 16], 1, ReLU)\n",
    "plot(layer3_conv, 4, 4, \"Output After Third Layer(Convolution) : \")"
   ]
  },
  {
   "cell_type": "markdown",
   "metadata": {},
   "source": [
    "## <font color = \"blue\">Fourth Layer (Max Pooling)</font>"
   ]
  },
  {
   "cell_type": "code",
   "execution_count": 189,
   "metadata": {
    "colab": {
     "base_uri": "https://localhost:8080/",
     "height": 835
    },
    "colab_type": "code",
    "executionInfo": {
     "elapsed": 5383,
     "status": "ok",
     "timestamp": 1551795297551,
     "user": {
      "displayName": "Hitesh Kaushik",
      "photoUrl": "",
      "userId": "12393140368704698022"
     },
     "user_tz": -330
    },
    "id": "o4YrvSmz8PWc",
    "outputId": "4df0a681-1424-494f-ee58-d3416974cc26",
    "scrolled": true
   },
   "outputs": [
    {
     "name": "stdout",
     "output_type": "stream",
     "text": [
      "Output After Fourth Layer(Max Pool) : \n",
      "Output Shape :  (5, 5, 16)\n"
     ]
    },
    {
     "data": {
      "image/png": "[encoded data removed]",
      "text/plain": [
       "<Figure size 504x504 with 16 Axes>"
      ]
     },
     "metadata": {
      "needs_background": "light"
     },
     "output_type": "display_data"
    }
   ],
   "source": [
    "layer4_max_pool = CNN.pooling(layer3_conv, 2, 2)\n",
    "plot(layer4_max_pool, 4, 4, \"Output After Fourth Layer(Max Pool) : \")"
   ]
  },
  {
   "cell_type": "markdown",
   "metadata": {},
   "source": [
    "## <font color = \"blue\">Fifth Layer (Convolution)</font>"
   ]
  },
  {
   "cell_type": "code",
   "execution_count": 190,
   "metadata": {
    "colab": {
     "base_uri": "https://localhost:8080/",
     "height": 231
    },
    "colab_type": "code",
    "executionInfo": {
     "elapsed": 1380,
     "status": "error",
     "timestamp": 1551795969795,
     "user": {
      "displayName": "Hitesh Kaushik",
      "photoUrl": "",
      "userId": "12393140368704698022"
     },
     "user_tz": -330
    },
    "id": "WUtGvD65-j8w",
    "outputId": "9539c603-26be-4169-f396-f4e6c1f35fb9"
   },
   "outputs": [
    {
     "data": {
      "text/plain": [
       "(120, 1)"
      ]
     },
     "execution_count": 190,
     "metadata": {},
     "output_type": "execute_result"
    }
   ],
   "source": [
    "layer5_conv = CNN.convolve(layer4_max_pool, [5, 5, 120], 1, ReLU)\n",
    "layer5_conv = np.reshape(layer5_conv, (120,1))\n",
    "layer5_conv.shape"
   ]
  },
  {
   "cell_type": "markdown",
   "metadata": {},
   "source": [
    "## <font color = \"blue\">Sixth Layer (Fully Connected)</font>"
   ]
  },
  {
   "cell_type": "code",
   "execution_count": 191,
   "metadata": {
    "colab": {
     "base_uri": "https://localhost:8080/",
     "height": 34
    },
    "colab_type": "code",
    "executionInfo": {
     "elapsed": 1260,
     "status": "ok",
     "timestamp": 1551792693641,
     "user": {
      "displayName": "Hitesh Kaushik",
      "photoUrl": "",
      "userId": "12393140368704698022"
     },
     "user_tz": -330
    },
    "id": "z04cqAm2_OHQ",
    "outputId": "623472bb-b4f2-42cd-a77a-443210e8a8c1"
   },
   "outputs": [
    {
     "data": {
      "text/plain": [
       "(84, 1)"
      ]
     },
     "execution_count": 191,
     "metadata": {},
     "output_type": "execute_result"
    }
   ],
   "source": [
    "layer6_fc = CNN.fullyConnected(layer5_conv, 84, layer5_conv.shape[0], ReLU, None)\n",
    "layer6_fc.shape"
   ]
  },
  {
   "cell_type": "markdown",
   "metadata": {},
   "source": [
    "## <font color = \"blue\">Seventh Layer (Fully Connected With Gaussian Connections)</font>"
   ]
  },
  {
   "cell_type": "code",
   "execution_count": 192,
   "metadata": {
    "colab": {
     "base_uri": "https://localhost:8080/",
     "height": 34
    },
    "colab_type": "code",
    "executionInfo": {
     "elapsed": 1949,
     "status": "ok",
     "timestamp": 1551793078338,
     "user": {
      "displayName": "Hitesh Kaushik",
      "photoUrl": "",
      "userId": "12393140368704698022"
     },
     "user_tz": -330
    },
    "id": "WtKjemxS_yMg",
    "outputId": "f98fbb56-d479-4855-e1d3-dadbfc5260bf"
   },
   "outputs": [
    {
     "name": "stdout",
     "output_type": "stream",
     "text": [
      "(10, 1)\n"
     ]
    },
    {
     "data": {
      "text/plain": [
       "array([[1.03269352e+15],\n",
       "       [1.03269362e+15],\n",
       "       [1.03269356e+15],\n",
       "       [1.03269369e+15],\n",
       "       [1.03269370e+15],\n",
       "       [1.03269349e+15],\n",
       "       [1.03269359e+15],\n",
       "       [1.03269362e+15],\n",
       "       [1.03269361e+15],\n",
       "       [1.03269360e+15]])"
      ]
     },
     "execution_count": 192,
     "metadata": {},
     "output_type": "execute_result"
    }
   ],
   "source": [
    "layer7_fc = CNN.fullyConnected(layer6_fc, 10, layer6_fc.shape[0], ReLU, \"Gaussian\")\n",
    "layer7_fc = np.reshape(layer7_fc, (10,1))\n",
    "print(layer7_fc.shape)\n",
    "layer7_fc"
   ]
  },
  {
   "cell_type": "code",
   "execution_count": 193,
   "metadata": {
    "colab": {
     "base_uri": "https://localhost:8080/",
     "height": 187
    },
    "colab_type": "code",
    "executionInfo": {
     "elapsed": 1014,
     "status": "ok",
     "timestamp": 1551794411782,
     "user": {
      "displayName": "Hitesh Kaushik",
      "photoUrl": "",
      "userId": "12393140368704698022"
     },
     "user_tz": -330
    },
    "id": "RHe9pTbFExNS",
    "outputId": "e2f4976d-bc20-4e95-f15b-38f0e0fbf0a1"
   },
   "outputs": [
    {
     "data": {
      "text/plain": [
       "array([[0.],\n",
       "       [0.],\n",
       "       [0.],\n",
       "       [0.],\n",
       "       [1.],\n",
       "       [0.],\n",
       "       [0.],\n",
       "       [0.],\n",
       "       [0.],\n",
       "       [0.]])"
      ]
     },
     "execution_count": 193,
     "metadata": {},
     "output_type": "execute_result"
    }
   ],
   "source": [
    "final_output = softmax(layer7_fc)\n",
    "final_output"
   ]
  },
  {
   "cell_type": "markdown",
   "metadata": {
    "colab": {},
    "colab_type": "code",
    "id": "noDAgre_I67U"
   },
   "source": [
    "# CNN Forward Propagation Using Sigmoid"
   ]
  },
  {
   "cell_type": "markdown",
   "metadata": {},
   "source": [
    "## <font color = \"blue\">First Layer (Convolution)</font>"
   ]
  },
  {
   "cell_type": "code",
   "execution_count": 194,
   "metadata": {
    "scrolled": true
   },
   "outputs": [
    {
     "name": "stderr",
     "output_type": "stream",
     "text": [
      "/home/kaushik/.local/lib/python3.5/site-packages/ipykernel_launcher.py:2: RuntimeWarning: overflow encountered in exp\n",
      "  \n"
     ]
    },
    {
     "name": "stdout",
     "output_type": "stream",
     "text": [
      "Output After First Layer(Convolution) : \n",
      "Output Shape :  (28, 28, 6)\n"
     ]
    },
    {
     "data": {
      "image/png": "[encoded data removed]",
      "text/plain": [
       "<Figure size 504x504 with 6 Axes>"
      ]
     },
     "metadata": {
      "needs_background": "light"
     },
     "output_type": "display_data"
    }
   ],
   "source": [
    "layer1_conv = CNN.convolve(img, [5, 5, 6], 1, sigmoid)\n",
    "plot(layer1_conv, 3, 2, \"Output After First Layer(Convolution) : \")"
   ]
  },
  {
   "cell_type": "markdown",
   "metadata": {},
   "source": [
    "## <font color = \"blue\">Second Layer (Max Pooling)</font>"
   ]
  },
  {
   "cell_type": "code",
   "execution_count": 195,
   "metadata": {
    "colab": {
     "base_uri": "https://localhost:8080/",
     "height": 665
    },
    "colab_type": "code",
    "executionInfo": {
     "elapsed": 2810,
     "status": "ok",
     "timestamp": 1551795283733,
     "user": {
      "displayName": "Hitesh Kaushik",
      "photoUrl": "",
      "userId": "12393140368704698022"
     },
     "user_tz": -330
    },
    "id": "MepnchdlAlNJ",
    "outputId": "4fa6cb81-6ecc-4ea2-ed3c-554dac64aa8c",
    "scrolled": true
   },
   "outputs": [
    {
     "name": "stdout",
     "output_type": "stream",
     "text": [
      "Output After Second Layer(Max Pool) : \n",
      "Output Shape :  (14, 14, 6)\n"
     ]
    },
    {
     "data": {
      "image/png": "[encoded data removed]",
      "text/plain": [
       "<Figure size 504x504 with 6 Axes>"
      ]
     },
     "metadata": {
      "needs_background": "light"
     },
     "output_type": "display_data"
    }
   ],
   "source": [
    "layer2_max_pool_sigm = CNN.pooling(layer1_conv_sigm, 2, 2)\n",
    "plot(layer2_max_pool_sigm, 3, 2, \"Output After Second Layer(Max Pool) : \")"
   ]
  },
  {
   "cell_type": "markdown",
   "metadata": {},
   "source": [
    "## <font color = \"blue\">Third Layer (Convolution)</font>"
   ]
  },
  {
   "cell_type": "code",
   "execution_count": 196,
   "metadata": {
    "colab": {
     "base_uri": "https://localhost:8080/",
     "height": 831
    },
    "colab_type": "code",
    "executionInfo": {
     "elapsed": 5353,
     "status": "ok",
     "timestamp": 1551795290396,
     "user": {
      "displayName": "Hitesh Kaushik",
      "photoUrl": "",
      "userId": "12393140368704698022"
     },
     "user_tz": -330
    },
    "id": "xKWGbjjp1AQt",
    "outputId": "b567f49c-6b1a-4a5d-8499-c11033a456d8"
   },
   "outputs": [
    {
     "name": "stdout",
     "output_type": "stream",
     "text": [
      "Output After Third Layer(Convolution) : \n",
      "Output Shape :  (10, 10, 16)\n"
     ]
    },
    {
     "data": {
      "image/png": "[encoded data removed]",
      "text/plain": [
       "<Figure size 504x504 with 16 Axes>"
      ]
     },
     "metadata": {
      "needs_background": "light"
     },
     "output_type": "display_data"
    }
   ],
   "source": [
    "layer3_conv_sigm = CNN.convolve(layer2_max_pool_sigm, [5, 5, 16], 1, sigmoid)\n",
    "plot(layer3_conv_sigm, 4, 4, \"Output After Third Layer(Convolution) : \")"
   ]
  },
  {
   "cell_type": "markdown",
   "metadata": {},
   "source": [
    "## <font color = \"blue\">Fourth Layer (Max Pooling)</font>"
   ]
  },
  {
   "cell_type": "code",
   "execution_count": 197,
   "metadata": {
    "colab": {
     "base_uri": "https://localhost:8080/",
     "height": 835
    },
    "colab_type": "code",
    "executionInfo": {
     "elapsed": 5383,
     "status": "ok",
     "timestamp": 1551795297551,
     "user": {
      "displayName": "Hitesh Kaushik",
      "photoUrl": "",
      "userId": "12393140368704698022"
     },
     "user_tz": -330
    },
    "id": "o4YrvSmz8PWc",
    "outputId": "4df0a681-1424-494f-ee58-d3416974cc26",
    "scrolled": true
   },
   "outputs": [
    {
     "name": "stdout",
     "output_type": "stream",
     "text": [
      "Output After Fourth Layer(Max Pool) : \n",
      "Output Shape :  (5, 5, 16)\n"
     ]
    },
    {
     "data": {
      "image/png": "[encoded data removed]",
      "text/plain": [
       "<Figure size 504x504 with 16 Axes>"
      ]
     },
     "metadata": {
      "needs_background": "light"
     },
     "output_type": "display_data"
    }
   ],
   "source": [
    "layer4_max_pool_sigm = CNN.pooling(layer3_conv_sigm, 2, 2)\n",
    "plot(layer4_max_pool_sigm, 4, 4, \"Output After Fourth Layer(Max Pool) : \")"
   ]
  },
  {
   "cell_type": "markdown",
   "metadata": {},
   "source": [
    "## <font color = \"blue\">Fifth Layer (Convolution)</font>"
   ]
  },
  {
   "cell_type": "code",
   "execution_count": 198,
   "metadata": {
    "colab": {
     "base_uri": "https://localhost:8080/",
     "height": 231
    },
    "colab_type": "code",
    "executionInfo": {
     "elapsed": 1380,
     "status": "error",
     "timestamp": 1551795969795,
     "user": {
      "displayName": "Hitesh Kaushik",
      "photoUrl": "",
      "userId": "12393140368704698022"
     },
     "user_tz": -330
    },
    "id": "WUtGvD65-j8w",
    "outputId": "9539c603-26be-4169-f396-f4e6c1f35fb9"
   },
   "outputs": [
    {
     "data": {
      "text/plain": [
       "(120, 1)"
      ]
     },
     "execution_count": 198,
     "metadata": {},
     "output_type": "execute_result"
    }
   ],
   "source": [
    "layer5_conv_sigm = CNN.convolve(layer4_max_pool_sigm, [5, 5, 120], 1, sigmoid)\n",
    "layer5_conv_sigm = np.reshape(layer5_conv_sigm, (120,1))\n",
    "layer5_conv_sigm.shape"
   ]
  },
  {
   "cell_type": "markdown",
   "metadata": {},
   "source": [
    "## <font color = \"blue\">Sixth Layer (Fully Connected)</font>"
   ]
  },
  {
   "cell_type": "code",
   "execution_count": 199,
   "metadata": {
    "colab": {
     "base_uri": "https://localhost:8080/",
     "height": 34
    },
    "colab_type": "code",
    "executionInfo": {
     "elapsed": 1260,
     "status": "ok",
     "timestamp": 1551792693641,
     "user": {
      "displayName": "Hitesh Kaushik",
      "photoUrl": "",
      "userId": "12393140368704698022"
     },
     "user_tz": -330
    },
    "id": "z04cqAm2_OHQ",
    "outputId": "623472bb-b4f2-42cd-a77a-443210e8a8c1"
   },
   "outputs": [
    {
     "data": {
      "text/plain": [
       "(84, 1)"
      ]
     },
     "execution_count": 199,
     "metadata": {},
     "output_type": "execute_result"
    }
   ],
   "source": [
    "layer6_fc_sigm = CNN.fullyConnected(layer5_conv_sigm, 84, layer5_conv_sigm.shape[0], sigmoid, None)\n",
    "layer6_fc_sigm.shape"
   ]
  },
  {
   "cell_type": "markdown",
   "metadata": {},
   "source": [
    "## <font color = \"blue\">Seventh Layer (Fully Connected With Gaussian Connections)</font>"
   ]
  },
  {
   "cell_type": "code",
   "execution_count": 200,
   "metadata": {
    "colab": {
     "base_uri": "https://localhost:8080/",
     "height": 34
    },
    "colab_type": "code",
    "executionInfo": {
     "elapsed": 1949,
     "status": "ok",
     "timestamp": 1551793078338,
     "user": {
      "displayName": "Hitesh Kaushik",
      "photoUrl": "",
      "userId": "12393140368704698022"
     },
     "user_tz": -330
    },
    "id": "WtKjemxS_yMg",
    "outputId": "f98fbb56-d479-4855-e1d3-dadbfc5260bf",
    "scrolled": true
   },
   "outputs": [
    {
     "name": "stdout",
     "output_type": "stream",
     "text": [
      "(10, 1)\n"
     ]
    },
    {
     "data": {
      "text/plain": [
       "array([[148.23172505],\n",
       "       [108.6318974 ],\n",
       "       [141.3336595 ],\n",
       "       [134.2060185 ],\n",
       "       [ 93.95882295],\n",
       "       [117.67231118],\n",
       "       [130.5639457 ],\n",
       "       [132.66676485],\n",
       "       [ 95.10643388],\n",
       "       [140.26181641]])"
      ]
     },
     "execution_count": 200,
     "metadata": {},
     "output_type": "execute_result"
    }
   ],
   "source": [
    "layer7_fc_sigm = CNN.fullyConnected(layer6_fc_sigm, 10, layer6_fc_sigm.shape[0], sigmoid, \"Gaussian\")\n",
    "layer7_fc_sigm = np.reshape(layer7_fc_sigm, (10,1))\n",
    "print(layer7_fc_sigm.shape)\n",
    "layer7_fc_sigm"
   ]
  },
  {
   "cell_type": "markdown",
   "metadata": {
    "colab": {},
    "colab_type": "code",
    "id": "noDAgre_I67U"
   },
   "source": [
    "# CNN Forward Propagation Using Tanh"
   ]
  },
  {
   "cell_type": "markdown",
   "metadata": {},
   "source": [
    "## <font color = \"blue\">First Layer (Convolution)</font>"
   ]
  },
  {
   "cell_type": "code",
   "execution_count": 201,
   "metadata": {
    "scrolled": true
   },
   "outputs": [
    {
     "name": "stdout",
     "output_type": "stream",
     "text": [
      "Output After First Layer(Convolution) : \n",
      "Output Shape :  (28, 28, 6)\n"
     ]
    },
    {
     "data": {
      "image/png": "[encoded data removed]",
      "text/plain": [
       "<Figure size 504x504 with 6 Axes>"
      ]
     },
     "metadata": {
      "needs_background": "light"
     },
     "output_type": "display_data"
    }
   ],
   "source": [
    "layer1_conv_tanh = CNN.convolve(img, [5, 5, 6], 1, tanh)\n",
    "plot(layer1_conv_tanh, 3, 2, \"Output After First Layer(Convolution) : \")"
   ]
  },
  {
   "cell_type": "markdown",
   "metadata": {},
   "source": [
    "## <font color = \"blue\">Second Layer (Max Pooling)</font>"
   ]
  },
  {
   "cell_type": "code",
   "execution_count": 202,
   "metadata": {
    "colab": {
     "base_uri": "https://localhost:8080/",
     "height": 665
    },
    "colab_type": "code",
    "executionInfo": {
     "elapsed": 2810,
     "status": "ok",
     "timestamp": 1551795283733,
     "user": {
      "displayName": "Hitesh Kaushik",
      "photoUrl": "",
      "userId": "12393140368704698022"
     },
     "user_tz": -330
    },
    "id": "MepnchdlAlNJ",
    "outputId": "4fa6cb81-6ecc-4ea2-ed3c-554dac64aa8c",
    "scrolled": true
   },
   "outputs": [
    {
     "name": "stdout",
     "output_type": "stream",
     "text": [
      "Output After Second Layer(Max Pool) : \n",
      "Output Shape :  (14, 14, 6)\n"
     ]
    },
    {
     "data": {
      "image/png": "[encoded data removed]",
      "text/plain": [
       "<Figure size 504x504 with 6 Axes>"
      ]
     },
     "metadata": {
      "needs_background": "light"
     },
     "output_type": "display_data"
    }
   ],
   "source": [
    "layer2_max_pool_tanh = CNN.pooling(layer1_conv_tanh, 2, 2)\n",
    "plot(layer2_max_pool_tanh, 3, 2, \"Output After Second Layer(Max Pool) : \")"
   ]
  },
  {
   "cell_type": "markdown",
   "metadata": {},
   "source": [
    "## <font color = \"blue\">Third Layer (Convolution)</font>"
   ]
  },
  {
   "cell_type": "code",
   "execution_count": 203,
   "metadata": {
    "colab": {
     "base_uri": "https://localhost:8080/",
     "height": 831
    },
    "colab_type": "code",
    "executionInfo": {
     "elapsed": 5353,
     "status": "ok",
     "timestamp": 1551795290396,
     "user": {
      "displayName": "Hitesh Kaushik",
      "photoUrl": "",
      "userId": "12393140368704698022"
     },
     "user_tz": -330
    },
    "id": "xKWGbjjp1AQt",
    "outputId": "b567f49c-6b1a-4a5d-8499-c11033a456d8"
   },
   "outputs": [
    {
     "name": "stdout",
     "output_type": "stream",
     "text": [
      "Output After Third Layer(Convolution) : \n",
      "Output Shape :  (10, 10, 16)\n"
     ]
    },
    {
     "data": {
      "image/png": "[encoded data removed]",
      "text/plain": [
       "<Figure size 504x504 with 16 Axes>"
      ]
     },
     "metadata": {
      "needs_background": "light"
     },
     "output_type": "display_data"
    }
   ],
   "source": [
    "layer3_conv_tanh = CNN.convolve(layer2_max_pool_tanh, [5, 5, 16], 1, tanh)\n",
    "plot(layer3_conv_tanh, 4, 4, \"Output After Third Layer(Convolution) : \")"
   ]
  },
  {
   "cell_type": "markdown",
   "metadata": {},
   "source": [
    "## <font color = \"blue\">Fourth Layer (Max Pooling)</font>"
   ]
  },
  {
   "cell_type": "code",
   "execution_count": 204,
   "metadata": {
    "colab": {
     "base_uri": "https://localhost:8080/",
     "height": 835
    },
    "colab_type": "code",
    "executionInfo": {
     "elapsed": 5383,
     "status": "ok",
     "timestamp": 1551795297551,
     "user": {
      "displayName": "Hitesh Kaushik",
      "photoUrl": "",
      "userId": "12393140368704698022"
     },
     "user_tz": -330
    },
    "id": "o4YrvSmz8PWc",
    "outputId": "4df0a681-1424-494f-ee58-d3416974cc26",
    "scrolled": true
   },
   "outputs": [
    {
     "name": "stdout",
     "output_type": "stream",
     "text": [
      "Output After Fourth Layer(Max Pool) : \n",
      "Output Shape :  (5, 5, 16)\n"
     ]
    },
    {
     "data": {
      "image/png": "[encoded data removed]",
      "text/plain": [
       "<Figure size 504x504 with 16 Axes>"
      ]
     },
     "metadata": {
      "needs_background": "light"
     },
     "output_type": "display_data"
    }
   ],
   "source": [
    "layer4_max_pool_tanh = CNN.pooling(layer3_conv_tanh, 2, 2)\n",
    "plot(layer4_max_pool_tanh, 4, 4, \"Output After Fourth Layer(Max Pool) : \")"
   ]
  },
  {
   "cell_type": "markdown",
   "metadata": {},
   "source": [
    "## <font color = \"blue\">Fifth Layer (Convolution)</font>"
   ]
  },
  {
   "cell_type": "code",
   "execution_count": 205,
   "metadata": {
    "colab": {
     "base_uri": "https://localhost:8080/",
     "height": 231
    },
    "colab_type": "code",
    "executionInfo": {
     "elapsed": 1380,
     "status": "error",
     "timestamp": 1551795969795,
     "user": {
      "displayName": "Hitesh Kaushik",
      "photoUrl": "",
      "userId": "12393140368704698022"
     },
     "user_tz": -330
    },
    "id": "WUtGvD65-j8w",
    "outputId": "9539c603-26be-4169-f396-f4e6c1f35fb9"
   },
   "outputs": [
    {
     "data": {
      "text/plain": [
       "(120, 1)"
      ]
     },
     "execution_count": 205,
     "metadata": {},
     "output_type": "execute_result"
    }
   ],
   "source": [
    "layer5_conv_tanh = CNN.convolve(layer4_max_pool_tanh, [5, 5, 120], 1, tanh)\n",
    "layer5_conv_tanh = np.reshape(layer5_conv_tanh, (120,1))\n",
    "layer5_conv_tanh.shape"
   ]
  },
  {
   "cell_type": "markdown",
   "metadata": {},
   "source": [
    "## <font color = \"blue\">Sixth Layer (Fully Connected)</font>"
   ]
  },
  {
   "cell_type": "code",
   "execution_count": 206,
   "metadata": {
    "colab": {
     "base_uri": "https://localhost:8080/",
     "height": 34
    },
    "colab_type": "code",
    "executionInfo": {
     "elapsed": 1260,
     "status": "ok",
     "timestamp": 1551792693641,
     "user": {
      "displayName": "Hitesh Kaushik",
      "photoUrl": "",
      "userId": "12393140368704698022"
     },
     "user_tz": -330
    },
    "id": "z04cqAm2_OHQ",
    "outputId": "623472bb-b4f2-42cd-a77a-443210e8a8c1"
   },
   "outputs": [
    {
     "data": {
      "text/plain": [
       "(84, 1)"
      ]
     },
     "execution_count": 206,
     "metadata": {},
     "output_type": "execute_result"
    }
   ],
   "source": [
    "layer6_fc_tanh = CNN.fullyConnected(layer5_conv_tanh, 84, layer5_conv_tanh.shape[0], tanh, None)\n",
    "layer6_fc_tanh.shape"
   ]
  },
  {
   "cell_type": "markdown",
   "metadata": {},
   "source": [
    "## <font color = \"blue\">Seventh Layer (Fully Connected With Gaussian Connections)</font>"
   ]
  },
  {
   "cell_type": "code",
   "execution_count": 207,
   "metadata": {
    "colab": {
     "base_uri": "https://localhost:8080/",
     "height": 34
    },
    "colab_type": "code",
    "executionInfo": {
     "elapsed": 1949,
     "status": "ok",
     "timestamp": 1551793078338,
     "user": {
      "displayName": "Hitesh Kaushik",
      "photoUrl": "",
      "userId": "12393140368704698022"
     },
     "user_tz": -330
    },
    "id": "WtKjemxS_yMg",
    "outputId": "f98fbb56-d479-4855-e1d3-dadbfc5260bf"
   },
   "outputs": [
    {
     "name": "stdout",
     "output_type": "stream",
     "text": [
      "(10, 1)\n"
     ]
    },
    {
     "data": {
      "text/plain": [
       "array([[116.81356983],\n",
       "       [199.91451313],\n",
       "       [176.06674156],\n",
       "       [120.26738049],\n",
       "       [211.79268424],\n",
       "       [181.41155848],\n",
       "       [161.125166  ],\n",
       "       [144.9228866 ],\n",
       "       [136.91815891],\n",
       "       [161.85515727]])"
      ]
     },
     "execution_count": 207,
     "metadata": {},
     "output_type": "execute_result"
    }
   ],
   "source": [
    "layer7_fc_tanh = CNN.fullyConnected(layer6_fc_tanh, 10, layer6_fc_tanh.shape[0], tanh, \"Gaussian\")\n",
    "layer7_fc_tanh = np.reshape(layer7_fc_tanh, (10,1))\n",
    "print(layer7_fc_tanh.shape)\n",
    "layer7_fc_tanh"
   ]
  },
  {
   "cell_type": "code",
   "execution_count": null,
   "metadata": {},
   "outputs": [],
   "source": []
  }
 ],
 "metadata": {
  "accelerator": "GPU",
  "colab": {
   "collapsed_sections": [],
   "name": "a6-q-1.ipynb",
   "provenance": [],
   "version": "0.3.2"
  },
  "kernelspec": {
   "display_name": "Python 3",
   "language": "python",
   "name": "python3"
  },
  "language_info": {
   "codemirror_mode": {
    "name": "ipython",
    "version": 3
   },
   "file_extension": ".py",
   "mimetype": "text/x-python",
   "name": "python",
   "nbconvert_exporter": "python",
   "pygments_lexer": "ipython3",
   "version": "3.5.2"
  }
 },
 "nbformat": 4,
 "nbformat_minor": 1
}
