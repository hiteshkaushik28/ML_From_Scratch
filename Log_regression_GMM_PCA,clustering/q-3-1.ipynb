{
 "cells": [
  {
   "cell_type": "markdown",
   "metadata": {},
   "source": [
    "##  One vs One approach"
   ]
  },
  {
   "cell_type": "code",
   "execution_count": 150,
   "metadata": {},
   "outputs": [],
   "source": [
    "import pandas as pd\n",
    "import numpy as np\n",
    "import math\n",
    "import operator\n",
    "from numpy import log2 as log\n",
    "from sklearn.metrics import confusion_matrix, accuracy_score\n",
    "from matplotlib import pyplot as plt\n",
    "eps = np.finfo(float).eps\n",
    "\n",
    "df = pd.read_csv(\"../Input Data/wine-quality/data.csv\")\n",
    "df = df.sample(frac=1).reset_index(drop=True)\n",
    "train_data, val_data = np.split(df,[int(0.8*len(df))])\n",
    "threshold = 0.5 # consider this as standard value of threshold\n"
   ]
  },
  {
   "cell_type": "code",
   "execution_count": 188,
   "metadata": {},
   "outputs": [],
   "source": [
    "def initialize_train(data, label1, label2):\n",
    "    theta = np.zeros((data.shape[1], 1))\n",
    "    data = data.loc[data['quality'].isin([label1, label2])]\n",
    "    X = (data.iloc[:,:-1] - data.iloc[:,:-1].mean()) / data.iloc[:,:-1].std()\n",
    "    X = np.c_[np.ones((X.shape[0], 1)), X]\n",
    "    y = data.iloc[:,-1]\n",
    "    y = np.where(y == label1, 1, 0)\n",
    "    y = y[:, np.newaxis]\n",
    "    return X, y, theta"
   ]
  },
  {
   "cell_type": "code",
   "execution_count": 152,
   "metadata": {},
   "outputs": [],
   "source": [
    "def initialize_test(data):\n",
    "    X = (data.iloc[:,:-1] - data.iloc[:,:-1].mean()) / data.iloc[:,:-1].std()\n",
    "    X = np.c_[np.ones((X.shape[0], 1)), X]\n",
    "    y = data.iloc[:,-1]\n",
    "    y = y[:, np.newaxis]\n",
    "    return X, y"
   ]
  },
  {
   "cell_type": "code",
   "execution_count": 143,
   "metadata": {},
   "outputs": [],
   "source": [
    "def sigmoid(theta, X):\n",
    "    # Activation function used to map any real value between 0 and 1\n",
    "    val = 1 / (1 + np.exp(-np.dot(X, theta)))\n",
    "    return val"
   ]
  },
  {
   "cell_type": "code",
   "execution_count": 144,
   "metadata": {},
   "outputs": [],
   "source": [
    "def cost_function(theta, X, y):\n",
    "    # Computes the cost function for all the training samples\n",
    "    m = X.shape[0]\n",
    "    sig_val = sigmoid(theta, X)\n",
    "    total_cost = -(1 / m) * np.sum(y * np.log(sig_val) + (1 - y) * np.log(1 - sig_val))\n",
    "    return total_cost"
   ]
  },
  {
   "cell_type": "code",
   "execution_count": 145,
   "metadata": {},
   "outputs": [],
   "source": [
    "def gradient(theta, X, y, change = 0.001, alpha = 0.001):\n",
    "    # Computes the gradient of the cost function at the point theta\n",
    "    m = X.shape[0]\n",
    "    cost_change = 1\n",
    "    iterations = 1\n",
    "    cost = cost_function(theta, X, y)\n",
    "    \n",
    "    while cost_change > change:\n",
    "        old_cost = cost\n",
    "        temp = (alpha) * np.dot((sigmoid(theta,X) - y).T, X)\n",
    "        theta = theta - temp.T\n",
    "        cost = cost_function(theta, X, y)\n",
    "        cost_change = old_cost - cost\n",
    "        iterations += 1\n",
    "        \n",
    "    return theta, iterations"
   ]
  },
  {
   "cell_type": "code",
   "execution_count": 199,
   "metadata": {},
   "outputs": [],
   "source": [
    "def predict(theta, X, label1, label2):\n",
    "    predicted_probab = sigmoid(theta, X)\n",
    "    predicted_val = np.where(predicted_probab >= 0.5, 1, 0)\n",
    "    return predicted_val[0]"
   ]
  },
  {
   "cell_type": "code",
   "execution_count": 209,
   "metadata": {},
   "outputs": [],
   "source": [
    "def all_thetas():\n",
    "    all_set = {}\n",
    "    for i in range(3,9): #consider i as positive if probab >= 0.5\n",
    "        for j in range(i+1, 10):\n",
    "            X, y, theta = initialize_train(train_data, i, j)\n",
    "            theta, iterations = gradient(theta, X, y)\n",
    "            all_set[str(i)+'-'+str(j)] = theta\n",
    "    return all_set"
   ]
  },
  {
   "cell_type": "code",
   "execution_count": 216,
   "metadata": {
    "scrolled": true
   },
   "outputs": [],
   "source": [
    "def logistic():\n",
    "    val_x, val_y = initialize_test(val_data)\n",
    "    Thetas = all_thetas()\n",
    "    my_pred = []\n",
    "    for row in val_x:\n",
    "        max_class = {}    \n",
    "        for theta in Thetas:\n",
    "            k = theta.split('-')\n",
    "            i = int(k[0])\n",
    "            j = int(k[1])\n",
    "            predicted = predict(Thetas[theta], row, i, j)\n",
    "            if predicted == 1:\n",
    "                predicted = i\n",
    "            else:\n",
    "                predicted = j\n",
    "            if predicted  not in max_class:\n",
    "                max_class[predicted] = 1\n",
    "            else:\n",
    "                max_class[predicted] += 1\n",
    "        sorted_votes = sorted(max_class.items(), key=operator.itemgetter(1), reverse = True)\n",
    "        my_pred.append(sorted_votes[0][0])\n",
    "    \n",
    "    actual = np.squeeze(val_y)\n",
    "    confusion_mat = confusion_matrix(actual,my_pred)\n",
    "    print(confusion_mat)\n",
    "    print(accuracy_score(actual, my_pred)*100)"
   ]
  },
  {
   "cell_type": "code",
   "execution_count": 217,
   "metadata": {
    "scrolled": true
   },
   "outputs": [
    {
     "name": "stdout",
     "output_type": "stream",
     "text": [
      "[[  0   0   0   1   1   0]\n",
      " [  0   2  22  12   0   0]\n",
      " [  0   1 161 106   4   0]\n",
      " [  0   0  82 262  34   0]\n",
      " [  0   0  19 100  47   0]\n",
      " [  0   0   0  20   8   0]]\n",
      "53.51473922902494\n"
     ]
    }
   ],
   "source": [
    "logistic()"
   ]
  },
  {
   "cell_type": "code",
   "execution_count": 218,
   "metadata": {},
   "outputs": [
    {
     "data": {
      "text/plain": [
       "array([5, 6, 7, 4, 8, 3, 9])"
      ]
     },
     "execution_count": 218,
     "metadata": {},
     "output_type": "execute_result"
    }
   ],
   "source": [
    "df['quality'].unique()"
   ]
  },
  {
   "cell_type": "code",
   "execution_count": null,
   "metadata": {},
   "outputs": [],
   "source": []
  }
 ],
 "metadata": {
  "kernelspec": {
   "display_name": "Python 3",
   "language": "python",
   "name": "python3"
  },
  "language_info": {
   "codemirror_mode": {
    "name": "ipython",
    "version": 3
   },
   "file_extension": ".py",
   "mimetype": "text/x-python",
   "name": "python",
   "nbconvert_exporter": "python",
   "pygments_lexer": "ipython3",
   "version": "3.7.1"
  }
 },
 "nbformat": 4,
 "nbformat_minor": 2
}
