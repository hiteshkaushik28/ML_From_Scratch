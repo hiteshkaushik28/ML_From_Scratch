{
 "cells": [
  {
   "cell_type": "markdown",
   "metadata": {},
   "source": [
    "# Part 6 : Explain how decision tree is suitable handle missing values(few attributes missing in test samples) in data.\n",
    "## <font color = blue> Some of the methods are listed below :</font>\n",
    "### <div style=\"text-align: justify\">1. Using Distribution of the attribute values : In this approach, the distribution of possible missing value is estimated and corresponding model predictions are combined probabilistically. At the time of testing, a test instance with missing value is split into branches according to the portions of training examples falling into those branches and goes down to leaves.</div>\n",
    "### <div style=\"text-align: justify\">2. Another approach is to treat missing value as a normal value, ‘Null’ in tree construction and testing process. As values might be missing for certain reason, it might be good idea to assign a special value. There are two drawbacks of this method. Firstly, it does not try to identify the original known values as missing values are considered as equally as a original value. Another disadvantage is, in case of more than one actual missing values and replacing all of them by one value ‘null’ may not be correct. Also, subtrees can be built under the null branch, oddly suggesting that the missing value is more discriminating then the known value. The advantage of this method is that all the records can be used for tree building and it is very simple to implement. This approach handles the missing at the training time as well.</div>\n",
    "### <div style=\"text-align: justify\">Simply discarding the record with missing values. This approach may lead to loss of important data.</div>\n",
    "\n",
    "    "
   ]
  }
 ],
 "metadata": {
  "kernelspec": {
   "display_name": "Python 3",
   "language": "python",
   "name": "python3"
  },
  "language_info": {
   "codemirror_mode": {
    "name": "ipython",
    "version": 3
   },
   "file_extension": ".py",
   "mimetype": "text/x-python",
   "name": "python",
   "nbconvert_exporter": "python",
   "pygments_lexer": "ipython3",
   "version": "3.5.2"
  }
 },
 "nbformat": 4,
 "nbformat_minor": 2
}
